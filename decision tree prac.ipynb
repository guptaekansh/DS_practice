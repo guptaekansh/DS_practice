{
 "cells": [
  {
   "cell_type": "code",
   "execution_count": 1,
   "metadata": {},
   "outputs": [],
   "source": [
    "#importing libraries\n",
    "import pandas as pd\n",
    "import numpy as np\n",
    "import matplotlib.pyplot as plt\n",
    "%matplotlib inline\n",
    "import warnings\n",
    "warnings.filterwarnings('ignore')"
   ]
  },
  {
   "cell_type": "markdown",
   "metadata": {},
   "source": [
    "### Loading Data"
   ]
  },
  {
   "cell_type": "code",
   "execution_count": 2,
   "metadata": {},
   "outputs": [],
   "source": [
    "Rest_data=pd.read_excel(r'decision tree/Data_Train.xlsx')"
   ]
  },
  {
   "cell_type": "code",
   "execution_count": 4,
   "metadata": {},
   "outputs": [],
   "source": [
    "Rest_data_test=pd.read_excel(r'decision tree/Data_Test.xlsx')"
   ]
  },
  {
   "cell_type": "markdown",
   "metadata": {},
   "source": [
    "### EDA"
   ]
  },
  {
   "cell_type": "code",
   "execution_count": 5,
   "metadata": {},
   "outputs": [
    {
     "data": {
      "text/html": [
       "<div>\n",
       "<style scoped>\n",
       "    .dataframe tbody tr th:only-of-type {\n",
       "        vertical-align: middle;\n",
       "    }\n",
       "\n",
       "    .dataframe tbody tr th {\n",
       "        vertical-align: top;\n",
       "    }\n",
       "\n",
       "    .dataframe thead th {\n",
       "        text-align: right;\n",
       "    }\n",
       "</style>\n",
       "<table border=\"1\" class=\"dataframe\">\n",
       "  <thead>\n",
       "    <tr style=\"text-align: right;\">\n",
       "      <th></th>\n",
       "      <th>TITLE</th>\n",
       "      <th>RESTAURANT_ID</th>\n",
       "      <th>CUISINES</th>\n",
       "      <th>TIME</th>\n",
       "      <th>CITY</th>\n",
       "      <th>LOCALITY</th>\n",
       "      <th>RATING</th>\n",
       "      <th>VOTES</th>\n",
       "      <th>COST</th>\n",
       "    </tr>\n",
       "  </thead>\n",
       "  <tbody>\n",
       "    <tr>\n",
       "      <th>12685</th>\n",
       "      <td>QUICK BITES</td>\n",
       "      <td>13228</td>\n",
       "      <td>North Indian, Burger, Kebab</td>\n",
       "      <td>12noon – 12midnight (Mon, Tue, Wed, Thu, Sun)...</td>\n",
       "      <td>Hyderabad</td>\n",
       "      <td>Gachibowli</td>\n",
       "      <td>3.8</td>\n",
       "      <td>546 votes</td>\n",
       "      <td>500</td>\n",
       "    </tr>\n",
       "    <tr>\n",
       "      <th>12686</th>\n",
       "      <td>CASUAL DINING,BAR</td>\n",
       "      <td>9686</td>\n",
       "      <td>Goan, Continental</td>\n",
       "      <td>12noon – 1am (Mon-Fri),11am – 5pm, 7pm – 1am...</td>\n",
       "      <td>Mumbai</td>\n",
       "      <td>Bandra Kurla Complex</td>\n",
       "      <td>4.3</td>\n",
       "      <td>1214 votes</td>\n",
       "      <td>1800</td>\n",
       "    </tr>\n",
       "    <tr>\n",
       "      <th>12687</th>\n",
       "      <td>LOUNGE</td>\n",
       "      <td>11133</td>\n",
       "      <td>Finger Food, Continental, Asian, Chinese</td>\n",
       "      <td>12noon – 12:30AM (Mon-Sun)</td>\n",
       "      <td>Navi Mumbai</td>\n",
       "      <td>Vashi</td>\n",
       "      <td>4.0</td>\n",
       "      <td>608 votes</td>\n",
       "      <td>1300</td>\n",
       "    </tr>\n",
       "    <tr>\n",
       "      <th>12688</th>\n",
       "      <td>CASUAL DINING</td>\n",
       "      <td>6134</td>\n",
       "      <td>North Indian, South Indian, Chinese, Street Food</td>\n",
       "      <td>6am – 10:45pm (Mon-Sun)</td>\n",
       "      <td>Chennai</td>\n",
       "      <td>Maduravoyal</td>\n",
       "      <td>3.5</td>\n",
       "      <td>32 votes</td>\n",
       "      <td>400</td>\n",
       "    </tr>\n",
       "    <tr>\n",
       "      <th>12689</th>\n",
       "      <td>CASUAL DINING</td>\n",
       "      <td>6430</td>\n",
       "      <td>North Indian, Chinese</td>\n",
       "      <td>12:30pm – 11pm (Mon-Sun)</td>\n",
       "      <td>Hyderabad</td>\n",
       "      <td>Vanasthalipuram</td>\n",
       "      <td>3.4</td>\n",
       "      <td>677 votes</td>\n",
       "      <td>600</td>\n",
       "    </tr>\n",
       "  </tbody>\n",
       "</table>\n",
       "</div>"
      ],
      "text/plain": [
       "                   TITLE  RESTAURANT_ID  \\\n",
       "12685        QUICK BITES          13228   \n",
       "12686  CASUAL DINING,BAR           9686   \n",
       "12687             LOUNGE          11133   \n",
       "12688      CASUAL DINING           6134   \n",
       "12689      CASUAL DINING           6430   \n",
       "\n",
       "                                               CUISINES  \\\n",
       "12685                       North Indian, Burger, Kebab   \n",
       "12686                                 Goan, Continental   \n",
       "12687          Finger Food, Continental, Asian, Chinese   \n",
       "12688  North Indian, South Indian, Chinese, Street Food   \n",
       "12689                             North Indian, Chinese   \n",
       "\n",
       "                                                   TIME         CITY  \\\n",
       "12685  12noon – 12midnight (Mon, Tue, Wed, Thu, Sun)...    Hyderabad   \n",
       "12686   12noon – 1am (Mon-Fri),11am – 5pm, 7pm – 1am...       Mumbai   \n",
       "12687                        12noon – 12:30AM (Mon-Sun)  Navi Mumbai   \n",
       "12688                           6am – 10:45pm (Mon-Sun)      Chennai   \n",
       "12689                          12:30pm – 11pm (Mon-Sun)    Hyderabad   \n",
       "\n",
       "                   LOCALITY RATING       VOTES  COST  \n",
       "12685            Gachibowli    3.8   546 votes   500  \n",
       "12686  Bandra Kurla Complex    4.3  1214 votes  1800  \n",
       "12687                 Vashi    4.0   608 votes  1300  \n",
       "12688           Maduravoyal    3.5    32 votes   400  \n",
       "12689       Vanasthalipuram    3.4   677 votes   600  "
      ]
     },
     "execution_count": 5,
     "metadata": {},
     "output_type": "execute_result"
    }
   ],
   "source": [
    "Rest_data.tail()"
   ]
  },
  {
   "cell_type": "code",
   "execution_count": 6,
   "metadata": {},
   "outputs": [
    {
     "data": {
      "text/plain": [
       "(12690, 9)"
      ]
     },
     "execution_count": 6,
     "metadata": {},
     "output_type": "execute_result"
    }
   ],
   "source": [
    "Rest_data.shape"
   ]
  },
  {
   "cell_type": "code",
   "execution_count": 7,
   "metadata": {},
   "outputs": [
    {
     "data": {
      "text/plain": [
       "(4231, 8)"
      ]
     },
     "execution_count": 7,
     "metadata": {},
     "output_type": "execute_result"
    }
   ],
   "source": [
    "Rest_data_test.shape"
   ]
  },
  {
   "cell_type": "code",
   "execution_count": 8,
   "metadata": {},
   "outputs": [
    {
     "data": {
      "text/plain": [
       "array([ 1200,  1500,   800,   300,   600,  1600,   200,   900,   400,\n",
       "        1400,   350,   500,   450,   700,  1000,   250,  2000,  1100,\n",
       "         100,   850,  2500,  1800,   150,   650,  3500,   750,   950,\n",
       "        1300,   180,  2100,   550,    50,  1900,  1750,  1350,    60,\n",
       "        2200,  5000,    80,  3300,  3800,  1450,  4000,  2800,   120,\n",
       "        4500,  2400,  1700,  3000,  2600,  5200, 14000,  1550,  4200,\n",
       "        3700,  1150,  2700,   130,  8000,  3200,  5500,  6500,  1050,\n",
       "       10000,  3600,   313,  3400,  2300,  3100,  1250,    20,  1650,\n",
       "        1850,  6000,   140,  4100,  4050,  2900,   599,  7000,   299,\n",
       "         370,  1950,   320,  1260,    70], dtype=int64)"
      ]
     },
     "execution_count": 8,
     "metadata": {},
     "output_type": "execute_result"
    }
   ],
   "source": [
    "Rest_data['COST'].unique()"
   ]
  },
  {
   "cell_type": "code",
   "execution_count": 9,
   "metadata": {},
   "outputs": [],
   "source": [
    "Rest_data_test['COST']=1"
   ]
  },
  {
   "cell_type": "code",
   "execution_count": 10,
   "metadata": {},
   "outputs": [
    {
     "data": {
      "text/html": [
       "<div>\n",
       "<style scoped>\n",
       "    .dataframe tbody tr th:only-of-type {\n",
       "        vertical-align: middle;\n",
       "    }\n",
       "\n",
       "    .dataframe tbody tr th {\n",
       "        vertical-align: top;\n",
       "    }\n",
       "\n",
       "    .dataframe thead th {\n",
       "        text-align: right;\n",
       "    }\n",
       "</style>\n",
       "<table border=\"1\" class=\"dataframe\">\n",
       "  <thead>\n",
       "    <tr style=\"text-align: right;\">\n",
       "      <th></th>\n",
       "      <th>TITLE</th>\n",
       "      <th>RESTAURANT_ID</th>\n",
       "      <th>CUISINES</th>\n",
       "      <th>TIME</th>\n",
       "      <th>CITY</th>\n",
       "      <th>LOCALITY</th>\n",
       "      <th>RATING</th>\n",
       "      <th>VOTES</th>\n",
       "      <th>COST</th>\n",
       "    </tr>\n",
       "  </thead>\n",
       "  <tbody>\n",
       "    <tr>\n",
       "      <th>0</th>\n",
       "      <td>CASUAL DINING</td>\n",
       "      <td>4085</td>\n",
       "      <td>North Indian, Chinese, Mughlai, Kebab</td>\n",
       "      <td>12noon – 12midnight (Mon-Sun)</td>\n",
       "      <td>Noida</td>\n",
       "      <td>Sector 18</td>\n",
       "      <td>4.3</td>\n",
       "      <td>564 votes</td>\n",
       "      <td>1</td>\n",
       "    </tr>\n",
       "    <tr>\n",
       "      <th>1</th>\n",
       "      <td>QUICK BITES</td>\n",
       "      <td>12680</td>\n",
       "      <td>South Indian, Fast Food, Pizza, North Indian</td>\n",
       "      <td>7am – 12:30AM (Mon-Sun)</td>\n",
       "      <td>Mumbai</td>\n",
       "      <td>Grant Road</td>\n",
       "      <td>4.2</td>\n",
       "      <td>61 votes</td>\n",
       "      <td>1</td>\n",
       "    </tr>\n",
       "    <tr>\n",
       "      <th>2</th>\n",
       "      <td>CASUAL DINING</td>\n",
       "      <td>1411</td>\n",
       "      <td>North Indian, Seafood, Biryani, Chinese</td>\n",
       "      <td>11am – 11:30pm (Mon-Sun)</td>\n",
       "      <td>Mumbai</td>\n",
       "      <td>Marine Lines</td>\n",
       "      <td>3.8</td>\n",
       "      <td>350 votes</td>\n",
       "      <td>1</td>\n",
       "    </tr>\n",
       "    <tr>\n",
       "      <th>3</th>\n",
       "      <td>None</td>\n",
       "      <td>204</td>\n",
       "      <td>Biryani</td>\n",
       "      <td>9am – 10pm (Mon, Wed, Thu, Fri, Sat, Sun), 10:...</td>\n",
       "      <td>Faridabad</td>\n",
       "      <td>NIT</td>\n",
       "      <td>3.8</td>\n",
       "      <td>1445 votes</td>\n",
       "      <td>1</td>\n",
       "    </tr>\n",
       "    <tr>\n",
       "      <th>4</th>\n",
       "      <td>QUICK BITES</td>\n",
       "      <td>13453</td>\n",
       "      <td>South Indian, Kerala</td>\n",
       "      <td>11am – 10pm (Mon-Sun)</td>\n",
       "      <td>Kochi</td>\n",
       "      <td>Kaloor</td>\n",
       "      <td>3.6</td>\n",
       "      <td>23 votes</td>\n",
       "      <td>1</td>\n",
       "    </tr>\n",
       "  </tbody>\n",
       "</table>\n",
       "</div>"
      ],
      "text/plain": [
       "           TITLE  RESTAURANT_ID                                      CUISINES  \\\n",
       "0  CASUAL DINING           4085         North Indian, Chinese, Mughlai, Kebab   \n",
       "1    QUICK BITES          12680  South Indian, Fast Food, Pizza, North Indian   \n",
       "2  CASUAL DINING           1411       North Indian, Seafood, Biryani, Chinese   \n",
       "3           None            204                                       Biryani   \n",
       "4    QUICK BITES          13453                          South Indian, Kerala   \n",
       "\n",
       "                                                TIME       CITY      LOCALITY  \\\n",
       "0                      12noon – 12midnight (Mon-Sun)      Noida     Sector 18   \n",
       "1                            7am – 12:30AM (Mon-Sun)     Mumbai    Grant Road   \n",
       "2                           11am – 11:30pm (Mon-Sun)     Mumbai  Marine Lines   \n",
       "3  9am – 10pm (Mon, Wed, Thu, Fri, Sat, Sun), 10:...  Faridabad           NIT   \n",
       "4                              11am – 10pm (Mon-Sun)      Kochi        Kaloor   \n",
       "\n",
       "  RATING       VOTES  COST  \n",
       "0    4.3   564 votes     1  \n",
       "1    4.2    61 votes     1  \n",
       "2    3.8   350 votes     1  \n",
       "3    3.8  1445 votes     1  \n",
       "4    3.6    23 votes     1  "
      ]
     },
     "execution_count": 10,
     "metadata": {},
     "output_type": "execute_result"
    }
   ],
   "source": [
    "Rest_data_test.head()"
   ]
  },
  {
   "cell_type": "markdown",
   "metadata": {},
   "source": [
    "Here we are merging both Train and Test data. At the time of model preparation we will separate train data from merged Dataset"
   ]
  },
  {
   "cell_type": "code",
   "execution_count": 11,
   "metadata": {},
   "outputs": [],
   "source": [
    "rest_data=pd.concat([Rest_data,Rest_data_test])"
   ]
  },
  {
   "cell_type": "code",
   "execution_count": 12,
   "metadata": {},
   "outputs": [
    {
     "data": {
      "text/plain": [
       "(16921, 9)"
      ]
     },
     "execution_count": 12,
     "metadata": {},
     "output_type": "execute_result"
    }
   ],
   "source": [
    "rest_data.shape"
   ]
  },
  {
   "cell_type": "markdown",
   "metadata": {},
   "source": [
    "12690 train rows + 4231 test rows"
   ]
  },
  {
   "cell_type": "code",
   "execution_count": 13,
   "metadata": {},
   "outputs": [
    {
     "name": "stdout",
     "output_type": "stream",
     "text": [
      "<class 'pandas.core.frame.DataFrame'>\n",
      "RangeIndex: 12690 entries, 0 to 12689\n",
      "Data columns (total 9 columns):\n",
      " #   Column         Non-Null Count  Dtype \n",
      "---  ------         --------------  ----- \n",
      " 0   TITLE          12690 non-null  object\n",
      " 1   RESTAURANT_ID  12690 non-null  int64 \n",
      " 2   CUISINES       12690 non-null  object\n",
      " 3   TIME           12690 non-null  object\n",
      " 4   CITY           12578 non-null  object\n",
      " 5   LOCALITY       12592 non-null  object\n",
      " 6   RATING         12688 non-null  object\n",
      " 7   VOTES          11486 non-null  object\n",
      " 8   COST           12690 non-null  int64 \n",
      "dtypes: int64(2), object(7)\n",
      "memory usage: 892.4+ KB\n"
     ]
    }
   ],
   "source": [
    "Rest_data.info()"
   ]
  },
  {
   "cell_type": "markdown",
   "metadata": {},
   "source": [
    "Obs: Dataset has 8 attributes , COST and Restaurant_id is int type and rest all are object type"
   ]
  },
  {
   "cell_type": "markdown",
   "metadata": {},
   "source": [
    "#### Checking for null values"
   ]
  },
  {
   "cell_type": "code",
   "execution_count": 14,
   "metadata": {},
   "outputs": [
    {
     "data": {
      "text/plain": [
       "TITLE               0\n",
       "RESTAURANT_ID       0\n",
       "CUISINES            0\n",
       "TIME                0\n",
       "CITY              112\n",
       "LOCALITY           98\n",
       "RATING              2\n",
       "VOTES            1204\n",
       "COST                0\n",
       "dtype: int64"
      ]
     },
     "execution_count": 14,
     "metadata": {},
     "output_type": "execute_result"
    }
   ],
   "source": [
    "Rest_data.isna().sum()"
   ]
  },
  {
   "cell_type": "markdown",
   "metadata": {},
   "source": [
    "Obs: CITY, LOCALITY,RATING and VOTES have null values"
   ]
  },
  {
   "cell_type": "markdown",
   "metadata": {},
   "source": [
    "##  Data Preprocessing"
   ]
  },
  {
   "cell_type": "code",
   "execution_count": 15,
   "metadata": {},
   "outputs": [
    {
     "name": "stdout",
     "output_type": "stream",
     "text": [
      "\n",
      " ['Thane' 'Chennai' 'Mumbai' 'Bangalore' 'Gurgaon' 'Hyderabad' 'Kochi'\n",
      " 'Thane West' 'Andheri Lokhandwala' 'New Delhi' 'Andheri West'\n",
      " 'Malad East' '682036' 'Bangalor' 'Navi Mumbai' 'Bandra West' 'Delhi'\n",
      " 'Noida' 'Bangalore-560066' 'Secunderabad' nan 'India' 'Madhuranagar'\n",
      " 'Chennai Teynampet' 'Faridabad' 'Chembur.' 'Maharashtra'\n",
      " 'opp gurudwara Shakurpur' 'Telagana Land Line:040-48507016' 'Ghaziabad'\n",
      " 'Karnataka' 'Kerala' 'Edappally' 'Kadavanthra' 'Ernakulam Circle kochi'\n",
      " 'Bengalore' 'Near Reliance Fresh' 'Kilpauk' 'Bengaluru' 'Kothaguda'\n",
      " 'Goregaon West' 'Banglore' 'Tamil Nadu' 'Kakkanad' 'Kochi Elamkulam'\n",
      " 'Outer Ring Road' 'Mulund East'\n",
      " 'Secunderabad main road near signal NMREC COLLEGE' 'Telangana'\n",
      " 'Ponnuruni Kochi' 'Gachibowli' 'Semmancheri'\n",
      " '5th Main Teachers Colony Koramangala Block 1 Bangalore 560034'\n",
      " 'Mumbai Mahim' 'Powai (Next to Powai Plaza)' 'Dombivali East'\n",
      " 'Kochi Vyttila' 'Kandivali' 'Kochi Palarivattom' 'Dewan Rama Road'\n",
      " 'Gurugram' 'Sector 51 Noida' 'Kaloor' 'Besant Nagar'\n",
      " 'Arumbakkam chennai-600106.' 'Adjacent To Commercial Street' 'Delhi NCR'\n",
      " 'Dwarka' '682035.' 'Kalyan West' 'Avadi' 'Kondapur' 'Mehdipatnam'\n",
      " 'Gandipet' 'Velachery' 'Pallavaram' 'Vijaya Nagar' 'BTM Layout'\n",
      " 'Chennai 600034.'\n",
      " 'Metro Pillar No 21. Mettuguda main road near railway degree college.'\n",
      " 'Chennai - 600040' 'JP Nagar Bangalore' 'Madhapur' 'Ernakulam' 'Sarjapur'\n",
      " 'Whitefield Bangalore' 'Kochi Chullickal' 'Kochi-683101'\n",
      " 'Bangalore - 560076' 'Rohini' 'Hyderabad Behind Vacs Pastries'\n",
      " 'Hyderabad neerus emporium.' 'Navi Mumbai.' 'Karol Bagh' 'Perungudi'\n",
      " 'Thykoodam' 'Greater Noida' 'Bangalore.' 'Khairatabad' 'chullickal'\n",
      " 'Grant Road West' 'Hitech City' 'West Maredpally' 'Mumbai - 400007'\n",
      " 'Chennai Padur' 'Chander Nagar New Delhi' 'Nedumbassery' 'MG Road'\n",
      " 'Naya Nagar Mira Road' 'Pitampura' 'Lower Parel' 'HBR Layout'\n",
      " 'Telangana 500003' 'Rajiv gandhi Nagar' 'New Delhi.' 'Medavakkam'\n",
      " 'Sathya Nagar' 'p.o Kochi' 'Behind Ramalayam Temple' 'Palarivattom'\n",
      " 'Brigade Road' 'Mumbai.' 'Mumbai Andheri East' 'Virar West' 'B-1 Stage'\n",
      " 'Chennai Kovalam' 'Hyderabad.' 'Aluva' 'Telangana 500034'\n",
      " 'IOB Bank Kamala Nagar' 'HSR Layout' 'Marine Drive' 'DLF Galleria'\n",
      " 'Nallathambi Main Road' 'Chennai opp: Vasanth & co' 'Citypark'\n",
      " 'Karnataka 560103' 'Bhayandar' 'Aluva Circle' 'Thammenahalli Village'\n",
      " 'SG Palya' 'Attapur.' 'Near Shangrilla Bus Stop' 'Khar (west)' 'Road 3'\n",
      " 'Kukatpally' 'Faridabd' 'Telangana 500032' 'Dilsukhnagar'\n",
      " 'Mogappair. Chennai' 'Near Munrshwara Temple' 'Off Brigade Road'\n",
      " 'khar west' 'Potheri' 'Chennai Perungudi' 'Chennai Thuraipakkam'\n",
      " 'OMR Karapakkam' 'Hyderabad-500032' 'Mumbai Dombivali East'\n",
      " 'Chennai Thousand Lights' 'Mahim' 'Lingampally' 'Powai'\n",
      " 'New Delhi-110024' 'Chennai- 600107' 'Kerala 683104' 'Vasai West.'\n",
      " 'Thane (W)' 'Near Santosh Banjara Hyderabad'\n",
      " 'Banaswadi (Next to Indian Bank) Bangalore' 'BTM Bangalore'\n",
      " 'Greater Kailash 2 New Delhi' 'Secunderabad ECIL'\n",
      " 'Bangalore Koramangala 7th Block' 'bangalore : 560085' 'navi mumbai'\n",
      " 'Gachibowli Hyderabad'\n",
      " 'CPR layout harlur main road opposite to ozone ever green apartment Bangalore -'\n",
      " 'ECR NEELANKARAI Chennai 600115' 'ward X11' 'kochi' 'Perumbavoor'\n",
      " 'Mira raod east' 'Kerala 682013' 'Chennai.' 'Pokhran Road 2'\n",
      " 'Uttar Pradesh' 'Karnataka 560102' 'Mumbai - 400013' 'Naharpar'\n",
      " 'Hosur Road' 'Near Bharat Petroleum.'\n",
      " 'Chennai (Bang Opposite Indian Bank)' 'Sriram nagar' 'West Mumbai'\n",
      " 'Vyttila' 'Banjara Hills' 'MALAPALLIPURAM P .O THRISSUR'\n",
      " 'Andheri west Mumbai' 'Karnataka 560043' 'Panampilly Nagar' 'hyderabad'\n",
      " 'Borivali East.' 'ECIL' 'Jubilee Hills'\n",
      " 'Amrit kaur market opposite new delhi railway station paharganj'\n",
      " 'Chennai Opposite 5C Bus stand' 'Telengana' 'Kochi Ravipuram' 'Rajanpada'\n",
      " 'Mahabalipuram' 'Secunderabad. WE HAVE NO BRANCHES.' 'Telangana 500081'\n",
      " 'Gurgoan' 'Elamakkara' 'Sector 1' 'Bandra W' 'Kolathur'\n",
      " 'Chennai Mahabalipuram' '3rd Street' 'Mumbai Chakala' 'Borivali West'\n",
      " 'Rodeo Drive Sector 49' 'Pallimukku' 'Delhi 110085' 'Sector 51'\n",
      " 'Champapet' 'Andavar Nagar' 'Bangalore - 560103' 'Kerala 690525'\n",
      " 'opp mukteshwar ashram powai' 'Nungambakkam' 'BK Guda'\n",
      " 'Jogeshwari (w) Mumbai' 'Kukatapally' 'Near Sector 110 Noida' 'Navallur'\n",
      " 'Beside Excellency Gardens' 'Mumbai - 80' 'Begumpet'\n",
      " 'Maharaja Hotel Beside Gardania Bar' 'Ashok Vihar Phase 1' 'Trivandrum'\n",
      " 'Kochi-18' 'Narayanguda' 'Thevera' 'Chennai-40' 'Palm Beach Road'\n",
      " 'East Coast Road (ECR)' 'Ramapuram' 'Chennai Chrompet' 'Nandanam' 'Saket'\n",
      " 'MG Road Ernakulam' 'Andheri Lokhandwala.' 'Indiranagar' 'Thiruvanmiyur'\n",
      " 'Ambattur' 'Banglaore' 'Chennai - 34 Landmark - Near Loyola College'\n",
      " 'Anna Nagar West' 'Old Railway Road' 'East Mumbai'\n",
      " 'Kanakapura Road Banglore' 'Kochi Kakkanad' 'Kalyan'\n",
      " 'Near Ramlila Ground' 'Serilingampally' 'Himayath Nagar' 'Nallala Street'\n",
      " 'Anna Salai' 'Old Delhi' 'Wagle Estate' '1st Stage' 'Kochi-16'\n",
      " 'Kochi International Airport VIP Road' 'First Street' 'Chenn ai'\n",
      " '6 & 7 - 4/64 Subhash Nagar' '1st Tavarekere' 'Perambur'\n",
      " 'Vaishali Ghaziabad' 'Thanisandra' 'Block F' 'Sector 7 Dwarka'\n",
      " 'Opposite Barathi Gas Company' 'Vadapalani' 'Kondapur.' 'Badlapur West.'\n",
      " 'Kalamassery' 'Palavakkam' 'TCS Synergy park' 'BTM 1st Stage'\n",
      " 'Mahadevpura' 'NEW BEL ROAD 560054'\n",
      " 'Veliaveetil house Vivekananda Nagar Elamakkara' 'Sholinganallur'\n",
      " 'Maharashtra 400102' 'Lower Parel West' 'Tripunithura' 'Mogappair'\n",
      " 'Telangana 500070' 'JP Nagar' 'Navi-Mumbai' 'Ashok Nagar' 'Marathahalli'\n",
      " 'Haridwar Apartments' 'Kerala 682001 India' 'Karnataka 560037'\n",
      " 'Kerala 683585' 'Chennai. (Near Hotel Matshya)' 'Indirapuram'\n",
      " 'Begumpet Hyderabad' 'Manikonda'\n",
      " 'Bangalore land mark above mahaveer hard ware' 'Kerala 682304'\n",
      " 'Rajarajeshwari Nagar bangalore' 'GST Road' 'Fort Kochi'\n",
      " 'Lahari Apartments' 'Ramanthapur' 'Mulund west' 'Gurgaon Haryana India'\n",
      " 'New Delhi..Near by SBI bank' 'Kochi Aluva 102' 'Phase 1 Bangalore'\n",
      " 'Hyderabad Manikonda'\n",
      " 'Mumbai This is a Delivery & Take-away Restaurant only.' '10th avenue'\n",
      " 'Uppal' 'New Delhi 110075' 'Nizampet' 'Ulsoo' 'Bangalore 560076'\n",
      " 'PVR plaza cinema building Connaught Place' 'Gurgaon Haryana' 'Chromepet'\n",
      " 'Kerala 682024' 'Janakpuri' 'Secunderabad.' 'chennai'\n",
      " 'B.B.M.P East (Karnataka) - 560049' 'Tambaram' 'Malleshwaram Bangalore'\n",
      " 'Vadapalani.' 'Dist. Center New Delhi' 'Bangalore Road' 'aluva circle'\n",
      " 'Kochi.' 'Thane Mumbai' 'Kadubesanahalli Bangalore' 'Vasai west'\n",
      " 'Mig Housing Society' 'Haryana' 'Borivali West.' 'Golf Course Road'\n",
      " 'Khar Mumbai' 'Near Jyothinivas College' 'Anna Nagar East' 'Masab Tank']\n",
      "\n",
      " ['3.6' '4.2' '3.8' '4.1' '4.0' '4.3' '3.9' '3.3' '3.4' '-' '4.5' '3.5'\n",
      " '4.4' '2.7' '3.7' '4.7' 'NEW' '3.1' '2.5' '4.6' '2.8' nan '3.0' '3.2'\n",
      " '2.6' '2.9' '4.9' '4.8' '2.4' '2.3' '2.0' '2.1' '2.2']\n",
      "\n",
      " ['Dombivali East' 'Ramapuram' 'Saligramam' ... 'Market Road'\n",
      " 'Near Perambur' 'Near Malviya Nagar']\n",
      "\n",
      " ['49 votes' '30 votes' '221 votes' ... '2723 votes' '1426 votes'\n",
      " '1214 votes']\n"
     ]
    }
   ],
   "source": [
    "#checking unique values\n",
    "for i in ['CITY','RATING','LOCALITY','VOTES']:\n",
    "    print('\\n',Rest_data[i].unique())\n",
    "#creating a copy of original train dataset for data analysis\n",
    "#rest_data=Rest_data.copy()"
   ]
  },
  {
   "cell_type": "markdown",
   "metadata": {},
   "source": [
    "#### Dealing with null values"
   ]
  },
  {
   "cell_type": "code",
   "execution_count": 16,
   "metadata": {},
   "outputs": [],
   "source": [
    "#### filling null cities with 'CITYNA'\n",
    "rest_data['CITY'].fillna('CITY_NA',inplace=True)\n",
    "\n",
    "#### filling null Locality with 'LOCALITYNA'\n",
    "rest_data['LOCALITY'].fillna('LOCALITY_NA',inplace=True)\n",
    "\n",
    "#### DEALING WITH RATING\n",
    "##   First converting all irrelevant values to '0' and then converting to float\n",
    "rest_data['RATING'].replace('NEW','0',inplace=True)\n",
    "rest_data['RATING'].replace('-','0',inplace=True)\n",
    "rest_data['RATING'].fillna('0',inplace=True)\n",
    "rest_data['RATING']=rest_data['RATING'].astype(float)\n",
    "rest_data['RATING'].replace('0',rest_data['RATING'].mean(),inplace=True)\n",
    "\n",
    "##### DEALING WITH VOTES:\n",
    "##    First replacing string 'votes' in VOTES with ''\n",
    "rest_data['VOTES'].replace(regex=['votes'],value=\"\",inplace=True)\n",
    "##    filling null values with '0'\n",
    "rest_data['VOTES'].fillna('0',inplace=True)\n",
    "##    Removing leading and tailing spaces\n",
    "rest_data['VOTES']=rest_data['VOTES'].str.strip()\n",
    "##    converting votes to float\n",
    "rest_data['VOTES']=rest_data['VOTES'].astype('int')\n",
    "##    replacing '0' with mean value\n",
    "rest_data['VOTES'].replace(0,rest_data['VOTES'].mean(),inplace=True)\n",
    "rest_data['VOTES']=rest_data['VOTES'].astype('int')"
   ]
  },
  {
   "cell_type": "code",
   "execution_count": 17,
   "metadata": {},
   "outputs": [
    {
     "data": {
      "text/plain": [
       "TITLE            0\n",
       "RESTAURANT_ID    0\n",
       "CUISINES         0\n",
       "TIME             0\n",
       "CITY             0\n",
       "LOCALITY         0\n",
       "RATING           0\n",
       "VOTES            0\n",
       "COST             0\n",
       "dtype: int64"
      ]
     },
     "execution_count": 17,
     "metadata": {},
     "output_type": "execute_result"
    }
   ],
   "source": [
    "rest_data.isna().sum()"
   ]
  },
  {
   "cell_type": "markdown",
   "metadata": {},
   "source": [
    "Null value removed from dataset"
   ]
  },
  {
   "cell_type": "code",
   "execution_count": 18,
   "metadata": {},
   "outputs": [
    {
     "name": "stdout",
     "output_type": "stream",
     "text": [
      "<class 'pandas.core.frame.DataFrame'>\n",
      "Int64Index: 16921 entries, 0 to 4230\n",
      "Data columns (total 9 columns):\n",
      " #   Column         Non-Null Count  Dtype  \n",
      "---  ------         --------------  -----  \n",
      " 0   TITLE          16921 non-null  object \n",
      " 1   RESTAURANT_ID  16921 non-null  int64  \n",
      " 2   CUISINES       16921 non-null  object \n",
      " 3   TIME           16921 non-null  object \n",
      " 4   CITY           16921 non-null  object \n",
      " 5   LOCALITY       16921 non-null  object \n",
      " 6   RATING         16921 non-null  float64\n",
      " 7   VOTES          16921 non-null  int32  \n",
      " 8   COST           16921 non-null  int64  \n",
      "dtypes: float64(1), int32(1), int64(2), object(5)\n",
      "memory usage: 1.2+ MB\n"
     ]
    }
   ],
   "source": [
    "rest_data.info()"
   ]
  },
  {
   "cell_type": "code",
   "execution_count": 19,
   "metadata": {},
   "outputs": [],
   "source": [
    "#### Convrting all string columns to upper case just to ensure that we each value of a attribute in the same case everywhere\n",
    "for i in rest_data.columns:\n",
    "    if(rest_data.dtypes[i]=='O'):\n",
    "        rest_data[i]=rest_data[i].str.upper()"
   ]
  },
  {
   "cell_type": "markdown",
   "metadata": {},
   "source": [
    "### Feature engineering"
   ]
  },
  {
   "cell_type": "code",
   "execution_count": 20,
   "metadata": {},
   "outputs": [
    {
     "name": "stdout",
     "output_type": "stream",
     "text": [
      "TITLE  has maximum  2  strings\n",
      "CUISINES  has maximum  8  strings\n",
      "CITY  has maximum  1  strings\n",
      "LOCALITY  has maximum  1  strings\n"
     ]
    }
   ],
   "source": [
    "### finding maximum number of strings in TITLE separated by ',' in TITLE, CUISINES and LOCALITY\n",
    "for k in ['TITLE','CUISINES','CITY','LOCALITY']:\n",
    "    \n",
    "    l=0\n",
    "    for i in (rest_data[k].to_list()):\n",
    "        le=len(i.split(','))\n",
    "        if(le > l):\n",
    "            l=le\n",
    "    print(k,' has maximum ',l,' strings')"
   ]
  },
  {
   "cell_type": "code",
   "execution_count": 21,
   "metadata": {},
   "outputs": [],
   "source": [
    "rest_data_=rest_data.copy()"
   ]
  },
  {
   "cell_type": "markdown",
   "metadata": {},
   "source": [
    "#### Working on 'TITLE'"
   ]
  },
  {
   "cell_type": "code",
   "execution_count": 22,
   "metadata": {},
   "outputs": [],
   "source": [
    "##### Dividing \"TITLE\" into 2 parts separated by ',' and making separate columns for each part\n",
    "rest_data_['TITLE']=rest_data_['TITLE'].str.split(',')\n",
    "rest_data_['TITLE_1']=rest_data_['TITLE'].str[0]\n",
    "rest_data_['TITLE_2']=rest_data_['TITLE'].str[1]\n",
    "rest_data_['TITLE_1'].fillna('NONE',inplace=True)\n",
    "rest_data_['TITLE_2'].fillna('NONE',inplace=True)\n",
    "rest_data_['TITLE_1']=rest_data_['TITLE_1'].str.strip()\n",
    "rest_data_['TITLE_2']=rest_data_['TITLE_2'].str.strip()"
   ]
  },
  {
   "cell_type": "markdown",
   "metadata": {},
   "source": [
    "#### Working on 'CUISINES'"
   ]
  },
  {
   "cell_type": "code",
   "execution_count": 23,
   "metadata": {},
   "outputs": [],
   "source": [
    "##### Dividing \"CUISINES\" into 8 parts separated by ',' and making separate columns for each part\n",
    "rest_data_['CUISINES']=rest_data_['CUISINES'].str.split(',')\n",
    "for j,k in zip(range(8),['CUISINES_1','CUISINES_2','CUISINES_3','CUISINES_4','CUISINES_5','CUISINES_6','CUISINES_7','CUISINES_8']):\n",
    "    rest_data_[k]=rest_data_['CUISINES'].str[j]\n",
    "    rest_data_[k]=rest_data_[k].str.strip()\n",
    "    rest_data_[k].fillna('CUISINE_NA',inplace=True)"
   ]
  },
  {
   "cell_type": "markdown",
   "metadata": {},
   "source": [
    "#### Working on 'TIME'"
   ]
  },
  {
   "cell_type": "code",
   "execution_count": 24,
   "metadata": {},
   "outputs": [],
   "source": [
    "#### We will only consider number of days the restaurant is open, in our analysis\n",
    "rest_data_['TIME']=rest_data_['TIME'].str.split('(').str[1]\n",
    "rest_data_['TIME']=rest_data_['TIME'].str.split(')').str[0]\n",
    "rest_data_['TIME']=rest_data_['TIME'].str.strip()\n",
    "rest_data_['TIME'].fillna('MON-SUN',inplace=True)\n",
    "Days=[]\n",
    "for i in rest_data_['TIME'].to_list():\n",
    "    if(len(i.split(','))>1):\n",
    "        Days.append(len(i.split(',')))\n",
    "    else:\n",
    "        if(i=='MON-SUN'):           \n",
    "            Days.append('7')\n",
    "        elif(i=='MON-SAT'):\n",
    "            Days.append('6')\n",
    "        elif(i=='MON-FRI'):\n",
    "            Days.append('5')\n",
    "        elif(i=='MON-THU'):\n",
    "            Days.append('4')\n",
    "        elif(i=='MON-WED'):\n",
    "            Days.append('3')\n",
    "        elif(i=='MON-TUE'):\n",
    "            Days.append('2')\n",
    "        else:\n",
    "            Days.append('1')\n",
    "rest_data_['Days']=Days\n",
    "rest_data_['Days']=rest_data_['Days'].astype('int')"
   ]
  },
  {
   "cell_type": "code",
   "execution_count": 25,
   "metadata": {},
   "outputs": [
    {
     "data": {
      "text/plain": [
       "array([7, 6, 1, 5, 4, 2, 3])"
      ]
     },
     "execution_count": 25,
     "metadata": {},
     "output_type": "execute_result"
    }
   ],
   "source": [
    "rest_data_['Days'].unique()"
   ]
  },
  {
   "cell_type": "code",
   "execution_count": 26,
   "metadata": {},
   "outputs": [],
   "source": [
    "# dropping TITLE and CUSINES and TIME columns since we have already converted them:\n",
    "rest_data_.drop(['TITLE','CUISINES','TIME'],inplace=True,axis=1)"
   ]
  },
  {
   "cell_type": "code",
   "execution_count": 27,
   "metadata": {},
   "outputs": [
    {
     "data": {
      "text/plain": [
       "<AxesSubplot:>"
      ]
     },
     "execution_count": 27,
     "metadata": {},
     "output_type": "execute_result"
    },
    {
     "data": {
      "image/png": "[encoded data removed]",
      "text/plain": [
       "<Figure size 432x288 with 2 Axes>"
      ]
     },
     "metadata": {
      "needs_background": "light"
     },
     "output_type": "display_data"
    }
   ],
   "source": [
    "### separating original training dataset for data analysis\n",
    "df_train=rest_data_.iloc[0:12689,:]\n",
    "import seaborn as sb\n",
    "sb.heatmap(df_train.corr(),annot=True)"
   ]
  },
  {
   "cell_type": "markdown",
   "metadata": {},
   "source": [
    "Obs: Rating and votes are positively correlated with COST"
   ]
  },
  {
   "cell_type": "code",
   "execution_count": 28,
   "metadata": {},
   "outputs": [
    {
     "data": {
      "text/html": [
       "<div>\n",
       "<style scoped>\n",
       "    .dataframe tbody tr th:only-of-type {\n",
       "        vertical-align: middle;\n",
       "    }\n",
       "\n",
       "    .dataframe tbody tr th {\n",
       "        vertical-align: top;\n",
       "    }\n",
       "\n",
       "    .dataframe thead th {\n",
       "        text-align: right;\n",
       "    }\n",
       "</style>\n",
       "<table border=\"1\" class=\"dataframe\">\n",
       "  <thead>\n",
       "    <tr style=\"text-align: right;\">\n",
       "      <th></th>\n",
       "      <th>RESTAURANT_ID</th>\n",
       "      <th>RATING</th>\n",
       "      <th>VOTES</th>\n",
       "      <th>COST</th>\n",
       "      <th>Days</th>\n",
       "    </tr>\n",
       "  </thead>\n",
       "  <tbody>\n",
       "    <tr>\n",
       "      <th>count</th>\n",
       "      <td>12689.000000</td>\n",
       "      <td>12689.000000</td>\n",
       "      <td>12689.000000</td>\n",
       "      <td>12689.000000</td>\n",
       "      <td>12689.000000</td>\n",
       "    </tr>\n",
       "    <tr>\n",
       "      <th>mean</th>\n",
       "      <td>7759.238868</td>\n",
       "      <td>3.426298</td>\n",
       "      <td>412.168965</td>\n",
       "      <td>655.256600</td>\n",
       "      <td>6.591930</td>\n",
       "    </tr>\n",
       "    <tr>\n",
       "      <th>std</th>\n",
       "      <td>4505.036218</td>\n",
       "      <td>1.179845</td>\n",
       "      <td>801.845794</td>\n",
       "      <td>627.028056</td>\n",
       "      <td>1.255097</td>\n",
       "    </tr>\n",
       "    <tr>\n",
       "      <th>min</th>\n",
       "      <td>0.000000</td>\n",
       "      <td>0.000000</td>\n",
       "      <td>4.000000</td>\n",
       "      <td>20.000000</td>\n",
       "      <td>1.000000</td>\n",
       "    </tr>\n",
       "    <tr>\n",
       "      <th>25%</th>\n",
       "      <td>3863.000000</td>\n",
       "      <td>3.400000</td>\n",
       "      <td>64.000000</td>\n",
       "      <td>300.000000</td>\n",
       "      <td>7.000000</td>\n",
       "    </tr>\n",
       "    <tr>\n",
       "      <th>50%</th>\n",
       "      <td>7741.000000</td>\n",
       "      <td>3.800000</td>\n",
       "      <td>200.000000</td>\n",
       "      <td>500.000000</td>\n",
       "      <td>7.000000</td>\n",
       "    </tr>\n",
       "    <tr>\n",
       "      <th>75%</th>\n",
       "      <td>11689.000000</td>\n",
       "      <td>4.000000</td>\n",
       "      <td>405.000000</td>\n",
       "      <td>800.000000</td>\n",
       "      <td>7.000000</td>\n",
       "    </tr>\n",
       "    <tr>\n",
       "      <th>max</th>\n",
       "      <td>15573.000000</td>\n",
       "      <td>4.900000</td>\n",
       "      <td>41186.000000</td>\n",
       "      <td>14000.000000</td>\n",
       "      <td>7.000000</td>\n",
       "    </tr>\n",
       "  </tbody>\n",
       "</table>\n",
       "</div>"
      ],
      "text/plain": [
       "       RESTAURANT_ID        RATING         VOTES          COST          Days\n",
       "count   12689.000000  12689.000000  12689.000000  12689.000000  12689.000000\n",
       "mean     7759.238868      3.426298    412.168965    655.256600      6.591930\n",
       "std      4505.036218      1.179845    801.845794    627.028056      1.255097\n",
       "min         0.000000      0.000000      4.000000     20.000000      1.000000\n",
       "25%      3863.000000      3.400000     64.000000    300.000000      7.000000\n",
       "50%      7741.000000      3.800000    200.000000    500.000000      7.000000\n",
       "75%     11689.000000      4.000000    405.000000    800.000000      7.000000\n",
       "max     15573.000000      4.900000  41186.000000  14000.000000      7.000000"
      ]
     },
     "execution_count": 28,
     "metadata": {},
     "output_type": "execute_result"
    }
   ],
   "source": [
    "df_train.describe()"
   ]
  },
  {
   "cell_type": "markdown",
   "metadata": {},
   "source": [
    "OBS: There are restaurants wit 0 Rating and maximum 4.9 Rating"
   ]
  },
  {
   "cell_type": "markdown",
   "metadata": {},
   "source": [
    "Minimum Votes received are 4 and max are 41186."
   ]
  },
  {
   "cell_type": "markdown",
   "metadata": {},
   "source": [
    "Large range between 75% and maximum value of VOTES which indicated VOTES have outliers"
   ]
  },
  {
   "cell_type": "markdown",
   "metadata": {},
   "source": [
    "More than 75% values lie within one S.D of VOTES"
   ]
  },
  {
   "cell_type": "markdown",
   "metadata": {},
   "source": [
    "Large range between 75% and max values for COST means it has outliers"
   ]
  },
  {
   "cell_type": "markdown",
   "metadata": {},
   "source": [
    "MOre than 75% values lie within 1 S.D of COST"
   ]
  },
  {
   "cell_type": "markdown",
   "metadata": {},
   "source": [
    "#### Univariate Analysis"
   ]
  },
  {
   "cell_type": "code",
   "execution_count": 29,
   "metadata": {},
   "outputs": [
    {
     "data": {
      "image/png": "[encoded data removed]",
      "text/plain": [
       "<Figure size 432x288 with 1 Axes>"
      ]
     },
     "metadata": {
      "needs_background": "light"
     },
     "output_type": "display_data"
    },
    {
     "data": {
      "image/png": "[encoded data removed]",
      "text/plain": [
       "<Figure size 432x288 with 1 Axes>"
      ]
     },
     "metadata": {
      "needs_background": "light"
     },
     "output_type": "display_data"
    },
    {
     "data": {
      "image/png": "[encoded data removed]",
      "text/plain": [
       "<Figure size 432x288 with 1 Axes>"
      ]
     },
     "metadata": {
      "needs_background": "light"
     },
     "output_type": "display_data"
    }
   ],
   "source": [
    "c=['RATING','VOTES','COST']\n",
    "for i in c:\n",
    "    plt.subplots()\n",
    "    plt.hist(df_train[i])\n",
    "    plt.title(i)"
   ]
  },
  {
   "cell_type": "markdown",
   "metadata": {},
   "source": [
    "Obs: Approx 1000 Restaurants are with rating between 0 to 5"
   ]
  },
  {
   "cell_type": "markdown",
   "metadata": {},
   "source": [
    "Maximum Restaurants are having Rating between 3.5 to 4.5"
   ]
  },
  {
   "cell_type": "markdown",
   "metadata": {},
   "source": [
    "99% votes are between 0 to 5000"
   ]
  },
  {
   "cell_type": "markdown",
   "metadata": {},
   "source": [
    "90% Restaurant's have cost between 0 to 1000"
   ]
  },
  {
   "cell_type": "code",
   "execution_count": 30,
   "metadata": {},
   "outputs": [
    {
     "name": "stdout",
     "output_type": "stream",
     "text": [
      "QUICK BITES      4337\n",
      "CASUAL DINING    4121\n",
      "Name: TITLE_1, dtype: int64\n"
     ]
    },
    {
     "data": {
      "image/png": "[encoded data removed]",
      "text/plain": [
       "<Figure size 720x360 with 1 Axes>"
      ]
     },
     "metadata": {
      "needs_background": "light"
     },
     "output_type": "display_data"
    }
   ],
   "source": [
    "#### viewing count of TITLE\n",
    "plt.figure(figsize=(10,5))\n",
    "sb.countplot(x='TITLE_1',data=df_train)\n",
    "plt.xticks(rotation=70)\n",
    "print(df_train['TITLE_1'].value_counts().head(2))"
   ]
  },
  {
   "cell_type": "markdown",
   "metadata": {},
   "source": [
    "OBS: Maximum restaurants are of Quick BYtes followed by Casual Dining"
   ]
  },
  {
   "cell_type": "code",
   "execution_count": 31,
   "metadata": {},
   "outputs": [
    {
     "name": "stdout",
     "output_type": "stream",
     "text": [
      "NONE    11207\n",
      "BAR       428\n",
      "Name: TITLE_2, dtype: int64\n"
     ]
    },
    {
     "data": {
      "image/png": "[encoded data removed]",
      "text/plain": [
       "<Figure size 720x360 with 1 Axes>"
      ]
     },
     "metadata": {
      "needs_background": "light"
     },
     "output_type": "display_data"
    }
   ],
   "source": [
    "#### viewing count of TITLE\n",
    "plt.figure(figsize=(10,5))\n",
    "sb.countplot(x='TITLE_2',data=df_train)\n",
    "plt.xticks(rotation=70)\n",
    "print(df_train['TITLE_2'].value_counts().head(2))"
   ]
  },
  {
   "cell_type": "markdown",
   "metadata": {},
   "source": [
    "90% of values in TITLE_2 are NONE"
   ]
  },
  {
   "cell_type": "markdown",
   "metadata": {},
   "source": [
    "Maximum values in TITLE_2 is BAR"
   ]
  },
  {
   "cell_type": "code",
   "execution_count": 32,
   "metadata": {},
   "outputs": [
    {
     "name": "stdout",
     "output_type": "stream",
     "text": [
      "NORTH INDIAN    3128\n",
      "SOUTH INDIAN    1241\n",
      "CHINESE          996\n",
      "FAST FOOD        762\n",
      "CAFE             713\n",
      "Name: CUISINES_1, dtype: int64\n"
     ]
    },
    {
     "data": {
      "image/png": "[encoded data removed]",
      "text/plain": [
       "<Figure size 360x1440 with 1 Axes>"
      ]
     },
     "metadata": {
      "needs_background": "light"
     },
     "output_type": "display_data"
    }
   ],
   "source": [
    "#### viewing count of CUISINE\n",
    "plt.figure(figsize=(5,20))\n",
    "sb.countplot(y='CUISINES_1',data=df_train)\n",
    "plt.xticks(rotation=70)\n",
    "print(df_train['CUISINES_1'].value_counts().head(5))"
   ]
  },
  {
   "cell_type": "markdown",
   "metadata": {},
   "source": [
    "OBS: Maximum restaurant offer North Indian type food followed by south indian and Chinese type"
   ]
  },
  {
   "cell_type": "code",
   "execution_count": 33,
   "metadata": {},
   "outputs": [
    {
     "name": "stdout",
     "output_type": "stream",
     "text": [
      "CUISINE_NA      3062\n",
      "CHINESE         1829\n",
      "NORTH INDIAN    1373\n",
      "FAST FOOD        782\n",
      "SOUTH INDIAN     638\n",
      "Name: CUISINES_2, dtype: int64\n"
     ]
    },
    {
     "data": {
      "image/png": "[encoded data removed]",
      "text/plain": [
       "<Figure size 360x1440 with 1 Axes>"
      ]
     },
     "metadata": {
      "needs_background": "light"
     },
     "output_type": "display_data"
    }
   ],
   "source": [
    "#### viewing count of CUISINE\n",
    "plt.figure(figsize=(5,20))\n",
    "sb.countplot(y='CUISINES_2',data=df_train)\n",
    "plt.xticks(rotation=70)\n",
    "print(df_train['CUISINES_2'].value_counts().head(5))"
   ]
  },
  {
   "cell_type": "markdown",
   "metadata": {},
   "source": [
    "Maximum values are NOT AVAILABLE and we have chinese and North Indian values as second largest values"
   ]
  },
  {
   "cell_type": "code",
   "execution_count": 34,
   "metadata": {},
   "outputs": [
    {
     "name": "stdout",
     "output_type": "stream",
     "text": [
      "           CITY\n",
      "CHENNAI    2175\n",
      "BANGALORE  2149\n",
      "HYDERABAD  1819\n",
      "MUMBAI     1722\n",
      "NEW DELHI  1321\n"
     ]
    },
    {
     "data": {
      "image/png": "[encoded data removed]",
      "text/plain": [
       "<Figure size 1080x360 with 1 Axes>"
      ]
     },
     "metadata": {
      "needs_background": "light"
     },
     "output_type": "display_data"
    }
   ],
   "source": [
    "#### Taking count of top 20 city\n",
    "plt.figure(figsize=(15,5))\n",
    "fd=pd.DataFrame(df_train['CITY'].value_counts().head(20))\n",
    "sb.barplot(y='CITY',x=fd.index,data=fd)\n",
    "plt.xticks(rotation=60)\n",
    "print(fd.head())"
   ]
  },
  {
   "cell_type": "markdown",
   "metadata": {},
   "source": [
    "Maximum Restaurants are in chennai and Bangalore followed by Hyderabad,Mumbai and Kochi"
   ]
  },
  {
   "cell_type": "code",
   "execution_count": 35,
   "metadata": {},
   "outputs": [
    {
     "name": "stdout",
     "output_type": "stream",
     "text": [
      "7    86.603625\n",
      "6     3.845548\n",
      "1     3.167849\n",
      "5     2.947203\n",
      "4     2.261623\n",
      "2     0.606777\n",
      "3     0.559496\n",
      "Name: Days, dtype: float64\n"
     ]
    },
    {
     "data": {
      "image/png": "[encoded data removed]",
      "text/plain": [
       "<Figure size 432x288 with 1 Axes>"
      ]
     },
     "metadata": {
      "needs_background": "light"
     },
     "output_type": "display_data"
    }
   ],
   "source": [
    "sb.countplot(x='Days',data=df_train)\n",
    "print((df_train['Days'].value_counts().head(7)/12690)*100)"
   ]
  },
  {
   "cell_type": "markdown",
   "metadata": {},
   "source": [
    "86.6 % of restaurants are open for all 7 days"
   ]
  },
  {
   "cell_type": "markdown",
   "metadata": {},
   "source": [
    "less than 5 % restaurants are open for days ranging from 1 to 6"
   ]
  },
  {
   "cell_type": "markdown",
   "metadata": {},
   "source": [
    "#### Bivariate Analysis"
   ]
  },
  {
   "cell_type": "code",
   "execution_count": 36,
   "metadata": {},
   "outputs": [
    {
     "data": {
      "text/html": [
       "<div>\n",
       "<style scoped>\n",
       "    .dataframe tbody tr th:only-of-type {\n",
       "        vertical-align: middle;\n",
       "    }\n",
       "\n",
       "    .dataframe tbody tr th {\n",
       "        vertical-align: top;\n",
       "    }\n",
       "\n",
       "    .dataframe thead th {\n",
       "        text-align: right;\n",
       "    }\n",
       "</style>\n",
       "<table border=\"1\" class=\"dataframe\">\n",
       "  <thead>\n",
       "    <tr style=\"text-align: right;\">\n",
       "      <th></th>\n",
       "      <th>RATING</th>\n",
       "      <th>VOTES</th>\n",
       "      <th>COST</th>\n",
       "    </tr>\n",
       "    <tr>\n",
       "      <th>TITLE_1</th>\n",
       "      <th></th>\n",
       "      <th></th>\n",
       "      <th></th>\n",
       "    </tr>\n",
       "  </thead>\n",
       "  <tbody>\n",
       "    <tr>\n",
       "      <th>MICROBREWERY</th>\n",
       "      <td>4.236364</td>\n",
       "      <td>2348.340909</td>\n",
       "      <td>1619.318182</td>\n",
       "    </tr>\n",
       "    <tr>\n",
       "      <th>FINE DINING</th>\n",
       "      <td>4.111429</td>\n",
       "      <td>565.005714</td>\n",
       "      <td>2929.000000</td>\n",
       "    </tr>\n",
       "    <tr>\n",
       "      <th>PUB</th>\n",
       "      <td>4.019417</td>\n",
       "      <td>1186.233010</td>\n",
       "      <td>1509.223301</td>\n",
       "    </tr>\n",
       "    <tr>\n",
       "      <th>LOUNGE</th>\n",
       "      <td>4.006494</td>\n",
       "      <td>1165.103896</td>\n",
       "      <td>1767.532468</td>\n",
       "    </tr>\n",
       "    <tr>\n",
       "      <th>BAR</th>\n",
       "      <td>3.790157</td>\n",
       "      <td>744.255906</td>\n",
       "      <td>1468.700787</td>\n",
       "    </tr>\n",
       "  </tbody>\n",
       "</table>\n",
       "</div>"
      ],
      "text/plain": [
       "                RATING        VOTES         COST\n",
       "TITLE_1                                         \n",
       "MICROBREWERY  4.236364  2348.340909  1619.318182\n",
       "FINE DINING   4.111429   565.005714  2929.000000\n",
       "PUB           4.019417  1186.233010  1509.223301\n",
       "LOUNGE        4.006494  1165.103896  1767.532468\n",
       "BAR           3.790157   744.255906  1468.700787"
      ]
     },
     "execution_count": 36,
     "metadata": {},
     "output_type": "execute_result"
    }
   ],
   "source": [
    "df_train.groupby('TITLE_1').mean()[['RATING','VOTES','COST']].sort_values('RATING',ascending=False).head()"
   ]
  },
  {
   "cell_type": "markdown",
   "metadata": {},
   "source": [
    "OBS: Restaurants with CUISINE MICROBREWERY have highest mean Rating of 4.2 and highest Votes wigth mean 2449.20"
   ]
  },
  {
   "cell_type": "markdown",
   "metadata": {},
   "source": [
    "Fine Dining restaurants has highest mean Cost "
   ]
  },
  {
   "cell_type": "code",
   "execution_count": 37,
   "metadata": {},
   "outputs": [
    {
     "data": {
      "text/plain": [
       "<AxesSubplot:xlabel='RATING', ylabel='COST'>"
      ]
     },
     "execution_count": 37,
     "metadata": {},
     "output_type": "execute_result"
    },
    {
     "data": {
      "image/png": "[encoded data removed]",
      "text/plain": [
       "<Figure size 432x288 with 1 Axes>"
      ]
     },
     "metadata": {
      "needs_background": "light"
     },
     "output_type": "display_data"
    }
   ],
   "source": [
    "sb.scatterplot(x='RATING',y='COST',data=df_train)"
   ]
  },
  {
   "cell_type": "markdown",
   "metadata": {},
   "source": [
    "No restaurants are having rating between 0 and 2"
   ]
  },
  {
   "cell_type": "markdown",
   "metadata": {},
   "source": [
    "Restaurants have higher cost have rating  around 4"
   ]
  },
  {
   "cell_type": "code",
   "execution_count": 53,
   "metadata": {},
   "outputs": [],
   "source": [
    "rest_data_coded=rest_data_.copy()"
   ]
  },
  {
   "cell_type": "code",
   "execution_count": 54,
   "metadata": {},
   "outputs": [
    {
     "data": {
      "text/html": [
       "<div>\n",
       "<style scoped>\n",
       "    .dataframe tbody tr th:only-of-type {\n",
       "        vertical-align: middle;\n",
       "    }\n",
       "\n",
       "    .dataframe tbody tr th {\n",
       "        vertical-align: top;\n",
       "    }\n",
       "\n",
       "    .dataframe thead th {\n",
       "        text-align: right;\n",
       "    }\n",
       "</style>\n",
       "<table border=\"1\" class=\"dataframe\">\n",
       "  <thead>\n",
       "    <tr style=\"text-align: right;\">\n",
       "      <th></th>\n",
       "      <th>RESTAURANT_ID</th>\n",
       "      <th>CITY</th>\n",
       "      <th>LOCALITY</th>\n",
       "      <th>RATING</th>\n",
       "      <th>VOTES</th>\n",
       "      <th>COST</th>\n",
       "      <th>TITLE_1</th>\n",
       "      <th>TITLE_2</th>\n",
       "      <th>CUISINES_1</th>\n",
       "      <th>CUISINES_2</th>\n",
       "      <th>CUISINES_3</th>\n",
       "      <th>CUISINES_4</th>\n",
       "      <th>CUISINES_5</th>\n",
       "      <th>CUISINES_6</th>\n",
       "      <th>CUISINES_7</th>\n",
       "      <th>CUISINES_8</th>\n",
       "      <th>Days</th>\n",
       "    </tr>\n",
       "  </thead>\n",
       "  <tbody>\n",
       "    <tr>\n",
       "      <th>0</th>\n",
       "      <td>9438</td>\n",
       "      <td>THANE</td>\n",
       "      <td>DOMBIVALI EAST</td>\n",
       "      <td>3.6</td>\n",
       "      <td>49</td>\n",
       "      <td>1200</td>\n",
       "      <td>CASUAL DINING</td>\n",
       "      <td>NONE</td>\n",
       "      <td>MALWANI</td>\n",
       "      <td>GOAN</td>\n",
       "      <td>NORTH INDIAN</td>\n",
       "      <td>CUISINE_NA</td>\n",
       "      <td>CUISINE_NA</td>\n",
       "      <td>CUISINE_NA</td>\n",
       "      <td>CUISINE_NA</td>\n",
       "      <td>CUISINE_NA</td>\n",
       "      <td>7</td>\n",
       "    </tr>\n",
       "    <tr>\n",
       "      <th>1</th>\n",
       "      <td>13198</td>\n",
       "      <td>CHENNAI</td>\n",
       "      <td>RAMAPURAM</td>\n",
       "      <td>4.2</td>\n",
       "      <td>30</td>\n",
       "      <td>1500</td>\n",
       "      <td>CASUAL DINING</td>\n",
       "      <td>BAR</td>\n",
       "      <td>ASIAN</td>\n",
       "      <td>MODERN INDIAN</td>\n",
       "      <td>JAPANESE</td>\n",
       "      <td>CUISINE_NA</td>\n",
       "      <td>CUISINE_NA</td>\n",
       "      <td>CUISINE_NA</td>\n",
       "      <td>CUISINE_NA</td>\n",
       "      <td>CUISINE_NA</td>\n",
       "      <td>7</td>\n",
       "    </tr>\n",
       "    <tr>\n",
       "      <th>2</th>\n",
       "      <td>10915</td>\n",
       "      <td>CHENNAI</td>\n",
       "      <td>SALIGRAMAM</td>\n",
       "      <td>3.8</td>\n",
       "      <td>221</td>\n",
       "      <td>800</td>\n",
       "      <td>CASUAL DINING</td>\n",
       "      <td>NONE</td>\n",
       "      <td>NORTH INDIAN</td>\n",
       "      <td>CHINESE</td>\n",
       "      <td>BIRYANI</td>\n",
       "      <td>HYDERABADI</td>\n",
       "      <td>CUISINE_NA</td>\n",
       "      <td>CUISINE_NA</td>\n",
       "      <td>CUISINE_NA</td>\n",
       "      <td>CUISINE_NA</td>\n",
       "      <td>7</td>\n",
       "    </tr>\n",
       "    <tr>\n",
       "      <th>3</th>\n",
       "      <td>6346</td>\n",
       "      <td>MUMBAI</td>\n",
       "      <td>BANDRA WEST</td>\n",
       "      <td>4.1</td>\n",
       "      <td>24</td>\n",
       "      <td>800</td>\n",
       "      <td>QUICK BITES</td>\n",
       "      <td>NONE</td>\n",
       "      <td>TIBETAN</td>\n",
       "      <td>CHINESE</td>\n",
       "      <td>CUISINE_NA</td>\n",
       "      <td>CUISINE_NA</td>\n",
       "      <td>CUISINE_NA</td>\n",
       "      <td>CUISINE_NA</td>\n",
       "      <td>CUISINE_NA</td>\n",
       "      <td>CUISINE_NA</td>\n",
       "      <td>7</td>\n",
       "    </tr>\n",
       "    <tr>\n",
       "      <th>4</th>\n",
       "      <td>15387</td>\n",
       "      <td>MUMBAI</td>\n",
       "      <td>LOWER PAREL</td>\n",
       "      <td>3.8</td>\n",
       "      <td>165</td>\n",
       "      <td>300</td>\n",
       "      <td>DESSERT PARLOR</td>\n",
       "      <td>NONE</td>\n",
       "      <td>DESSERTS</td>\n",
       "      <td>CUISINE_NA</td>\n",
       "      <td>CUISINE_NA</td>\n",
       "      <td>CUISINE_NA</td>\n",
       "      <td>CUISINE_NA</td>\n",
       "      <td>CUISINE_NA</td>\n",
       "      <td>CUISINE_NA</td>\n",
       "      <td>CUISINE_NA</td>\n",
       "      <td>7</td>\n",
       "    </tr>\n",
       "  </tbody>\n",
       "</table>\n",
       "</div>"
      ],
      "text/plain": [
       "   RESTAURANT_ID     CITY        LOCALITY  RATING  VOTES  COST  \\\n",
       "0           9438    THANE  DOMBIVALI EAST     3.6     49  1200   \n",
       "1          13198  CHENNAI       RAMAPURAM     4.2     30  1500   \n",
       "2          10915  CHENNAI      SALIGRAMAM     3.8    221   800   \n",
       "3           6346   MUMBAI     BANDRA WEST     4.1     24   800   \n",
       "4          15387   MUMBAI     LOWER PAREL     3.8    165   300   \n",
       "\n",
       "          TITLE_1 TITLE_2    CUISINES_1     CUISINES_2    CUISINES_3  \\\n",
       "0   CASUAL DINING    NONE       MALWANI           GOAN  NORTH INDIAN   \n",
       "1   CASUAL DINING     BAR         ASIAN  MODERN INDIAN      JAPANESE   \n",
       "2   CASUAL DINING    NONE  NORTH INDIAN        CHINESE       BIRYANI   \n",
       "3     QUICK BITES    NONE       TIBETAN        CHINESE    CUISINE_NA   \n",
       "4  DESSERT PARLOR    NONE      DESSERTS     CUISINE_NA    CUISINE_NA   \n",
       "\n",
       "   CUISINES_4  CUISINES_5  CUISINES_6  CUISINES_7  CUISINES_8  Days  \n",
       "0  CUISINE_NA  CUISINE_NA  CUISINE_NA  CUISINE_NA  CUISINE_NA     7  \n",
       "1  CUISINE_NA  CUISINE_NA  CUISINE_NA  CUISINE_NA  CUISINE_NA     7  \n",
       "2  HYDERABADI  CUISINE_NA  CUISINE_NA  CUISINE_NA  CUISINE_NA     7  \n",
       "3  CUISINE_NA  CUISINE_NA  CUISINE_NA  CUISINE_NA  CUISINE_NA     7  \n",
       "4  CUISINE_NA  CUISINE_NA  CUISINE_NA  CUISINE_NA  CUISINE_NA     7  "
      ]
     },
     "execution_count": 54,
     "metadata": {},
     "output_type": "execute_result"
    }
   ],
   "source": [
    "rest_data_coded.head()"
   ]
  },
  {
   "cell_type": "code",
   "execution_count": 56,
   "metadata": {},
   "outputs": [
    {
     "data": {
      "text/plain": [
       "CUISINE_NA        16671\n",
       "                     61\n",
       "DESSERTS             18\n",
       "BEVERAGES            15\n",
       "SALAD                15\n",
       "PIZZA                13\n",
       "ITALIAN               9\n",
       "MOMOS                 8\n",
       "CHINESE               8\n",
       "SANDWICH              7\n",
       "BBQ                   6\n",
       "NORTH INDIAN          6\n",
       "BURGER                5\n",
       "KEBAB                 5\n",
       "BAKERY                4\n",
       "HEALTHY FOOD          4\n",
       "STEAK                 4\n",
       "TEA                   3\n",
       "SEAFOOD               3\n",
       "CONTINENTAL           3\n",
       "EUROPEAN              3\n",
       "BURMESE               3\n",
       "COFFEE                3\n",
       "SOUTH INDIAN          3\n",
       "LUCKNOWI              2\n",
       "VIETNAMESE            2\n",
       "BIRYANI               2\n",
       "MUGHLAI               2\n",
       "LEBANESE              2\n",
       "MODERN INDIAN         2\n",
       "GRILL                 2\n",
       "AMERICAN              2\n",
       "KERALA                1\n",
       "MEXICAN               1\n",
       "MALWANI               1\n",
       "JUICES                1\n",
       "INDONESIAN            1\n",
       "JAPANESE              1\n",
       "DUMPLINGS             1\n",
       "SPANISH               1\n",
       "ROLLS                 1\n",
       "ASIAN                 1\n",
       "MEDITERRANEAN         1\n",
       "MIDDLE EASTERN        1\n",
       "THAI                  1\n",
       "FAST FOOD             1\n",
       "ORIENTAL              1\n",
       "CAFE FOOD             1\n",
       "MANGALOREAN           1\n",
       "AFGHAN                1\n",
       "HYDERABADI            1\n",
       "PARSI                 1\n",
       "FINGER FOOD           1\n",
       "FRENCH                1\n",
       "MALAYSIAN             1\n",
       "TURKISH               1\n",
       "ARABIAN               1\n",
       "Name: CUISINES_7, dtype: int64"
      ]
     },
     "execution_count": 56,
     "metadata": {},
     "output_type": "execute_result"
    }
   ],
   "source": [
    "rest_data_coded['CUISINES_7'].value_counts()"
   ]
  },
  {
   "cell_type": "code",
   "execution_count": 57,
   "metadata": {},
   "outputs": [
    {
     "data": {
      "text/plain": [
       "CUISINE_NA        16813\n",
       "                     77\n",
       "FAST FOOD             4\n",
       "DESSERTS              4\n",
       "BEVERAGES             2\n",
       "ICE CREAM             2\n",
       "SALAD                 2\n",
       "ASIAN                 2\n",
       "ROLLS                 1\n",
       "GRILL                 1\n",
       "JUICES                1\n",
       "HEALTHY FOOD          1\n",
       "BURGER                1\n",
       "NORTH INDIAN          1\n",
       "MOMOS                 1\n",
       "CAFE FOOD             1\n",
       "MEXICAN               1\n",
       "LEBANESE              1\n",
       "FISH AND CHIPS        1\n",
       "EUROPEAN              1\n",
       "PIZZA                 1\n",
       "CHINESE               1\n",
       "COFFEE AND TEA        1\n",
       "Name: CUISINES_8, dtype: int64"
      ]
     },
     "execution_count": 57,
     "metadata": {},
     "output_type": "execute_result"
    }
   ],
   "source": [
    "rest_data_coded['CUISINES_8'].value_counts()"
   ]
  },
  {
   "cell_type": "code",
   "execution_count": 58,
   "metadata": {},
   "outputs": [],
   "source": [
    "from sklearn.preprocessing import LabelEncoder\n",
    "le_cu=[]\n",
    "k=0\n",
    "for i,k in zip(range(8,16),range(8)):\n",
    "    le_cu.append(LabelEncoder())\n",
    "    le_cu[k].fit(rest_data_coded.iloc[:,i])\n",
    "    rest_data_coded.iloc[:,i]=le_cu[k].transform(rest_data_coded.iloc[:,i])"
   ]
  },
  {
   "cell_type": "code",
   "execution_count": 59,
   "metadata": {},
   "outputs": [],
   "source": [
    "colmns=['CITY','LOCALITY','TITLE_1','TITLE_2']\n",
    "le=[]\n",
    "dic_list=[]\n",
    "for i,k in zip(range(4),colmns):\n",
    "    le.append(LabelEncoder())\n",
    "    le[i].fit(rest_data_coded[k])\n",
    "    rest_data_coded[k]=le[i].transform(rest_data_coded[k])\n",
    "    \n",
    "    #dic_list.append()"
   ]
  },
  {
   "cell_type": "code",
   "execution_count": 60,
   "metadata": {},
   "outputs": [],
   "source": [
    "rest_data_coded.drop(['RESTAURANT_ID'],axis=1,inplace=True)"
   ]
  },
  {
   "cell_type": "markdown",
   "metadata": {},
   "source": [
    "#### Dealing with Outliers:"
   ]
  },
  {
   "cell_type": "code",
   "execution_count": 77,
   "metadata": {},
   "outputs": [
    {
     "name": "stdout",
     "output_type": "stream",
     "text": [
      "(12689, 16)\n",
      "(10347, 16)\n",
      "2342 rows removed as outliers\n"
     ]
    }
   ],
   "source": [
    "from scipy.stats import zscore\n",
    "df_mod=rest_data_coded.iloc[0:12689,:]\n",
    "z=abs(zscore(df_mod))\n",
    "### separating original train dataset from here\n",
    "rest_data_no_outliers=df_mod[(z<3).all(axis=1)]\n",
    "print(df_mod.shape)\n",
    "print(rest_data_no_outliers.shape)\n",
    "print(df_mod.shape[0]-rest_data_no_outliers.shape[0], 'rows removed as outliers')"
   ]
  },
  {
   "cell_type": "code",
   "execution_count": 78,
   "metadata": {},
   "outputs": [
    {
     "data": {
      "text/html": [
       "<div>\n",
       "<style scoped>\n",
       "    .dataframe tbody tr th:only-of-type {\n",
       "        vertical-align: middle;\n",
       "    }\n",
       "\n",
       "    .dataframe tbody tr th {\n",
       "        vertical-align: top;\n",
       "    }\n",
       "\n",
       "    .dataframe thead th {\n",
       "        text-align: right;\n",
       "    }\n",
       "</style>\n",
       "<table border=\"1\" class=\"dataframe\">\n",
       "  <thead>\n",
       "    <tr style=\"text-align: right;\">\n",
       "      <th></th>\n",
       "      <th>CITY</th>\n",
       "      <th>LOCALITY</th>\n",
       "      <th>RATING</th>\n",
       "      <th>VOTES</th>\n",
       "      <th>COST</th>\n",
       "      <th>TITLE_1</th>\n",
       "      <th>TITLE_2</th>\n",
       "      <th>CUISINES_1</th>\n",
       "      <th>CUISINES_2</th>\n",
       "      <th>CUISINES_3</th>\n",
       "      <th>CUISINES_4</th>\n",
       "      <th>CUISINES_5</th>\n",
       "      <th>CUISINES_6</th>\n",
       "      <th>CUISINES_7</th>\n",
       "      <th>CUISINES_8</th>\n",
       "      <th>Days</th>\n",
       "    </tr>\n",
       "  </thead>\n",
       "  <tbody>\n",
       "    <tr>\n",
       "      <th>0</th>\n",
       "      <td>408</td>\n",
       "      <td>320</td>\n",
       "      <td>3.6</td>\n",
       "      <td>49</td>\n",
       "      <td>1200</td>\n",
       "      <td>5</td>\n",
       "      <td>16</td>\n",
       "      <td>61</td>\n",
       "      <td>33</td>\n",
       "      <td>72</td>\n",
       "      <td>24</td>\n",
       "      <td>21</td>\n",
       "      <td>20</td>\n",
       "      <td>15</td>\n",
       "      <td>7</td>\n",
       "      <td>7</td>\n",
       "    </tr>\n",
       "    <tr>\n",
       "      <th>2</th>\n",
       "      <td>75</td>\n",
       "      <td>1261</td>\n",
       "      <td>3.8</td>\n",
       "      <td>221</td>\n",
       "      <td>800</td>\n",
       "      <td>5</td>\n",
       "      <td>16</td>\n",
       "      <td>74</td>\n",
       "      <td>23</td>\n",
       "      <td>14</td>\n",
       "      <td>35</td>\n",
       "      <td>21</td>\n",
       "      <td>20</td>\n",
       "      <td>15</td>\n",
       "      <td>7</td>\n",
       "      <td>7</td>\n",
       "    </tr>\n",
       "    <tr>\n",
       "      <th>3</th>\n",
       "      <td>281</td>\n",
       "      <td>149</td>\n",
       "      <td>4.1</td>\n",
       "      <td>24</td>\n",
       "      <td>800</td>\n",
       "      <td>23</td>\n",
       "      <td>16</td>\n",
       "      <td>102</td>\n",
       "      <td>23</td>\n",
       "      <td>26</td>\n",
       "      <td>24</td>\n",
       "      <td>21</td>\n",
       "      <td>20</td>\n",
       "      <td>15</td>\n",
       "      <td>7</td>\n",
       "      <td>7</td>\n",
       "    </tr>\n",
       "    <tr>\n",
       "      <th>4</th>\n",
       "      <td>281</td>\n",
       "      <td>701</td>\n",
       "      <td>3.8</td>\n",
       "      <td>165</td>\n",
       "      <td>300</td>\n",
       "      <td>9</td>\n",
       "      <td>16</td>\n",
       "      <td>30</td>\n",
       "      <td>26</td>\n",
       "      <td>26</td>\n",
       "      <td>24</td>\n",
       "      <td>21</td>\n",
       "      <td>20</td>\n",
       "      <td>15</td>\n",
       "      <td>7</td>\n",
       "      <td>7</td>\n",
       "    </tr>\n",
       "    <tr>\n",
       "      <th>5</th>\n",
       "      <td>281</td>\n",
       "      <td>1565</td>\n",
       "      <td>4.0</td>\n",
       "      <td>550</td>\n",
       "      <td>800</td>\n",
       "      <td>5</td>\n",
       "      <td>16</td>\n",
       "      <td>74</td>\n",
       "      <td>23</td>\n",
       "      <td>84</td>\n",
       "      <td>11</td>\n",
       "      <td>21</td>\n",
       "      <td>20</td>\n",
       "      <td>15</td>\n",
       "      <td>7</td>\n",
       "      <td>7</td>\n",
       "    </tr>\n",
       "  </tbody>\n",
       "</table>\n",
       "</div>"
      ],
      "text/plain": [
       "   CITY  LOCALITY  RATING  VOTES  COST  TITLE_1  TITLE_2  CUISINES_1  \\\n",
       "0   408       320     3.6     49  1200        5       16          61   \n",
       "2    75      1261     3.8    221   800        5       16          74   \n",
       "3   281       149     4.1     24   800       23       16         102   \n",
       "4   281       701     3.8    165   300        9       16          30   \n",
       "5   281      1565     4.0    550   800        5       16          74   \n",
       "\n",
       "   CUISINES_2  CUISINES_3  CUISINES_4  CUISINES_5  CUISINES_6  CUISINES_7  \\\n",
       "0          33          72          24          21          20          15   \n",
       "2          23          14          35          21          20          15   \n",
       "3          23          26          24          21          20          15   \n",
       "4          26          26          24          21          20          15   \n",
       "5          23          84          11          21          20          15   \n",
       "\n",
       "   CUISINES_8  Days  \n",
       "0           7     7  \n",
       "2           7     7  \n",
       "3           7     7  \n",
       "4           7     7  \n",
       "5           7     7  "
      ]
     },
     "execution_count": 78,
     "metadata": {},
     "output_type": "execute_result"
    }
   ],
   "source": [
    "rest_data_no_outliers.head()"
   ]
  },
  {
   "cell_type": "code",
   "execution_count": 79,
   "metadata": {},
   "outputs": [
    {
     "data": {
      "text/plain": [
       "20    10306\n",
       "10       10\n",
       "23        8\n",
       "21        6\n",
       "34        4\n",
       "30        2\n",
       "19        2\n",
       "17        2\n",
       "7         1\n",
       "29        1\n",
       "28        1\n",
       "12        1\n",
       "27        1\n",
       "11        1\n",
       "8         1\n",
       "Name: CUISINES_6, dtype: int64"
      ]
     },
     "execution_count": 79,
     "metadata": {},
     "output_type": "execute_result"
    }
   ],
   "source": [
    "rest_data_no_outliers['CUISINES_6'].value_counts()"
   ]
  },
  {
   "cell_type": "code",
   "execution_count": 80,
   "metadata": {},
   "outputs": [
    {
     "data": {
      "text/plain": [
       "CITY           0.266924\n",
       "LOCALITY       0.347508\n",
       "RATING        -2.072330\n",
       "VOTES          2.765229\n",
       "COST           2.117812\n",
       "TITLE_1       -0.076628\n",
       "TITLE_2       -4.722336\n",
       "CUISINES_1    -0.058141\n",
       "CUISINES_2     0.898909\n",
       "CUISINES_3     1.943597\n",
       "CUISINES_4     3.415746\n",
       "CUISINES_5     1.348938\n",
       "CUISINES_6    -0.301854\n",
       "CUISINES_7   -27.477574\n",
       "CUISINES_8     0.000000\n",
       "Days          -3.941123\n",
       "dtype: float64"
      ]
     },
     "execution_count": 80,
     "metadata": {},
     "output_type": "execute_result"
    }
   ],
   "source": [
    "rest_data_no_outliers.skew()"
   ]
  },
  {
   "cell_type": "code",
   "execution_count": 81,
   "metadata": {},
   "outputs": [
    {
     "data": {
      "text/plain": [
       "0.8546279597661567"
      ]
     },
     "execution_count": 81,
     "metadata": {},
     "output_type": "execute_result"
    }
   ],
   "source": [
    "np.cbrt(rest_data_no_outliers['CUISINES_3']).skew()"
   ]
  },
  {
   "cell_type": "code",
   "execution_count": 82,
   "metadata": {},
   "outputs": [
    {
     "data": {
      "text/plain": [
       "CITY           0.266924\n",
       "LOCALITY       0.347508\n",
       "RATING         0.194702\n",
       "VOTES          0.415817\n",
       "COST           0.242147\n",
       "TITLE_1       -0.076628\n",
       "TITLE_2        1.443204\n",
       "CUISINES_1    -0.058141\n",
       "CUISINES_2    -0.177319\n",
       "CUISINES_3     0.459350\n",
       "CUISINES_4    -1.788995\n",
       "CUISINES_5   -11.511014\n",
       "CUISINES_6    -0.301854\n",
       "CUISINES_7     3.161769\n",
       "CUISINES_8     0.000000\n",
       "Days          -2.981434\n",
       "dtype: float64"
      ]
     },
     "execution_count": 82,
     "metadata": {},
     "output_type": "execute_result"
    }
   ],
   "source": [
    "\n",
    "for i in rest_data_no_outliers.columns:\n",
    "    if(((rest_data_no_outliers[i].skew())< -0.55) & (i!='COST')):\n",
    "        rest_data_no_outliers[i]=np.e**(rest_data_no_outliers[i])\n",
    "    if(((rest_data_no_outliers[i].skew())> 0.55) & (i!='COST')):\n",
    "        rest_data_no_outliers[i]=(rest_data_no_outliers[i])**(1/4)\n",
    "rest_data_no_outliers['COST']=np.log(rest_data_no_outliers['COST'])\n",
    "rest_data_no_outliers.skew()"
   ]
  },
  {
   "cell_type": "markdown",
   "metadata": {},
   "source": [
    "Most skewness is handled"
   ]
  },
  {
   "cell_type": "markdown",
   "metadata": {},
   "source": [
    "### Note: Here we have modified our target attribute with the log hence we have to take anti log at the time of actual prediction"
   ]
  },
  {
   "cell_type": "code",
   "execution_count": 83,
   "metadata": {},
   "outputs": [
    {
     "data": {
      "text/plain": [
       "<AxesSubplot:ylabel='Density'>"
      ]
     },
     "execution_count": 83,
     "metadata": {},
     "output_type": "execute_result"
    },
    {
     "data": {
      "image/png": "[encoded data removed]",
      "text/plain": [
       "<Figure size 432x288 with 1 Axes>"
      ]
     },
     "metadata": {
      "needs_background": "light"
     },
     "output_type": "display_data"
    }
   ],
   "source": [
    "rest_data_no_outliers['RATING'].plot(kind='kde')"
   ]
  },
  {
   "cell_type": "code",
   "execution_count": 85,
   "metadata": {},
   "outputs": [
    {
     "data": {
      "text/html": [
       "<div>\n",
       "<style scoped>\n",
       "    .dataframe tbody tr th:only-of-type {\n",
       "        vertical-align: middle;\n",
       "    }\n",
       "\n",
       "    .dataframe tbody tr th {\n",
       "        vertical-align: top;\n",
       "    }\n",
       "\n",
       "    .dataframe thead th {\n",
       "        text-align: right;\n",
       "    }\n",
       "</style>\n",
       "<table border=\"1\" class=\"dataframe\">\n",
       "  <thead>\n",
       "    <tr style=\"text-align: right;\">\n",
       "      <th></th>\n",
       "      <th>CITY</th>\n",
       "      <th>LOCALITY</th>\n",
       "      <th>RATING</th>\n",
       "      <th>VOTES</th>\n",
       "      <th>COST</th>\n",
       "      <th>TITLE_1</th>\n",
       "      <th>TITLE_2</th>\n",
       "      <th>CUISINES_1</th>\n",
       "      <th>CUISINES_2</th>\n",
       "      <th>CUISINES_3</th>\n",
       "      <th>CUISINES_4</th>\n",
       "      <th>CUISINES_5</th>\n",
       "      <th>CUISINES_6</th>\n",
       "      <th>CUISINES_7</th>\n",
       "      <th>CUISINES_8</th>\n",
       "      <th>Days</th>\n",
       "    </tr>\n",
       "  </thead>\n",
       "  <tbody>\n",
       "    <tr>\n",
       "      <th>0</th>\n",
       "      <td>408</td>\n",
       "      <td>320</td>\n",
       "      <td>36.598234</td>\n",
       "      <td>2.645751</td>\n",
       "      <td>7.090077</td>\n",
       "      <td>5</td>\n",
       "      <td>54.59815</td>\n",
       "      <td>61</td>\n",
       "      <td>2.396782</td>\n",
       "      <td>2.912951</td>\n",
       "      <td>2.213364</td>\n",
       "      <td>2.140695</td>\n",
       "      <td>20</td>\n",
       "      <td>42.521082</td>\n",
       "      <td>7</td>\n",
       "      <td>1096.633158</td>\n",
       "    </tr>\n",
       "    <tr>\n",
       "      <th>2</th>\n",
       "      <td>75</td>\n",
       "      <td>1261</td>\n",
       "      <td>44.701184</td>\n",
       "      <td>3.855654</td>\n",
       "      <td>6.684612</td>\n",
       "      <td>5</td>\n",
       "      <td>54.59815</td>\n",
       "      <td>74</td>\n",
       "      <td>2.189939</td>\n",
       "      <td>1.934336</td>\n",
       "      <td>2.432299</td>\n",
       "      <td>2.140695</td>\n",
       "      <td>20</td>\n",
       "      <td>42.521082</td>\n",
       "      <td>7</td>\n",
       "      <td>1096.633158</td>\n",
       "    </tr>\n",
       "    <tr>\n",
       "      <th>3</th>\n",
       "      <td>281</td>\n",
       "      <td>149</td>\n",
       "      <td>60.340288</td>\n",
       "      <td>2.213364</td>\n",
       "      <td>6.684612</td>\n",
       "      <td>23</td>\n",
       "      <td>54.59815</td>\n",
       "      <td>102</td>\n",
       "      <td>2.189939</td>\n",
       "      <td>2.258101</td>\n",
       "      <td>2.213364</td>\n",
       "      <td>2.140695</td>\n",
       "      <td>20</td>\n",
       "      <td>42.521082</td>\n",
       "      <td>7</td>\n",
       "      <td>1096.633158</td>\n",
       "    </tr>\n",
       "    <tr>\n",
       "      <th>4</th>\n",
       "      <td>281</td>\n",
       "      <td>701</td>\n",
       "      <td>44.701184</td>\n",
       "      <td>3.584025</td>\n",
       "      <td>5.703782</td>\n",
       "      <td>9</td>\n",
       "      <td>54.59815</td>\n",
       "      <td>30</td>\n",
       "      <td>2.258101</td>\n",
       "      <td>2.258101</td>\n",
       "      <td>2.213364</td>\n",
       "      <td>2.140695</td>\n",
       "      <td>20</td>\n",
       "      <td>42.521082</td>\n",
       "      <td>7</td>\n",
       "      <td>1096.633158</td>\n",
       "    </tr>\n",
       "    <tr>\n",
       "      <th>5</th>\n",
       "      <td>281</td>\n",
       "      <td>1565</td>\n",
       "      <td>54.598150</td>\n",
       "      <td>4.842735</td>\n",
       "      <td>6.684612</td>\n",
       "      <td>5</td>\n",
       "      <td>54.59815</td>\n",
       "      <td>74</td>\n",
       "      <td>2.189939</td>\n",
       "      <td>3.027400</td>\n",
       "      <td>1.821160</td>\n",
       "      <td>2.140695</td>\n",
       "      <td>20</td>\n",
       "      <td>42.521082</td>\n",
       "      <td>7</td>\n",
       "      <td>1096.633158</td>\n",
       "    </tr>\n",
       "  </tbody>\n",
       "</table>\n",
       "</div>"
      ],
      "text/plain": [
       "   CITY  LOCALITY     RATING     VOTES      COST  TITLE_1   TITLE_2  \\\n",
       "0   408       320  36.598234  2.645751  7.090077        5  54.59815   \n",
       "2    75      1261  44.701184  3.855654  6.684612        5  54.59815   \n",
       "3   281       149  60.340288  2.213364  6.684612       23  54.59815   \n",
       "4   281       701  44.701184  3.584025  5.703782        9  54.59815   \n",
       "5   281      1565  54.598150  4.842735  6.684612        5  54.59815   \n",
       "\n",
       "   CUISINES_1  CUISINES_2  CUISINES_3  CUISINES_4  CUISINES_5  CUISINES_6  \\\n",
       "0          61    2.396782    2.912951    2.213364    2.140695          20   \n",
       "2          74    2.189939    1.934336    2.432299    2.140695          20   \n",
       "3         102    2.189939    2.258101    2.213364    2.140695          20   \n",
       "4          30    2.258101    2.258101    2.213364    2.140695          20   \n",
       "5          74    2.189939    3.027400    1.821160    2.140695          20   \n",
       "\n",
       "   CUISINES_7  CUISINES_8         Days  \n",
       "0   42.521082           7  1096.633158  \n",
       "2   42.521082           7  1096.633158  \n",
       "3   42.521082           7  1096.633158  \n",
       "4   42.521082           7  1096.633158  \n",
       "5   42.521082           7  1096.633158  "
      ]
     },
     "execution_count": 85,
     "metadata": {},
     "output_type": "execute_result"
    }
   ],
   "source": [
    "rest_data_no_outliers.head()"
   ]
  },
  {
   "cell_type": "code",
   "execution_count": 95,
   "metadata": {},
   "outputs": [
    {
     "name": "stdout",
     "output_type": "stream",
     "text": [
      "20    10306\n",
      "10       10\n",
      "23        8\n",
      "21        6\n",
      "34        4\n",
      "30        2\n",
      "19        2\n",
      "17        2\n",
      "7         1\n",
      "29        1\n",
      "28        1\n",
      "12        1\n",
      "27        1\n",
      "11        1\n",
      "8         1\n",
      "Name: CUISINES_6, dtype: int64\n",
      "42.521082    10343\n",
      "54.598150        3\n",
      "25.790340        1\n",
      "Name: CUISINES_7, dtype: int64\n",
      "7    10347\n",
      "Name: CUISINES_8, dtype: int64\n"
     ]
    }
   ],
   "source": [
    "for i in rest_data_no_outliers.iloc[:,12:15]:\n",
    "    print(rest_data_no_outliers[i].value_counts())"
   ]
  },
  {
   "cell_type": "code",
   "execution_count": 96,
   "metadata": {},
   "outputs": [],
   "source": [
    "X=rest_data_no_outliers.drop(['COST','CUISINES_6','CUISINES_7','CUISINES_8'],axis=1)\n",
    "Y=rest_data_no_outliers['COST']"
   ]
  },
  {
   "cell_type": "code",
   "execution_count": 97,
   "metadata": {},
   "outputs": [
    {
     "data": {
      "text/html": [
       "<div>\n",
       "<style scoped>\n",
       "    .dataframe tbody tr th:only-of-type {\n",
       "        vertical-align: middle;\n",
       "    }\n",
       "\n",
       "    .dataframe tbody tr th {\n",
       "        vertical-align: top;\n",
       "    }\n",
       "\n",
       "    .dataframe thead th {\n",
       "        text-align: right;\n",
       "    }\n",
       "</style>\n",
       "<table border=\"1\" class=\"dataframe\">\n",
       "  <thead>\n",
       "    <tr style=\"text-align: right;\">\n",
       "      <th></th>\n",
       "      <th>CITY</th>\n",
       "      <th>LOCALITY</th>\n",
       "      <th>RATING</th>\n",
       "      <th>VOTES</th>\n",
       "      <th>TITLE_1</th>\n",
       "      <th>TITLE_2</th>\n",
       "      <th>CUISINES_1</th>\n",
       "      <th>CUISINES_2</th>\n",
       "      <th>CUISINES_3</th>\n",
       "      <th>CUISINES_4</th>\n",
       "      <th>CUISINES_5</th>\n",
       "      <th>Days</th>\n",
       "    </tr>\n",
       "  </thead>\n",
       "  <tbody>\n",
       "    <tr>\n",
       "      <th>0</th>\n",
       "      <td>408</td>\n",
       "      <td>320</td>\n",
       "      <td>36.598234</td>\n",
       "      <td>2.645751</td>\n",
       "      <td>5</td>\n",
       "      <td>54.59815</td>\n",
       "      <td>61</td>\n",
       "      <td>2.396782</td>\n",
       "      <td>2.912951</td>\n",
       "      <td>2.213364</td>\n",
       "      <td>2.140695</td>\n",
       "      <td>1096.633158</td>\n",
       "    </tr>\n",
       "    <tr>\n",
       "      <th>2</th>\n",
       "      <td>75</td>\n",
       "      <td>1261</td>\n",
       "      <td>44.701184</td>\n",
       "      <td>3.855654</td>\n",
       "      <td>5</td>\n",
       "      <td>54.59815</td>\n",
       "      <td>74</td>\n",
       "      <td>2.189939</td>\n",
       "      <td>1.934336</td>\n",
       "      <td>2.432299</td>\n",
       "      <td>2.140695</td>\n",
       "      <td>1096.633158</td>\n",
       "    </tr>\n",
       "    <tr>\n",
       "      <th>3</th>\n",
       "      <td>281</td>\n",
       "      <td>149</td>\n",
       "      <td>60.340288</td>\n",
       "      <td>2.213364</td>\n",
       "      <td>23</td>\n",
       "      <td>54.59815</td>\n",
       "      <td>102</td>\n",
       "      <td>2.189939</td>\n",
       "      <td>2.258101</td>\n",
       "      <td>2.213364</td>\n",
       "      <td>2.140695</td>\n",
       "      <td>1096.633158</td>\n",
       "    </tr>\n",
       "    <tr>\n",
       "      <th>4</th>\n",
       "      <td>281</td>\n",
       "      <td>701</td>\n",
       "      <td>44.701184</td>\n",
       "      <td>3.584025</td>\n",
       "      <td>9</td>\n",
       "      <td>54.59815</td>\n",
       "      <td>30</td>\n",
       "      <td>2.258101</td>\n",
       "      <td>2.258101</td>\n",
       "      <td>2.213364</td>\n",
       "      <td>2.140695</td>\n",
       "      <td>1096.633158</td>\n",
       "    </tr>\n",
       "    <tr>\n",
       "      <th>5</th>\n",
       "      <td>281</td>\n",
       "      <td>1565</td>\n",
       "      <td>54.598150</td>\n",
       "      <td>4.842735</td>\n",
       "      <td>5</td>\n",
       "      <td>54.59815</td>\n",
       "      <td>74</td>\n",
       "      <td>2.189939</td>\n",
       "      <td>3.027400</td>\n",
       "      <td>1.821160</td>\n",
       "      <td>2.140695</td>\n",
       "      <td>1096.633158</td>\n",
       "    </tr>\n",
       "  </tbody>\n",
       "</table>\n",
       "</div>"
      ],
      "text/plain": [
       "   CITY  LOCALITY     RATING     VOTES  TITLE_1   TITLE_2  CUISINES_1  \\\n",
       "0   408       320  36.598234  2.645751        5  54.59815          61   \n",
       "2    75      1261  44.701184  3.855654        5  54.59815          74   \n",
       "3   281       149  60.340288  2.213364       23  54.59815         102   \n",
       "4   281       701  44.701184  3.584025        9  54.59815          30   \n",
       "5   281      1565  54.598150  4.842735        5  54.59815          74   \n",
       "\n",
       "   CUISINES_2  CUISINES_3  CUISINES_4  CUISINES_5         Days  \n",
       "0    2.396782    2.912951    2.213364    2.140695  1096.633158  \n",
       "2    2.189939    1.934336    2.432299    2.140695  1096.633158  \n",
       "3    2.189939    2.258101    2.213364    2.140695  1096.633158  \n",
       "4    2.258101    2.258101    2.213364    2.140695  1096.633158  \n",
       "5    2.189939    3.027400    1.821160    2.140695  1096.633158  "
      ]
     },
     "execution_count": 97,
     "metadata": {},
     "output_type": "execute_result"
    }
   ],
   "source": [
    "X.head()"
   ]
  },
  {
   "cell_type": "code",
   "execution_count": 98,
   "metadata": {},
   "outputs": [],
   "source": [
    "from sklearn.preprocessing import StandardScaler,MinMaxScaler\n",
    "ss=StandardScaler()\n",
    "ss.fit(X)\n",
    "x_ss=ss.transform(X)"
   ]
  },
  {
   "cell_type": "code",
   "execution_count": 106,
   "metadata": {},
   "outputs": [
    {
     "data": {
      "text/plain": [
       "(10347,)"
      ]
     },
     "execution_count": 106,
     "metadata": {},
     "output_type": "execute_result"
    }
   ],
   "source": [
    "Y.shape"
   ]
  },
  {
   "cell_type": "markdown",
   "metadata": {},
   "source": [
    "#### Decision Tree practice"
   ]
  },
  {
   "cell_type": "code",
   "execution_count": 105,
   "metadata": {},
   "outputs": [],
   "source": [
    "from sklearn.tree import DecisionTreeRegressor\n",
    "from sklearn.model_selection import train_test_split,GridSearchCV,cross_val_score"
   ]
  },
  {
   "cell_type": "code",
   "execution_count": 125,
   "metadata": {},
   "outputs": [],
   "source": [
    "train_x, test_x , train_y, test_y=train_test_split(x_ss, Y , test_size=0.95 , random_state=42)"
   ]
  },
  {
   "cell_type": "code",
   "execution_count": 126,
   "metadata": {},
   "outputs": [
    {
     "name": "stdout",
     "output_type": "stream",
     "text": [
      "(517, 12) (517,) (9830, 12) (9830,)\n"
     ]
    }
   ],
   "source": [
    "print(train_x.shape, train_y.shape , test_x.shape, test_y.shape)"
   ]
  },
  {
   "cell_type": "code",
   "execution_count": 127,
   "metadata": {},
   "outputs": [
    {
     "data": {
      "text/plain": [
       "DecisionTreeRegressor()"
      ]
     },
     "execution_count": 127,
     "metadata": {},
     "output_type": "execute_result"
    }
   ],
   "source": [
    "dt=DecisionTreeRegressor()\n",
    "dt.fit(train_x,train_y)"
   ]
  },
  {
   "cell_type": "code",
   "execution_count": 128,
   "metadata": {},
   "outputs": [
    {
     "data": {
      "text/plain": [
       "[Text(511.27864356557274, 427.1142857142857, 'X[4] <= -0.176\\nmse = 0.408\\nsamples = 517\\nvalue = 6.107'),\n",
       " Text(334.72086484872614, 411.58285714285716, 'X[3] <= 1.263\\nmse = 0.375\\nsamples = 249\\nvalue = 6.408'),\n",
       " Text(281.5295481687898, 396.0514285714286, 'X[4] <= -0.4\\nmse = 0.337\\nsamples = 208\\nvalue = 6.288'),\n",
       " Text(214.79779060509554, 380.52, 'X[4] <= -0.736\\nmse = 0.289\\nsamples = 202\\nvalue = 6.247'),\n",
       " Text(96.26166401273885, 364.9885714285714, 'X[4] <= -1.463\\nmse = 0.252\\nsamples = 183\\nvalue = 6.312'),\n",
       " Text(12.528343949044586, 349.45714285714286, 'X[2] <= -0.418\\nmse = 0.22\\nsamples = 18\\nvalue = 5.785'),\n",
       " Text(6.397452229299363, 333.92571428571426, 'X[1] <= 0.143\\nmse = 0.029\\nsamples = 4\\nvalue = 5.455'),\n",
       " Text(4.264968152866242, 318.39428571428573, 'X[1] <= 0.034\\nmse = 0.008\\nsamples = 2\\nvalue = 5.613'),\n",
       " Text(2.132484076433121, 302.86285714285714, 'mse = 0.0\\nsamples = 1\\nvalue = 5.704'),\n",
       " Text(6.397452229299363, 302.86285714285714, 'mse = 0.0\\nsamples = 1\\nvalue = 5.521'),\n",
       " Text(8.529936305732484, 318.39428571428573, 'mse = -0.0\\nsamples = 2\\nvalue = 5.298'),\n",
       " Text(18.659235668789808, 333.92571428571426, 'X[0] <= -0.587\\nmse = 0.235\\nsamples = 14\\nvalue = 5.879'),\n",
       " Text(12.794904458598726, 318.39428571428573, 'X[3] <= -0.734\\nmse = 0.061\\nsamples = 6\\nvalue = 5.617'),\n",
       " Text(10.662420382165605, 302.86285714285714, 'mse = 0.0\\nsamples = 2\\nvalue = 5.298'),\n",
       " Text(14.927388535031847, 302.86285714285714, 'X[2] <= 0.087\\nmse = 0.016\\nsamples = 4\\nvalue = 5.776'),\n",
       " Text(12.794904458598726, 287.33142857142855, 'mse = 0.0\\nsamples = 1\\nvalue = 5.991'),\n",
       " Text(17.059872611464968, 287.33142857142855, 'mse = 0.0\\nsamples = 3\\nvalue = 5.704'),\n",
       " Text(24.52356687898089, 318.39428571428573, 'X[3] <= -0.942\\nmse = 0.276\\nsamples = 8\\nvalue = 6.076'),\n",
       " Text(22.39108280254777, 302.86285714285714, 'mse = 0.0\\nsamples = 1\\nvalue = 7.244'),\n",
       " Text(26.656050955414013, 302.86285714285714, 'X[0] <= -0.167\\nmse = 0.092\\nsamples = 7\\nvalue = 5.909'),\n",
       " Text(21.32484076433121, 287.33142857142855, 'X[5] <= 2.118\\nmse = 0.008\\nsamples = 2\\nvalue = 6.306'),\n",
       " Text(19.19235668789809, 271.79999999999995, 'mse = 0.0\\nsamples = 1\\nvalue = 6.397'),\n",
       " Text(23.45732484076433, 271.79999999999995, 'mse = 0.0\\nsamples = 1\\nvalue = 6.215'),\n",
       " Text(31.987261146496813, 287.33142857142855, 'X[3] <= -0.669\\nmse = 0.037\\nsamples = 5\\nvalue = 5.75'),\n",
       " Text(27.722292993630575, 271.79999999999995, 'X[1] <= 0.159\\nmse = 0.004\\nsamples = 2\\nvalue = 5.925'),\n",
       " Text(25.589808917197452, 256.2685714285714, 'mse = 0.0\\nsamples = 1\\nvalue = 5.858'),\n",
       " Text(29.854777070063694, 256.2685714285714, 'mse = 0.0\\nsamples = 1\\nvalue = 5.991'),\n",
       " Text(36.25222929936306, 271.79999999999995, 'X[1] <= -0.828\\nmse = 0.025\\nsamples = 3\\nvalue = 5.634'),\n",
       " Text(34.119745222929936, 256.2685714285714, 'mse = 0.0\\nsamples = 1\\nvalue = 5.858'),\n",
       " Text(38.38471337579618, 256.2685714285714, 'X[6] <= -1.106\\nmse = 0.0\\nsamples = 2\\nvalue = 5.521'),\n",
       " Text(36.25222929936306, 240.73714285714286, 'mse = 0.0\\nsamples = 1\\nvalue = 5.521'),\n",
       " Text(40.5171974522293, 240.73714285714286, 'mse = 0.0\\nsamples = 1\\nvalue = 5.521'),\n",
       " Text(179.99498407643313, 349.45714285714286, 'X[2] <= 0.292\\nmse = 0.222\\nsamples = 165\\nvalue = 6.369'),\n",
       " Text(93.16289808917197, 333.92571428571426, 'X[4] <= -1.351\\nmse = 0.209\\nsamples = 117\\nvalue = 6.263'),\n",
       " Text(58.110191082802544, 318.39428571428573, 'X[2] <= -0.913\\nmse = 0.014\\nsamples = 3\\nvalue = 7.237'),\n",
       " Text(55.97770700636943, 302.86285714285714, 'X[7] <= 0.46\\nmse = 0.004\\nsamples = 2\\nvalue = 7.311'),\n",
       " Text(53.845222929936305, 287.33142857142855, 'mse = 0.0\\nsamples = 1\\nvalue = 7.378'),\n",
       " Text(58.110191082802544, 287.33142857142855, 'mse = -0.0\\nsamples = 1\\nvalue = 7.244'),\n",
       " Text(60.24267515923567, 302.86285714285714, 'mse = 0.0\\nsamples = 1\\nvalue = 7.09'),\n",
       " Text(128.2156050955414, 318.39428571428573, 'X[4] <= -1.015\\nmse = 0.188\\nsamples = 114\\nvalue = 6.238'),\n",
       " Text(64.5076433121019, 302.86285714285714, 'X[7] <= 1.644\\nmse = 0.181\\nsamples = 25\\nvalue = 5.921'),\n",
       " Text(62.37515923566879, 287.33142857142855, 'X[0] <= -0.661\\nmse = 0.113\\nsamples = 24\\nvalue = 5.976'),\n",
       " Text(53.31210191082803, 271.79999999999995, 'X[1] <= 1.438\\nmse = 0.088\\nsamples = 9\\nvalue = 6.208'),\n",
       " Text(51.179617834394904, 256.2685714285714, 'X[3] <= -0.392\\nmse = 0.032\\nsamples = 8\\nvalue = 6.294'),\n",
       " Text(44.78216560509554, 240.73714285714286, 'X[2] <= -0.25\\nmse = 0.008\\nsamples = 3\\nvalue = 6.105'),\n",
       " Text(42.64968152866242, 225.20571428571427, 'mse = 0.0\\nsamples = 1\\nvalue = 5.991'),\n",
       " Text(46.91464968152866, 225.20571428571427, 'X[7] <= -0.435\\nmse = 0.003\\nsamples = 2\\nvalue = 6.162'),\n",
       " Text(44.78216560509554, 209.6742857142857, 'mse = 0.0\\nsamples = 1\\nvalue = 6.215'),\n",
       " Text(49.04713375796178, 209.6742857142857, 'mse = 0.0\\nsamples = 1\\nvalue = 6.109'),\n",
       " Text(57.577070063694265, 240.73714285714286, 'X[1] <= 0.995\\nmse = 0.013\\nsamples = 5\\nvalue = 6.407'),\n",
       " Text(55.44458598726115, 225.20571428571427, 'X[3] <= 0.492\\nmse = 0.004\\nsamples = 4\\nvalue = 6.455'),\n",
       " Text(53.31210191082803, 209.6742857142857, 'X[3] <= 0.095\\nmse = 0.001\\nsamples = 2\\nvalue = 6.514'),\n",
       " Text(51.179617834394904, 194.14285714285714, 'mse = 0.0\\nsamples = 1\\nvalue = 6.551'),\n",
       " Text(55.44458598726115, 194.14285714285714, 'mse = -0.0\\nsamples = 1\\nvalue = 6.477'),\n",
       " Text(57.577070063694265, 209.6742857142857, 'mse = 0.0\\nsamples = 2\\nvalue = 6.397'),\n",
       " Text(59.70955414012739, 225.20571428571427, 'mse = 0.0\\nsamples = 1\\nvalue = 6.215'),\n",
       " Text(55.44458598726115, 256.2685714285714, 'mse = 0.0\\nsamples = 1\\nvalue = 5.521'),\n",
       " Text(71.43821656050956, 271.79999999999995, 'X[1] <= -0.868\\nmse = 0.076\\nsamples = 15\\nvalue = 5.837'),\n",
       " Text(63.974522292993626, 256.2685714285714, 'X[2] <= -0.081\\nmse = 0.059\\nsamples = 2\\nvalue = 6.234'),\n",
       " Text(61.84203821656051, 240.73714285714286, 'mse = 0.0\\nsamples = 1\\nvalue = 6.477'),\n",
       " Text(66.10700636942676, 240.73714285714286, 'mse = 0.0\\nsamples = 1\\nvalue = 5.991'),\n",
       " Text(78.90191082802548, 256.2685714285714, 'X[2] <= -0.098\\nmse = 0.051\\nsamples = 13\\nvalue = 5.776'),\n",
       " Text(70.37197452229299, 240.73714285714286, 'X[2] <= -0.84\\nmse = 0.034\\nsamples = 9\\nvalue = 5.688'),\n",
       " Text(63.974522292993626, 225.20571428571427, 'X[1] <= -0.015\\nmse = 0.013\\nsamples = 5\\nvalue = 5.792'),\n",
       " Text(61.84203821656051, 209.6742857142857, 'mse = 0.0\\nsamples = 1\\nvalue = 5.991'),\n",
       " Text(66.10700636942676, 209.6742857142857, 'X[9] <= -1.385\\nmse = 0.004\\nsamples = 4\\nvalue = 5.742'),\n",
       " Text(63.974522292993626, 194.14285714285714, 'mse = 0.0\\nsamples = 1\\nvalue = 5.858'),\n",
       " Text(68.23949044585987, 194.14285714285714, 'mse = 0.0\\nsamples = 3\\nvalue = 5.704'),\n",
       " Text(76.76942675159236, 225.20571428571427, 'X[1] <= -0.185\\nmse = 0.028\\nsamples = 4\\nvalue = 5.557'),\n",
       " Text(74.63694267515923, 209.6742857142857, 'X[3] <= -1.389\\nmse = 0.007\\nsamples = 3\\nvalue = 5.643'),\n",
       " Text(72.50445859872612, 194.14285714285714, 'mse = 0.0\\nsamples = 1\\nvalue = 5.521'),\n",
       " Text(76.76942675159236, 194.14285714285714, 'mse = 0.0\\nsamples = 2\\nvalue = 5.704'),\n",
       " Text(78.90191082802548, 209.6742857142857, 'mse = 0.0\\nsamples = 1\\nvalue = 5.298'),\n",
       " Text(87.43184713375796, 240.73714285714286, 'X[3] <= -0.832\\nmse = 0.033\\nsamples = 4\\nvalue = 5.975'),\n",
       " Text(85.29936305732484, 225.20571428571427, 'X[1] <= -0.393\\nmse = 0.011\\nsamples = 3\\nvalue = 6.066'),\n",
       " Text(83.16687898089172, 209.6742857142857, 'mse = 0.0\\nsamples = 1\\nvalue = 6.215'),\n",
       " Text(87.43184713375796, 209.6742857142857, 'mse = 0.0\\nsamples = 2\\nvalue = 5.991'),\n",
       " Text(89.56433121019109, 225.20571428571427, 'mse = 0.0\\nsamples = 1\\nvalue = 5.704'),\n",
       " Text(66.64012738853503, 287.33142857142855, 'mse = -0.0\\nsamples = 1\\nvalue = 4.605'),\n",
       " Text(191.9235668789809, 302.86285714285714, 'X[2] <= -0.266\\nmse = 0.155\\nsamples = 89\\nvalue = 6.327'),\n",
       " Text(137.9450636942675, 287.33142857142855, 'X[6] <= 1.51\\nmse = 0.151\\nsamples = 51\\nvalue = 6.22'),\n",
       " Text(135.8125796178344, 271.79999999999995, 'X[0] <= 0.008\\nmse = 0.138\\nsamples = 50\\nvalue = 6.203'),\n",
       " Text(118.61942675159236, 256.2685714285714, 'X[0] <= -0.324\\nmse = 0.06\\nsamples = 30\\nvalue = 6.283'),\n",
       " Text(101.82611464968153, 240.73714285714286, 'X[1] <= -1.147\\nmse = 0.054\\nsamples = 20\\nvalue = 6.202'),\n",
       " Text(93.82929936305732, 225.20571428571427, 'X[9] <= 1.967\\nmse = 0.024\\nsamples = 4\\nvalue = 6.466'),\n",
       " Text(91.6968152866242, 209.6742857142857, 'X[9] <= -1.646\\nmse = 0.003\\nsamples = 3\\nvalue = 6.549'),\n",
       " Text(89.56433121019109, 194.14285714285714, 'mse = 0.0\\nsamples = 1\\nvalue = 6.477'),\n",
       " Text(93.82929936305732, 194.14285714285714, 'X[2] <= -1.025\\nmse = 0.001\\nsamples = 2\\nvalue = 6.586'),\n",
       " Text(91.6968152866242, 178.61142857142858, 'mse = 0.0\\nsamples = 1\\nvalue = 6.62'),\n",
       " Text(95.96178343949045, 178.61142857142858, 'mse = -0.0\\nsamples = 1\\nvalue = 6.551'),\n",
       " Text(95.96178343949045, 209.6742857142857, 'mse = -0.0\\nsamples = 1\\nvalue = 6.215'),\n",
       " Text(109.82292993630573, 225.20571428571427, 'X[3] <= -0.917\\nmse = 0.04\\nsamples = 16\\nvalue = 6.136'),\n",
       " Text(104.49171974522292, 209.6742857142857, 'X[2] <= -0.555\\nmse = 0.017\\nsamples = 5\\nvalue = 5.983'),\n",
       " Text(102.35923566878981, 194.14285714285714, 'X[6] <= 0.262\\nmse = 0.004\\nsamples = 4\\nvalue = 5.925'),\n",
       " Text(100.22675159235669, 178.61142857142858, 'mse = 0.0\\nsamples = 2\\nvalue = 5.991'),\n",
       " Text(104.49171974522292, 178.61142857142858, 'X[8] <= -0.356\\nmse = 0.0\\nsamples = 2\\nvalue = 5.858'),\n",
       " Text(102.35923566878981, 163.07999999999998, 'mse = 0.0\\nsamples = 1\\nvalue = 5.858'),\n",
       " Text(106.62420382165605, 163.07999999999998, 'mse = 0.0\\nsamples = 1\\nvalue = 5.858'),\n",
       " Text(106.62420382165605, 194.14285714285714, 'mse = -0.0\\nsamples = 1\\nvalue = 6.215'),\n",
       " Text(115.15414012738853, 209.6742857142857, 'X[6] <= 0.228\\nmse = 0.035\\nsamples = 11\\nvalue = 6.206'),\n",
       " Text(110.8891719745223, 194.14285714285714, 'X[8] <= 0.897\\nmse = 0.006\\nsamples = 2\\nvalue = 6.474'),\n",
       " Text(108.75668789808917, 178.61142857142858, 'mse = 0.0\\nsamples = 1\\nvalue = 6.397'),\n",
       " Text(113.02165605095541, 178.61142857142858, 'mse = 0.0\\nsamples = 1\\nvalue = 6.551'),\n",
       " Text(119.41910828025478, 194.14285714285714, 'X[3] <= -0.734\\nmse = 0.022\\nsamples = 9\\nvalue = 6.146'),\n",
       " Text(117.28662420382166, 178.61142857142858, 'mse = 0.0\\nsamples = 1\\nvalue = 6.477'),\n",
       " Text(121.55159235668789, 178.61142857142858, 'X[7] <= 1.423\\nmse = 0.009\\nsamples = 8\\nvalue = 6.105'),\n",
       " Text(116.22038216560509, 163.07999999999998, 'X[3] <= -0.467\\nmse = 0.007\\nsamples = 6\\nvalue = 6.068'),\n",
       " Text(111.95541401273886, 147.5485714285714, 'X[8] <= 2.276\\nmse = 0.003\\nsamples = 3\\nvalue = 6.031'),\n",
       " Text(109.82292993630573, 132.01714285714286, 'mse = -0.0\\nsamples = 2\\nvalue = 5.991'),\n",
       " Text(114.08789808917197, 132.01714285714286, 'mse = 0.0\\nsamples = 1\\nvalue = 6.109'),\n",
       " Text(120.48535031847133, 147.5485714285714, 'X[2] <= -1.53\\nmse = 0.008\\nsamples = 3\\nvalue = 6.105'),\n",
       " Text(118.35286624203822, 132.01714285714286, 'mse = 0.0\\nsamples = 1\\nvalue = 5.991'),\n",
       " Text(122.61783439490446, 132.01714285714286, 'X[2] <= -0.867\\nmse = 0.003\\nsamples = 2\\nvalue = 6.162'),\n",
       " Text(120.48535031847133, 116.48571428571427, 'mse = 0.0\\nsamples = 1\\nvalue = 6.215'),\n",
       " Text(124.75031847133758, 116.48571428571427, 'mse = 0.0\\nsamples = 1\\nvalue = 6.109'),\n",
       " Text(126.8828025477707, 163.07999999999998, 'X[1] <= 1.154\\nmse = 0.0\\nsamples = 2\\nvalue = 6.215'),\n",
       " Text(124.75031847133758, 147.5485714285714, 'mse = 0.0\\nsamples = 1\\nvalue = 6.215'),\n",
       " Text(129.0152866242038, 147.5485714285714, 'mse = 0.0\\nsamples = 1\\nvalue = 6.215'),\n",
       " Text(135.41273885350319, 240.73714285714286, 'X[6] <= -0.61\\nmse = 0.033\\nsamples = 10\\nvalue = 6.444'),\n",
       " Text(133.28025477707007, 225.20571428571427, 'mse = 0.0\\nsamples = 1\\nvalue = 6.802'),\n",
       " Text(137.5452229299363, 225.20571428571427, 'X[3] <= 0.482\\nmse = 0.021\\nsamples = 9\\nvalue = 6.405'),\n",
       " Text(135.41273885350319, 209.6742857142857, 'X[2] <= -1.025\\nmse = 0.012\\nsamples = 8\\nvalue = 6.37'),\n",
       " Text(131.14777070063695, 194.14285714285714, 'X[2] <= -1.354\\nmse = 0.004\\nsamples = 3\\nvalue = 6.475'),\n",
       " Text(129.0152866242038, 178.61142857142858, 'mse = 0.0\\nsamples = 1\\nvalue = 6.397'),\n",
       " Text(133.28025477707007, 178.61142857142858, 'X[7] <= -0.495\\nmse = 0.001\\nsamples = 2\\nvalue = 6.514'),\n",
       " Text(131.14777070063695, 163.07999999999998, 'mse = 0.0\\nsamples = 1\\nvalue = 6.551'),\n",
       " Text(135.41273885350319, 163.07999999999998, 'mse = -0.0\\nsamples = 1\\nvalue = 6.477'),\n",
       " Text(139.67770700636942, 194.14285714285714, 'X[0] <= -0.112\\nmse = 0.007\\nsamples = 5\\nvalue = 6.307'),\n",
       " Text(137.5452229299363, 178.61142857142858, 'mse = 0.0\\nsamples = 2\\nvalue = 6.397'),\n",
       " Text(141.81019108280253, 178.61142857142858, 'X[3] <= -0.342\\nmse = 0.002\\nsamples = 3\\nvalue = 6.246'),\n",
       " Text(139.67770700636942, 163.07999999999998, 'mse = 0.0\\nsamples = 2\\nvalue = 6.215'),\n",
       " Text(143.94267515923568, 163.07999999999998, 'mse = 0.0\\nsamples = 1\\nvalue = 6.31'),\n",
       " Text(139.67770700636942, 209.6742857142857, 'mse = 0.0\\nsamples = 1\\nvalue = 6.685'),\n",
       " Text(153.00573248407642, 256.2685714285714, 'X[3] <= -1.581\\nmse = 0.231\\nsamples = 20\\nvalue = 6.083'),\n",
       " Text(143.94267515923568, 240.73714285714286, 'X[1] <= -0.852\\nmse = 0.117\\nsamples = 3\\nvalue = 6.474'),\n",
       " Text(141.81019108280253, 225.20571428571427, 'mse = 0.0\\nsamples = 1\\nvalue = 5.991'),\n",
       " Text(146.0751592356688, 225.20571428571427, 'X[6] <= -0.354\\nmse = 0.001\\nsamples = 2\\nvalue = 6.715'),\n",
       " Text(143.94267515923568, 209.6742857142857, 'mse = 0.0\\nsamples = 1\\nvalue = 6.685'),\n",
       " Text(148.2076433121019, 209.6742857142857, 'mse = -0.0\\nsamples = 1\\nvalue = 6.745'),\n",
       " Text(162.0687898089172, 240.73714285714286, 'X[3] <= -1.41\\nmse = 0.22\\nsamples = 17\\nvalue = 6.014'),\n",
       " Text(154.60509554140128, 225.20571428571427, 'X[7] <= 0.202\\nmse = 0.135\\nsamples = 2\\nvalue = 5.154'),\n",
       " Text(152.47261146496814, 209.6742857142857, 'mse = 0.0\\nsamples = 1\\nvalue = 5.521'),\n",
       " Text(156.7375796178344, 209.6742857142857, 'mse = 0.0\\nsamples = 1\\nvalue = 4.787'),\n",
       " Text(169.53248407643312, 225.20571428571427, 'X[1] <= -0.439\\nmse = 0.119\\nsamples = 15\\nvalue = 6.129'),\n",
       " Text(161.00254777070063, 209.6742857142857, 'X[2] <= -1.461\\nmse = 0.032\\nsamples = 6\\nvalue = 5.933'),\n",
       " Text(156.7375796178344, 194.14285714285714, 'X[0] <= 0.271\\nmse = 0.018\\nsamples = 3\\nvalue = 5.8'),\n",
       " Text(154.60509554140128, 178.61142857142858, 'mse = 0.0\\nsamples = 1\\nvalue = 5.704'),\n",
       " Text(158.87006369426751, 178.61142857142858, 'X[7] <= 0.619\\nmse = 0.021\\nsamples = 2\\nvalue = 5.848'),\n",
       " Text(156.7375796178344, 163.07999999999998, 'mse = 0.0\\nsamples = 1\\nvalue = 5.704'),\n",
       " Text(161.00254777070063, 163.07999999999998, 'mse = 0.0\\nsamples = 1\\nvalue = 5.991'),\n",
       " Text(165.2675159235669, 194.14285714285714, 'X[8] <= -0.276\\nmse = 0.011\\nsamples = 3\\nvalue = 6.066'),\n",
       " Text(163.13503184713375, 178.61142857142858, 'mse = 0.0\\nsamples = 1\\nvalue = 6.215'),\n",
       " Text(167.4, 178.61142857142858, 'mse = 0.0\\nsamples = 2\\nvalue = 5.991'),\n",
       " Text(178.0624203821656, 209.6742857142857, 'X[2] <= -0.418\\nmse = 0.135\\nsamples = 9\\nvalue = 6.259'),\n",
       " Text(175.92993630573247, 194.14285714285714, 'X[6] <= 0.997\\nmse = 0.11\\nsamples = 8\\nvalue = 6.191'),\n",
       " Text(171.66496815286624, 178.61142857142858, 'X[1] <= 1.705\\nmse = 0.009\\nsamples = 4\\nvalue = 6.077'),\n",
       " Text(169.53248407643312, 163.07999999999998, 'X[1] <= 0.63\\nmse = 0.003\\nsamples = 3\\nvalue = 6.031'),\n",
       " Text(167.4, 147.5485714285714, 'mse = 0.0\\nsamples = 1\\nvalue = 6.109'),\n",
       " Text(171.66496815286624, 147.5485714285714, 'mse = -0.0\\nsamples = 2\\nvalue = 5.991'),\n",
       " Text(173.79745222929935, 163.07999999999998, 'mse = 0.0\\nsamples = 1\\nvalue = 6.215'),\n",
       " Text(180.19490445859873, 178.61142857142858, 'X[6] <= 1.305\\nmse = 0.185\\nsamples = 4\\nvalue = 6.306'),\n",
       " Text(178.0624203821656, 163.07999999999998, 'mse = 0.0\\nsamples = 1\\nvalue = 6.908'),\n",
       " Text(182.32738853503184, 163.07999999999998, 'X[3] <= -0.337\\nmse = 0.086\\nsamples = 3\\nvalue = 6.105'),\n",
       " Text(180.19490445859873, 147.5485714285714, 'mse = 0.0\\nsamples = 1\\nvalue = 6.397'),\n",
       " Text(184.45987261146496, 147.5485714285714, 'X[1] <= 1.08\\nmse = 0.065\\nsamples = 2\\nvalue = 5.959'),\n",
       " Text(182.32738853503184, 132.01714285714286, 'mse = 0.0\\nsamples = 1\\nvalue = 5.704'),\n",
       " Text(186.59235668789808, 132.01714285714286, 'mse = 0.0\\nsamples = 1\\nvalue = 6.215'),\n",
       " Text(180.19490445859873, 194.14285714285714, 'mse = 0.0\\nsamples = 1\\nvalue = 6.802'),\n",
       " Text(140.07754777070065, 271.79999999999995, 'mse = -0.0\\nsamples = 1\\nvalue = 7.09'),\n",
       " Text(245.90207006369425, 287.33142857142855, 'X[7] <= -1.336\\nmse = 0.124\\nsamples = 38\\nvalue = 6.469'),\n",
       " Text(243.76958598726114, 271.79999999999995, 'mse = 0.0\\nsamples = 1\\nvalue = 5.521'),\n",
       " Text(248.0345541401274, 271.79999999999995, 'X[6] <= 1.066\\nmse = 0.103\\nsamples = 37\\nvalue = 6.495'),\n",
       " Text(238.03853503184712, 256.2685714285714, 'X[0] <= 1.078\\nmse = 0.093\\nsamples = 33\\nvalue = 6.543'),\n",
       " Text(224.443949044586, 240.73714285714286, 'X[3] <= 0.262\\nmse = 0.088\\nsamples = 30\\nvalue = 6.506'),\n",
       " Text(203.65222929936306, 225.20571428571427, 'X[3] <= -0.815\\nmse = 0.073\\nsamples = 18\\nvalue = 6.404'),\n",
       " Text(188.72484076433122, 209.6742857142857, 'X[1] <= -0.95\\nmse = 0.046\\nsamples = 4\\nvalue = 6.72'),\n",
       " Text(186.59235668789808, 194.14285714285714, 'mse = 0.0\\nsamples = 1\\nvalue = 7.09'),\n",
       " Text(190.85732484076433, 194.14285714285714, 'X[1] <= 0.884\\nmse = 0.001\\nsamples = 3\\nvalue = 6.597'),\n",
       " Text(188.72484076433122, 178.61142857142858, 'X[1] <= 0.127\\nmse = 0.0\\nsamples = 2\\nvalue = 6.62'),\n",
       " Text(186.59235668789808, 163.07999999999998, 'mse = 0.0\\nsamples = 1\\nvalue = 6.62'),\n",
       " Text(190.85732484076433, 163.07999999999998, 'mse = 0.0\\nsamples = 1\\nvalue = 6.62'),\n",
       " Text(192.98980891719745, 178.61142857142858, 'mse = -0.0\\nsamples = 1\\nvalue = 6.551'),\n",
       " Text(218.5796178343949, 209.6742857142857, 'X[8] <= -0.062\\nmse = 0.043\\nsamples = 14\\nvalue = 6.314'),\n",
       " Text(207.9171974522293, 194.14285714285714, 'X[0] <= 0.16\\nmse = 0.033\\nsamples = 11\\nvalue = 6.251'),\n",
       " Text(199.38726114649683, 178.61142857142858, 'X[3] <= -0.381\\nmse = 0.02\\nsamples = 7\\nvalue = 6.351'),\n",
       " Text(195.12229299363057, 163.07999999999998, 'X[3] <= -0.635\\nmse = 0.003\\nsamples = 2\\nvalue = 6.162'),\n",
       " Text(192.98980891719745, 147.5485714285714, 'mse = 0.0\\nsamples = 1\\nvalue = 6.215'),\n",
       " Text(197.25477707006368, 147.5485714285714, 'mse = 0.0\\nsamples = 1\\nvalue = 6.109'),\n",
       " Text(203.65222929936306, 163.07999999999998, 'X[9] <= 3.73\\nmse = 0.007\\nsamples = 5\\nvalue = 6.426'),\n",
       " Text(201.51974522292994, 147.5485714285714, 'X[1] <= -0.65\\nmse = 0.003\\nsamples = 4\\nvalue = 6.395'),\n",
       " Text(199.38726114649683, 132.01714285714286, 'mse = 0.0\\nsamples = 1\\nvalue = 6.31'),\n",
       " Text(203.65222929936306, 132.01714285714286, 'X[2] <= -0.001\\nmse = 0.001\\nsamples = 3\\nvalue = 6.424'),\n",
       " Text(201.51974522292994, 116.48571428571427, 'mse = 0.0\\nsamples = 1\\nvalue = 6.477'),\n",
       " Text(205.78471337579617, 116.48571428571427, 'mse = 0.0\\nsamples = 2\\nvalue = 6.397'),\n",
       " Text(205.78471337579617, 147.5485714285714, 'mse = 0.0\\nsamples = 1\\nvalue = 6.551'),\n",
       " Text(216.44713375796178, 178.61142857142858, 'X[1] <= 0.049\\nmse = 0.009\\nsamples = 4\\nvalue = 6.077'),\n",
       " Text(212.18216560509555, 163.07999999999998, 'X[7] <= 0.4\\nmse = 0.003\\nsamples = 2\\nvalue = 6.162'),\n",
       " Text(210.0496815286624, 147.5485714285714, 'mse = 0.0\\nsamples = 1\\nvalue = 6.109'),\n",
       " Text(214.31464968152866, 147.5485714285714, 'mse = -0.0\\nsamples = 1\\nvalue = 6.215'),\n",
       " Text(220.712101910828, 163.07999999999998, 'X[6] <= -0.046\\nmse = 0.0\\nsamples = 2\\nvalue = 5.991'),\n",
       " Text(218.5796178343949, 147.5485714285714, 'mse = 0.0\\nsamples = 1\\nvalue = 5.991'),\n",
       " Text(222.84458598726115, 147.5485714285714, 'mse = 0.0\\nsamples = 1\\nvalue = 5.991'),\n",
       " Text(229.2420382165605, 194.14285714285714, 'X[8] <= 2.378\\nmse = 0.014\\nsamples = 3\\nvalue = 6.544'),\n",
       " Text(227.1095541401274, 178.61142857142858, 'X[8] <= 1.175\\nmse = 0.004\\nsamples = 2\\nvalue = 6.618'),\n",
       " Text(224.97707006369427, 163.07999999999998, 'mse = 0.0\\nsamples = 1\\nvalue = 6.551'),\n",
       " Text(229.2420382165605, 163.07999999999998, 'mse = 0.0\\nsamples = 1\\nvalue = 6.685'),\n",
       " Text(231.37452229299362, 178.61142857142858, 'mse = -0.0\\nsamples = 1\\nvalue = 6.397'),\n",
       " Text(245.23566878980893, 225.20571428571427, 'X[8] <= 2.276\\nmse = 0.071\\nsamples = 12\\nvalue = 6.659'),\n",
       " Text(243.10318471337578, 209.6742857142857, 'X[5] <= -1.007\\nmse = 0.047\\nsamples = 11\\nvalue = 6.709'),\n",
       " Text(240.97070063694267, 194.14285714285714, 'mse = 0.0\\nsamples = 1\\nvalue = 7.09'),\n",
       " Text(245.23566878980893, 194.14285714285714, 'X[0] <= 0.437\\nmse = 0.036\\nsamples = 10\\nvalue = 6.671'),\n",
       " Text(237.771974522293, 178.61142857142858, 'X[7] <= -0.096\\nmse = 0.005\\nsamples = 7\\nvalue = 6.579'),\n",
       " Text(233.50700636942676, 163.07999999999998, 'X[2] <= -0.098\\nmse = 0.004\\nsamples = 4\\nvalue = 6.618'),\n",
       " Text(231.37452229299362, 147.5485714285714, 'mse = 0.0\\nsamples = 2\\nvalue = 6.551'),\n",
       " Text(235.63949044585988, 147.5485714285714, 'mse = -0.0\\nsamples = 2\\nvalue = 6.685'),\n",
       " Text(242.03694267515922, 163.07999999999998, 'X[8] <= 0.779\\nmse = 0.001\\nsamples = 3\\nvalue = 6.526'),\n",
       " Text(239.9044585987261, 147.5485714285714, 'mse = -0.0\\nsamples = 2\\nvalue = 6.551'),\n",
       " Text(244.16942675159234, 147.5485714285714, 'mse = 0.0\\nsamples = 1\\nvalue = 6.477'),\n",
       " Text(252.69936305732483, 178.61142857142858, 'X[3] <= 0.79\\nmse = 0.043\\nsamples = 3\\nvalue = 6.886'),\n",
       " Text(250.56687898089172, 163.07999999999998, 'X[7] <= 0.31\\nmse = 0.003\\nsamples = 2\\nvalue = 6.744'),\n",
       " Text(248.4343949044586, 147.5485714285714, 'mse = 0.0\\nsamples = 1\\nvalue = 6.802'),\n",
       " Text(252.69936305732483, 147.5485714285714, 'mse = 0.0\\nsamples = 1\\nvalue = 6.685'),\n",
       " Text(254.83184713375795, 163.07999999999998, 'mse = -0.0\\nsamples = 1\\nvalue = 7.17'),\n",
       " Text(247.36815286624204, 209.6742857142857, 'mse = -0.0\\nsamples = 1\\nvalue = 6.109'),\n",
       " Text(251.63312101910827, 240.73714285714286, 'X[7] <= -0.435\\nmse = 0.0\\nsamples = 3\\nvalue = 6.908'),\n",
       " Text(249.50063694267516, 225.20571428571427, 'mse = 0.0\\nsamples = 1\\nvalue = 6.908'),\n",
       " Text(253.7656050955414, 225.20571428571427, 'X[6] <= 0.69\\nmse = 0.0\\nsamples = 2\\nvalue = 6.908'),\n",
       " Text(251.63312101910827, 209.6742857142857, 'mse = 0.0\\nsamples = 1\\nvalue = 6.908'),\n",
       " Text(255.8980891719745, 209.6742857142857, 'mse = 0.0\\nsamples = 1\\nvalue = 6.908'),\n",
       " Text(258.0305732484076, 256.2685714285714, 'X[3] <= -0.334\\nmse = 0.012\\nsamples = 4\\nvalue = 6.103'),\n",
       " Text(255.8980891719745, 240.73714285714286, 'mse = 0.0\\nsamples = 2\\nvalue = 5.991'),\n",
       " Text(260.16305732484074, 240.73714285714286, 'mse = -0.0\\nsamples = 2\\nvalue = 6.215'),\n",
       " Text(266.82707006369424, 333.92571428571426, 'X[1] <= -1.317\\nmse = 0.161\\nsamples = 48\\nvalue = 6.628'),\n",
       " Text(250.1670382165605, 318.39428571428573, 'X[11] <= -1.546\\nmse = 0.145\\nsamples = 4\\nvalue = 7.048'),\n",
       " Text(248.0345541401274, 302.86285714285714, 'mse = 0.0\\nsamples = 1\\nvalue = 6.397'),\n",
       " Text(252.29952229299363, 302.86285714285714, 'X[0] <= -0.149\\nmse = 0.005\\nsamples = 3\\nvalue = 7.266'),\n",
       " Text(250.1670382165605, 287.33142857142855, 'mse = 0.0\\nsamples = 1\\nvalue = 7.17'),\n",
       " Text(254.43200636942674, 287.33142857142855, 'mse = -0.0\\nsamples = 2\\nvalue = 7.313'),\n",
       " Text(283.487101910828, 318.39428571428573, 'X[6] <= -1.072\\nmse = 0.145\\nsamples = 44\\nvalue = 6.59'),\n",
       " Text(264.02818471337577, 302.86285714285714, 'X[6] <= -1.448\\nmse = 0.222\\nsamples = 6\\nvalue = 6.205'),\n",
       " Text(258.696974522293, 287.33142857142855, 'X[11] <= -1.546\\nmse = 0.025\\nsamples = 2\\nvalue = 6.844'),\n",
       " Text(256.56449044585986, 271.79999999999995, 'mse = 0.0\\nsamples = 1\\nvalue = 7.003'),\n",
       " Text(260.8294585987261, 271.79999999999995, 'mse = 0.0\\nsamples = 1\\nvalue = 6.685'),\n",
       " Text(269.3593949044586, 287.33142857142855, 'X[1] <= -0.713\\nmse = 0.014\\nsamples = 4\\nvalue = 5.886'),\n",
       " Text(265.0944267515924, 271.79999999999995, 'X[11] <= -1.73\\nmse = 0.006\\nsamples = 2\\nvalue = 5.781'),\n",
       " Text(262.9619426751592, 256.2685714285714, 'mse = 0.0\\nsamples = 1\\nvalue = 5.858'),\n",
       " Text(267.2269108280255, 256.2685714285714, 'mse = 0.0\\nsamples = 1\\nvalue = 5.704'),\n",
       " Text(273.62436305732484, 271.79999999999995, 'X[1] <= -0.516\\nmse = 0.0\\nsamples = 2\\nvalue = 5.991'),\n",
       " Text(271.4918789808917, 256.2685714285714, 'mse = 0.0\\nsamples = 1\\nvalue = 5.991'),\n",
       " Text(275.75684713375796, 256.2685714285714, 'mse = 0.0\\nsamples = 1\\nvalue = 5.991'),\n",
       " Text(302.94601910828027, 302.86285714285714, 'X[3] <= -0.009\\nmse = 0.105\\nsamples = 38\\nvalue = 6.651'),\n",
       " Text(289.61799363057327, 287.33142857142855, 'X[3] <= -0.056\\nmse = 0.06\\nsamples = 15\\nvalue = 6.8'),\n",
       " Text(284.2867834394904, 271.79999999999995, 'X[4] <= -1.015\\nmse = 0.028\\nsamples = 12\\nvalue = 6.711'),\n",
       " Text(280.0218152866242, 256.2685714285714, 'X[3] <= -0.211\\nmse = 0.009\\nsamples = 6\\nvalue = 6.593'),\n",
       " Text(277.8893312101911, 240.73714285714286, 'X[5] <= -1.81\\nmse = 0.003\\nsamples = 4\\nvalue = 6.651'),\n",
       " Text(275.75684713375796, 225.20571428571427, 'mse = 0.0\\nsamples = 1\\nvalue = 6.551'),\n",
       " Text(280.0218152866242, 225.20571428571427, 'mse = 0.0\\nsamples = 3\\nvalue = 6.685'),\n",
       " Text(282.1542993630573, 240.73714285714286, 'mse = -0.0\\nsamples = 2\\nvalue = 6.477'),\n",
       " Text(288.5517515923567, 256.2685714285714, 'X[3] <= -0.287\\nmse = 0.02\\nsamples = 6\\nvalue = 6.829'),\n",
       " Text(286.41926751592354, 240.73714285714286, 'X[6] <= 0.245\\nmse = 0.007\\nsamples = 5\\nvalue = 6.776'),\n",
       " Text(284.2867834394904, 225.20571428571427, 'X[9] <= -0.161\\nmse = 0.002\\nsamples = 3\\nvalue = 6.838'),\n",
       " Text(282.1542993630573, 209.6742857142857, 'mse = -0.0\\nsamples = 2\\nvalue = 6.802'),\n",
       " Text(286.41926751592354, 209.6742857142857, 'mse = -0.0\\nsamples = 1\\nvalue = 6.908'),\n",
       " Text(288.5517515923567, 225.20571428571427, 'mse = -0.0\\nsamples = 2\\nvalue = 6.685'),\n",
       " Text(290.6842356687898, 240.73714285714286, 'mse = -0.0\\nsamples = 1\\nvalue = 7.09'),\n",
       " Text(294.94920382165606, 271.79999999999995, 'X[2] <= 0.649\\nmse = 0.031\\nsamples = 3\\nvalue = 7.155'),\n",
       " Text(292.81671974522294, 256.2685714285714, 'mse = 0.0\\nsamples = 1\\nvalue = 6.908'),\n",
       " Text(297.08168789808917, 256.2685714285714, 'X[6] <= -0.439\\nmse = 0.001\\nsamples = 2\\nvalue = 7.279'),\n",
       " Text(294.94920382165606, 240.73714285714286, 'mse = 0.0\\nsamples = 1\\nvalue = 7.244'),\n",
       " Text(299.2141719745223, 240.73714285714286, 'mse = 0.0\\nsamples = 1\\nvalue = 7.313'),\n",
       " Text(316.27404458598727, 287.33142857142855, 'X[0] <= -1.099\\nmse = 0.111\\nsamples = 23\\nvalue = 6.553'),\n",
       " Text(303.4791401273885, 271.79999999999995, 'X[9] <= -1.781\\nmse = 0.069\\nsamples = 8\\nvalue = 6.318'),\n",
       " Text(301.3466560509554, 256.2685714285714, 'mse = 0.0\\nsamples = 1\\nvalue = 6.802'),\n",
       " Text(305.61162420382163, 256.2685714285714, 'X[8] <= -0.356\\nmse = 0.04\\nsamples = 7\\nvalue = 6.248'),\n",
       " Text(303.4791401273885, 240.73714285714286, 'mse = 0.0\\nsamples = 1\\nvalue = 6.685'),\n",
       " Text(307.74410828025475, 240.73714285714286, 'X[1] <= 0.255\\nmse = 0.01\\nsamples = 6\\nvalue = 6.176'),\n",
       " Text(303.4791401273885, 225.20571428571427, 'X[3] <= 0.855\\nmse = 0.002\\nsamples = 4\\nvalue = 6.238'),\n",
       " Text(301.3466560509554, 209.6742857142857, 'mse = -0.0\\nsamples = 3\\nvalue = 6.215'),\n",
       " Text(305.61162420382163, 209.6742857142857, 'mse = 0.0\\nsamples = 1\\nvalue = 6.31'),\n",
       " Text(312.00907643312104, 225.20571428571427, 'X[6] <= 0.724\\nmse = 0.003\\nsamples = 2\\nvalue = 6.05'),\n",
       " Text(309.87659235668787, 209.6742857142857, 'mse = 0.0\\nsamples = 1\\nvalue = 6.109'),\n",
       " Text(314.14156050955415, 209.6742857142857, 'mse = 0.0\\nsamples = 1\\nvalue = 5.991'),\n",
       " Text(329.06894904458596, 271.79999999999995, 'X[1] <= -0.822\\nmse = 0.088\\nsamples = 15\\nvalue = 6.679'),\n",
       " Text(320.5390127388535, 256.2685714285714, 'X[8] <= 0.492\\nmse = 0.035\\nsamples = 4\\nvalue = 6.4'),\n",
       " Text(318.4065286624204, 240.73714285714286, 'X[1] <= -1.213\\nmse = 0.025\\nsamples = 3\\nvalue = 6.327'),\n",
       " Text(316.27404458598727, 225.20571428571427, 'mse = 0.0\\nsamples = 1\\nvalue = 6.551'),\n",
       " Text(320.5390127388535, 225.20571428571427, 'mse = 0.0\\nsamples = 2\\nvalue = 6.215'),\n",
       " Text(322.6714968152866, 240.73714285714286, 'mse = -0.0\\nsamples = 1\\nvalue = 6.62'),\n",
       " Text(337.5988853503185, 256.2685714285714, 'X[8] <= 0.897\\nmse = 0.068\\nsamples = 11\\nvalue = 6.78'),\n",
       " Text(331.2014331210191, 240.73714285714286, 'X[7] <= 0.77\\nmse = 0.034\\nsamples = 8\\nvalue = 6.892'),\n",
       " Text(324.80398089171973, 225.20571428571427, 'X[0] <= -0.578\\nmse = 0.022\\nsamples = 5\\nvalue = 6.974'),\n",
       " Text(322.6714968152866, 209.6742857142857, 'mse = 0.0\\nsamples = 1\\nvalue = 6.685'),\n",
       " Text(326.93646496815285, 209.6742857142857, 'X[0] <= 0.88\\nmse = 0.002\\nsamples = 4\\nvalue = 7.047'),\n",
       " Text(324.80398089171973, 194.14285714285714, 'mse = 0.0\\nsamples = 2\\nvalue = 7.003'),\n",
       " Text(329.06894904458596, 194.14285714285714, 'mse = -0.0\\nsamples = 2\\nvalue = 7.09'),\n",
       " Text(337.5988853503185, 225.20571428571427, 'X[3] <= 1.068\\nmse = 0.022\\nsamples = 3\\nvalue = 6.754'),\n",
       " Text(335.46640127388537, 209.6742857142857, 'X[0] <= 1.157\\nmse = 0.003\\nsamples = 2\\nvalue = 6.855'),\n",
       " Text(333.33391719745225, 194.14285714285714, 'mse = 0.0\\nsamples = 1\\nvalue = 6.908'),\n",
       " Text(337.5988853503185, 194.14285714285714, 'mse = 0.0\\nsamples = 1\\nvalue = 6.802'),\n",
       " Text(339.7313694267516, 209.6742857142857, 'mse = -0.0\\nsamples = 1\\nvalue = 6.551'),\n",
       " Text(343.99633757961783, 240.73714285714286, 'X[0] <= 0.7\\nmse = 0.039\\nsamples = 3\\nvalue = 6.483'),\n",
       " Text(341.8638535031847, 225.20571428571427, 'mse = 0.0\\nsamples = 1\\nvalue = 6.215'),\n",
       " Text(346.12882165605095, 225.20571428571427, 'X[3] <= 1.088\\nmse = 0.004\\nsamples = 2\\nvalue = 6.618'),\n",
       " Text(343.99633757961783, 209.6742857142857, 'mse = 0.0\\nsamples = 1\\nvalue = 6.685'),\n",
       " Text(348.26130573248406, 209.6742857142857, 'mse = 0.0\\nsamples = 1\\nvalue = 6.551'),\n",
       " Text(333.33391719745225, 364.9885714285714, 'X[2] <= 0.292\\nmse = 0.213\\nsamples = 19\\nvalue = 5.622'),\n",
       " Text(329.06894904458596, 349.45714285714286, 'X[5] <= 2.118\\nmse = 0.129\\nsamples = 7\\nvalue = 5.156'),\n",
       " Text(326.93646496815285, 333.92571428571426, 'X[1] <= 1.201\\nmse = 0.054\\nsamples = 6\\nvalue = 5.039'),\n",
       " Text(324.80398089171973, 318.39428571428573, 'X[1] <= 0.099\\nmse = 0.02\\nsamples = 5\\nvalue = 5.126'),\n",
       " Text(322.6714968152866, 302.86285714285714, 'X[6] <= -0.508\\nmse = 0.0\\nsamples = 3\\nvalue = 5.011'),\n",
       " Text(320.5390127388535, 287.33142857142855, 'mse = 0.0\\nsamples = 2\\nvalue = 5.011'),\n",
       " Text(324.80398089171973, 287.33142857142855, 'mse = 0.0\\nsamples = 1\\nvalue = 5.011'),\n",
       " Text(326.93646496815285, 302.86285714285714, 'mse = -0.0\\nsamples = 2\\nvalue = 5.298'),\n",
       " Text(329.06894904458596, 318.39428571428573, 'mse = -0.0\\nsamples = 1\\nvalue = 4.605'),\n",
       " Text(331.2014331210191, 333.92571428571426, 'mse = -0.0\\nsamples = 1\\nvalue = 5.858'),\n",
       " Text(337.5988853503185, 349.45714285714286, 'X[6] <= -0.884\\nmse = 0.061\\nsamples = 12\\nvalue = 5.895'),\n",
       " Text(335.46640127388537, 333.92571428571426, 'mse = 0.0\\nsamples = 1\\nvalue = 6.397'),\n",
       " Text(339.7313694267516, 333.92571428571426, 'X[1] <= -1.061\\nmse = 0.041\\nsamples = 11\\nvalue = 5.849'),\n",
       " Text(335.46640127388537, 318.39428571428573, 'X[1] <= -1.406\\nmse = 0.012\\nsamples = 2\\nvalue = 6.103'),\n",
       " Text(333.33391719745225, 302.86285714285714, 'mse = 0.0\\nsamples = 1\\nvalue = 5.991'),\n",
       " Text(337.5988853503185, 302.86285714285714, 'mse = -0.0\\nsamples = 1\\nvalue = 6.215'),\n",
       " Text(343.99633757961783, 318.39428571428573, 'X[0] <= 0.437\\nmse = 0.03\\nsamples = 9\\nvalue = 5.793'),\n",
       " Text(341.8638535031847, 302.86285714285714, 'X[6] <= -0.508\\nmse = 0.046\\nsamples = 4\\nvalue = 5.903'),\n",
       " Text(339.7313694267516, 287.33142857142855, 'X[8] <= -0.926\\nmse = 0.018\\nsamples = 3\\nvalue = 5.8'),\n",
       " Text(337.5988853503185, 271.79999999999995, 'mse = 0.0\\nsamples = 1\\nvalue = 5.991'),\n",
       " Text(341.8638535031847, 271.79999999999995, 'mse = 0.0\\nsamples = 2\\nvalue = 5.704'),\n",
       " Text(343.99633757961783, 287.33142857142855, 'mse = 0.0\\nsamples = 1\\nvalue = 6.215'),\n",
       " Text(346.12882165605095, 302.86285714285714, 'mse = -0.0\\nsamples = 5\\nvalue = 5.704'),\n",
       " Text(348.26130573248406, 380.52, 'X[8] <= -0.096\\nmse = 0.015\\nsamples = 6\\nvalue = 7.658'),\n",
       " Text(346.12882165605095, 364.9885714285714, 'X[0] <= -0.513\\nmse = 0.002\\nsamples = 4\\nvalue = 7.575'),\n",
       " Text(343.99633757961783, 349.45714285714286, 'mse = 0.0\\nsamples = 1\\nvalue = 7.496'),\n",
       " Text(348.26130573248406, 349.45714285714286, 'X[7] <= -0.435\\nmse = 0.0\\nsamples = 3\\nvalue = 7.601'),\n",
       " Text(346.12882165605095, 333.92571428571426, 'mse = 0.0\\nsamples = 1\\nvalue = 7.601'),\n",
       " Text(350.3937898089172, 333.92571428571426, 'X[1] <= -1.301\\nmse = 0.0\\nsamples = 2\\nvalue = 7.601'),\n",
       " Text(348.26130573248406, 318.39428571428573, 'mse = 0.0\\nsamples = 1\\nvalue = 7.601'),\n",
       " Text(352.5262738853503, 318.39428571428573, 'mse = 0.0\\nsamples = 1\\nvalue = 7.601'),\n",
       " Text(350.3937898089172, 364.9885714285714, 'mse = -0.0\\nsamples = 2\\nvalue = 7.824'),\n",
       " Text(387.9121815286624, 396.0514285714286, 'X[2] <= 0.768\\nmse = 0.123\\nsamples = 41\\nvalue = 7.019'),\n",
       " Text(370.65238853503183, 380.52, 'X[3] <= 2.755\\nmse = 0.066\\nsamples = 15\\nvalue = 6.747'),\n",
       " Text(368.5199044585987, 364.9885714285714, 'X[1] <= 0.977\\nmse = 0.049\\nsamples = 14\\nvalue = 6.785'),\n",
       " Text(363.1886942675159, 349.45714285714286, 'X[1] <= 0.069\\nmse = 0.052\\nsamples = 10\\nvalue = 6.852'),\n",
       " Text(358.9237261146497, 333.92571428571426, 'X[4] <= -1.183\\nmse = 0.035\\nsamples = 7\\nvalue = 6.744'),\n",
       " Text(356.7912420382166, 318.39428571428573, 'mse = 0.0\\nsamples = 1\\nvalue = 7.09'),\n",
       " Text(361.0562101910828, 318.39428571428573, 'X[11] <= -1.797\\nmse = 0.017\\nsamples = 6\\nvalue = 6.686'),\n",
       " Text(358.9237261146497, 302.86285714285714, 'mse = 0.0\\nsamples = 1\\nvalue = 6.908'),\n",
       " Text(363.1886942675159, 302.86285714285714, 'X[1] <= -0.046\\nmse = 0.009\\nsamples = 5\\nvalue = 6.642'),\n",
       " Text(358.9237261146497, 287.33142857142855, 'X[7] <= -1.873\\nmse = 0.001\\nsamples = 3\\nvalue = 6.574'),\n",
       " Text(356.7912420382166, 271.79999999999995, 'mse = 0.0\\nsamples = 1\\nvalue = 6.62'),\n",
       " Text(361.0562101910828, 271.79999999999995, 'mse = -0.0\\nsamples = 2\\nvalue = 6.551'),\n",
       " Text(367.45366242038216, 287.33142857142855, 'X[0] <= 0.617\\nmse = 0.003\\nsamples = 2\\nvalue = 6.744'),\n",
       " Text(365.32117834394904, 271.79999999999995, 'mse = 0.0\\nsamples = 1\\nvalue = 6.685'),\n",
       " Text(369.5861464968153, 271.79999999999995, 'mse = 0.0\\nsamples = 1\\nvalue = 6.802'),\n",
       " Text(367.45366242038216, 333.92571428571426, 'X[1] <= 0.818\\nmse = 0.0\\nsamples = 3\\nvalue = 7.104'),\n",
       " Text(365.32117834394904, 318.39428571428573, 'mse = 0.0\\nsamples = 2\\nvalue = 7.09'),\n",
       " Text(369.5861464968153, 318.39428571428573, 'mse = 0.0\\nsamples = 1\\nvalue = 7.131'),\n",
       " Text(373.8511146496815, 349.45714285714286, 'X[1] <= 1.437\\nmse = 0.004\\nsamples = 4\\nvalue = 6.618'),\n",
       " Text(371.7186305732484, 333.92571428571426, 'mse = 0.0\\nsamples = 2\\nvalue = 6.551'),\n",
       " Text(375.9835987261146, 333.92571428571426, 'X[0] <= -1.186\\nmse = 0.0\\nsamples = 2\\nvalue = 6.685'),\n",
       " Text(373.8511146496815, 318.39428571428573, 'mse = 0.0\\nsamples = 1\\nvalue = 6.685'),\n",
       " Text(378.11608280254774, 318.39428571428573, 'mse = 0.0\\nsamples = 1\\nvalue = 6.685'),\n",
       " Text(372.78487261146495, 364.9885714285714, 'mse = -0.0\\nsamples = 1\\nvalue = 6.215'),\n",
       " Text(405.171974522293, 380.52, 'X[0] <= -0.578\\nmse = 0.088\\nsamples = 26\\nvalue = 7.176'),\n",
       " Text(393.0434713375796, 364.9885714285714, 'X[2] <= 2.929\\nmse = 0.034\\nsamples = 10\\nvalue = 6.958'),\n",
       " Text(388.7785031847134, 349.45714285714286, 'X[2] <= 2.277\\nmse = 0.021\\nsamples = 8\\nvalue = 6.897'),\n",
       " Text(386.64601910828026, 333.92571428571426, 'X[3] <= 1.511\\nmse = 0.017\\nsamples = 7\\nvalue = 6.928'),\n",
       " Text(382.381050955414, 318.39428571428573, 'X[3] <= 1.434\\nmse = 0.008\\nsamples = 3\\nvalue = 6.798'),\n",
       " Text(380.2485668789809, 302.86285714285714, 'X[9] <= 1.967\\nmse = 0.003\\nsamples = 2\\nvalue = 6.855'),\n",
       " Text(378.11608280254774, 287.33142857142855, 'mse = 0.0\\nsamples = 1\\nvalue = 6.802'),\n",
       " Text(382.381050955414, 287.33142857142855, 'mse = -0.0\\nsamples = 1\\nvalue = 6.908'),\n",
       " Text(384.51353503184714, 302.86285714285714, 'mse = -0.0\\nsamples = 1\\nvalue = 6.685'),\n",
       " Text(390.9109872611465, 318.39428571428573, 'X[3] <= 1.711\\nmse = 0.001\\nsamples = 4\\nvalue = 7.025'),\n",
       " Text(388.7785031847134, 302.86285714285714, 'mse = 0.0\\nsamples = 1\\nvalue = 7.09'),\n",
       " Text(393.0434713375796, 302.86285714285714, 'mse = -0.0\\nsamples = 3\\nvalue = 7.003'),\n",
       " Text(390.9109872611465, 333.92571428571426, 'mse = 0.0\\nsamples = 1\\nvalue = 6.685'),\n",
       " Text(397.30843949044583, 349.45714285714286, 'X[3] <= 1.432\\nmse = 0.012\\nsamples = 2\\nvalue = 7.202'),\n",
       " Text(395.1759554140127, 333.92571428571426, 'mse = 0.0\\nsamples = 1\\nvalue = 7.09'),\n",
       " Text(399.44092356687895, 333.92571428571426, 'mse = 0.0\\nsamples = 1\\nvalue = 7.313'),\n",
       " Text(417.30047770700634, 364.9885714285714, 'X[3] <= 2.514\\nmse = 0.073\\nsamples = 16\\nvalue = 7.312'),\n",
       " Text(410.63646496815284, 349.45714285714286, 'X[1] <= -1.253\\nmse = 0.025\\nsamples = 14\\nvalue = 7.388'),\n",
       " Text(403.70589171974524, 333.92571428571426, 'X[8] <= 1.216\\nmse = 0.004\\nsamples = 3\\nvalue = 7.582'),\n",
       " Text(401.5734076433121, 318.39428571428573, 'X[2] <= 1.578\\nmse = 0.001\\nsamples = 2\\nvalue = 7.625'),\n",
       " Text(399.44092356687895, 302.86285714285714, 'mse = 0.0\\nsamples = 1\\nvalue = 7.601'),\n",
       " Text(403.70589171974524, 302.86285714285714, 'mse = -0.0\\nsamples = 1\\nvalue = 7.65'),\n",
       " Text(405.83837579617835, 318.39428571428573, 'mse = 0.0\\nsamples = 1\\nvalue = 7.496'),\n",
       " Text(417.5670382165605, 333.92571428571426, 'X[2] <= 2.061\\nmse = 0.017\\nsamples = 11\\nvalue = 7.335'),\n",
       " Text(412.2358280254777, 318.39428571428573, 'X[1] <= 1.153\\nmse = 0.005\\nsamples = 7\\nvalue = 7.41'),\n",
       " Text(407.97085987261147, 302.86285714285714, 'X[1] <= 0.488\\nmse = 0.001\\nsamples = 4\\nvalue = 7.467'),\n",
       " Text(405.83837579617835, 287.33142857142855, 'mse = 0.0\\nsamples = 2\\nvalue = 7.438'),\n",
       " Text(410.1033439490446, 287.33142857142855, 'mse = -0.0\\nsamples = 2\\nvalue = 7.496'),\n",
       " Text(416.50079617834393, 302.86285714285714, 'X[5] <= -1.81\\nmse = 0.001\\nsamples = 3\\nvalue = 7.335'),\n",
       " Text(414.3683121019108, 287.33142857142855, 'mse = 0.0\\nsamples = 1\\nvalue = 7.378'),\n",
       " Text(418.63328025477705, 287.33142857142855, 'mse = -0.0\\nsamples = 2\\nvalue = 7.313'),\n",
       " Text(422.8982484076433, 318.39428571428573, 'X[11] <= -1.546\\nmse = 0.011\\nsamples = 4\\nvalue = 7.202'),\n",
       " Text(420.76576433121016, 302.86285714285714, 'mse = 0.0\\nsamples = 1\\nvalue = 7.378'),\n",
       " Text(425.03073248407645, 302.86285714285714, 'X[7] <= 0.144\\nmse = 0.001\\nsamples = 3\\nvalue = 7.143'),\n",
       " Text(422.8982484076433, 287.33142857142855, 'mse = 0.0\\nsamples = 2\\nvalue = 7.17'),\n",
       " Text(427.16321656050957, 287.33142857142855, 'mse = 0.0\\nsamples = 1\\nvalue = 7.09'),\n",
       " Text(423.9644904458599, 349.45714285714286, 'X[3] <= 2.597\\nmse = 0.094\\nsamples = 2\\nvalue = 6.784'),\n",
       " Text(421.8320063694267, 333.92571428571426, 'mse = 0.0\\nsamples = 1\\nvalue = 6.477'),\n",
       " Text(426.096974522293, 333.92571428571426, 'mse = -0.0\\nsamples = 1\\nvalue = 7.09'),\n",
       " Text(687.8364222824193, 411.58285714285716, 'X[6] <= 0.792\\nmse = 0.275\\nsamples = 268\\nvalue = 5.827'),\n",
       " Text(614.3427092145203, 396.0514285714286, 'X[5] <= -0.425\\nmse = 0.253\\nsamples = 217\\nvalue = 5.912'),\n",
       " Text(548.3014318769905, 380.52, 'X[4] <= 0.999\\nmse = 0.352\\nsamples = 5\\nvalue = 7.088'),\n",
       " Text(546.1689478005574, 364.9885714285714, 'X[1] <= -0.05\\nmse = 0.064\\nsamples = 4\\nvalue = 7.362'),\n",
       " Text(541.9039796476911, 349.45714285714286, 'X[1] <= -0.711\\nmse = 0.015\\nsamples = 2\\nvalue = 7.124'),\n",
       " Text(539.7714955712579, 333.92571428571426, 'mse = 0.0\\nsamples = 1\\nvalue = 7.003'),\n",
       " Text(544.0364637241242, 333.92571428571426, 'mse = -0.0\\nsamples = 1\\nvalue = 7.244'),\n",
       " Text(550.4339159534236, 349.45714285714286, 'X[9] <= 0.942\\nmse = 0.0\\nsamples = 2\\nvalue = 7.601'),\n",
       " Text(548.3014318769905, 333.92571428571426, 'mse = 0.0\\nsamples = 1\\nvalue = 7.601'),\n",
       " Text(552.5664000298567, 333.92571428571426, 'mse = 0.0\\nsamples = 1\\nvalue = 7.601'),\n",
       " Text(550.4339159534236, 364.9885714285714, 'mse = 0.0\\nsamples = 1\\nvalue = 5.991'),\n",
       " Text(680.3839865520501, 380.52, 'X[2] <= 1.687\\nmse = 0.218\\nsamples = 212\\nvalue = 5.885'),\n",
       " Text(636.3564683270303, 364.9885714285714, 'X[6] <= 0.57\\nmse = 0.202\\nsamples = 209\\nvalue = 5.869'),\n",
       " Text(558.963852259156, 349.45714285714286, 'X[3] <= 2.046\\nmse = 0.206\\nsamples = 131\\nvalue = 5.786'),\n",
       " Text(556.8313681827229, 333.92571428571426, 'X[6] <= 0.057\\nmse = 0.189\\nsamples = 130\\nvalue = 5.775'),\n",
       " Text(468.98614400875795, 318.39428571428573, 'X[8] <= -1.194\\nmse = 0.17\\nsamples = 111\\nvalue = 5.823'),\n",
       " Text(435.69315286624203, 302.86285714285714, 'X[8] <= -2.248\\nmse = 0.194\\nsamples = 5\\nvalue = 5.358'),\n",
       " Text(431.4281847133758, 287.33142857142855, 'X[8] <= -3.413\\nmse = 0.021\\nsamples = 2\\nvalue = 5.848'),\n",
       " Text(429.2957006369427, 271.79999999999995, 'mse = 0.0\\nsamples = 1\\nvalue = 5.991'),\n",
       " Text(433.5606687898089, 271.79999999999995, 'mse = 0.0\\nsamples = 1\\nvalue = 5.704'),\n",
       " Text(439.95812101910826, 287.33142857142855, 'X[8] <= -1.487\\nmse = 0.044\\nsamples = 3\\nvalue = 5.032'),\n",
       " Text(437.82563694267515, 271.79999999999995, 'X[2] <= 0.027\\nmse = 0.012\\nsamples = 2\\nvalue = 4.899'),\n",
       " Text(435.69315286624203, 256.2685714285714, 'mse = 0.0\\nsamples = 1\\nvalue = 4.787'),\n",
       " Text(439.95812101910826, 256.2685714285714, 'mse = -0.0\\nsamples = 1\\nvalue = 5.011'),\n",
       " Text(442.0906050955414, 271.79999999999995, 'mse = -0.0\\nsamples = 1\\nvalue = 5.298'),\n",
       " Text(502.27913515127386, 302.86285714285714, 'X[1] <= 1.815\\nmse = 0.158\\nsamples = 106\\nvalue = 5.845'),\n",
       " Text(483.2825338375796, 287.33142857142855, 'X[1] <= -0.93\\nmse = 0.151\\nsamples = 104\\nvalue = 5.858'),\n",
       " Text(451.68678343949045, 271.79999999999995, 'X[3] <= -0.224\\nmse = 0.224\\nsamples = 16\\nvalue = 5.632'),\n",
       " Text(444.2230891719745, 256.2685714285714, 'X[1] <= -0.981\\nmse = 0.141\\nsamples = 12\\nvalue = 5.475'),\n",
       " Text(442.0906050955414, 240.73714285714286, 'X[2] <= -0.098\\nmse = 0.079\\nsamples = 11\\nvalue = 5.554'),\n",
       " Text(435.69315286624203, 225.20571428571427, 'X[0] <= -1.099\\nmse = 0.014\\nsamples = 4\\nvalue = 5.814'),\n",
       " Text(433.5606687898089, 209.6742857142857, 'mse = 0.0\\nsamples = 1\\nvalue = 5.991'),\n",
       " Text(437.82563694267515, 209.6742857142857, 'X[7] <= 1.078\\nmse = 0.005\\nsamples = 3\\nvalue = 5.755'),\n",
       " Text(435.69315286624203, 194.14285714285714, 'mse = 0.0\\nsamples = 2\\nvalue = 5.704'),\n",
       " Text(439.95812101910826, 194.14285714285714, 'mse = 0.0\\nsamples = 1\\nvalue = 5.858'),\n",
       " Text(448.4880573248408, 225.20571428571427, 'X[2] <= 0.518\\nmse = 0.055\\nsamples = 7\\nvalue = 5.405'),\n",
       " Text(446.3555732484076, 209.6742857142857, 'X[1] <= -1.052\\nmse = 0.026\\nsamples = 5\\nvalue = 5.285'),\n",
       " Text(444.2230891719745, 194.14285714285714, 'X[0] <= -1.099\\nmse = 0.016\\nsamples = 4\\nvalue = 5.226'),\n",
       " Text(442.0906050955414, 178.61142857142858, 'mse = 0.0\\nsamples = 1\\nvalue = 5.011'),\n",
       " Text(446.3555732484076, 178.61142857142858, 'mse = -0.0\\nsamples = 3\\nvalue = 5.298'),\n",
       " Text(448.4880573248408, 194.14285714285714, 'mse = 0.0\\nsamples = 1\\nvalue = 5.521'),\n",
       " Text(450.6205414012739, 209.6742857142857, 'mse = -0.0\\nsamples = 2\\nvalue = 5.704'),\n",
       " Text(446.3555732484076, 240.73714285714286, 'mse = -0.0\\nsamples = 1\\nvalue = 4.605'),\n",
       " Text(459.15047770700636, 256.2685714285714, 'X[0] <= -0.513\\nmse = 0.175\\nsamples = 4\\nvalue = 6.103'),\n",
       " Text(454.8855095541401, 240.73714285714286, 'X[1] <= -1.324\\nmse = 0.055\\nsamples = 2\\nvalue = 5.756'),\n",
       " Text(452.753025477707, 225.20571428571427, 'mse = 0.0\\nsamples = 1\\nvalue = 5.521'),\n",
       " Text(457.01799363057324, 225.20571428571427, 'mse = 0.0\\nsamples = 1\\nvalue = 5.991'),\n",
       " Text(463.4154458598726, 240.73714285714286, 'X[8] <= 1.048\\nmse = 0.055\\nsamples = 2\\nvalue = 6.45'),\n",
       " Text(461.2829617834395, 225.20571428571427, 'mse = 0.0\\nsamples = 1\\nvalue = 6.685'),\n",
       " Text(465.5479299363057, 225.20571428571427, 'mse = 0.0\\nsamples = 1\\nvalue = 6.215'),\n",
       " Text(514.8782842356687, 271.79999999999995, 'X[2] <= -1.378\\nmse = 0.127\\nsamples = 88\\nvalue = 5.899'),\n",
       " Text(477.80971337579615, 256.2685714285714, 'X[4] <= 0.887\\nmse = 0.132\\nsamples = 16\\nvalue = 5.706'),\n",
       " Text(471.9453821656051, 240.73714285714286, 'X[7] <= -0.117\\nmse = 0.086\\nsamples = 4\\nvalue = 6.122'),\n",
       " Text(469.812898089172, 225.20571428571427, 'X[0] <= 0.054\\nmse = 0.021\\nsamples = 2\\nvalue = 5.848'),\n",
       " Text(467.6804140127388, 209.6742857142857, 'mse = 0.0\\nsamples = 1\\nvalue = 5.991'),\n",
       " Text(471.9453821656051, 209.6742857142857, 'mse = 0.0\\nsamples = 1\\nvalue = 5.704'),\n",
       " Text(474.0778662420382, 225.20571428571427, 'mse = -0.0\\nsamples = 2\\nvalue = 6.397'),\n",
       " Text(483.67404458598725, 240.73714285714286, 'X[0] <= -0.578\\nmse = 0.071\\nsamples = 12\\nvalue = 5.567'),\n",
       " Text(478.34283439490446, 225.20571428571427, 'X[6] <= -0.713\\nmse = 0.014\\nsamples = 3\\nvalue = 5.851'),\n",
       " Text(476.21035031847134, 209.6742857142857, 'X[6] <= -1.26\\nmse = 0.004\\nsamples = 2\\nvalue = 5.925'),\n",
       " Text(474.0778662420382, 194.14285714285714, 'mse = 0.0\\nsamples = 1\\nvalue = 5.991'),\n",
       " Text(478.34283439490446, 194.14285714285714, 'mse = 0.0\\nsamples = 1\\nvalue = 5.858'),\n",
       " Text(480.4753184713376, 209.6742857142857, 'mse = 0.0\\nsamples = 1\\nvalue = 5.704'),\n",
       " Text(489.00525477707004, 225.20571428571427, 'X[7] <= 0.981\\nmse = 0.054\\nsamples = 9\\nvalue = 5.473'),\n",
       " Text(484.7402866242038, 209.6742857142857, 'X[1] <= 1.778\\nmse = 0.026\\nsamples = 7\\nvalue = 5.564'),\n",
       " Text(482.6078025477707, 194.14285714285714, 'X[6] <= -0.473\\nmse = 0.014\\nsamples = 6\\nvalue = 5.515'),\n",
       " Text(480.4753184713376, 178.61142857142858, 'X[1] <= 0.423\\nmse = 0.008\\nsamples = 5\\nvalue = 5.477'),\n",
       " Text(478.34283439490446, 163.07999999999998, 'mse = 0.0\\nsamples = 1\\nvalue = 5.298'),\n",
       " Text(482.6078025477707, 163.07999999999998, 'mse = 0.0\\nsamples = 4\\nvalue = 5.521'),\n",
       " Text(484.7402866242038, 178.61142857142858, 'mse = 0.0\\nsamples = 1\\nvalue = 5.704'),\n",
       " Text(486.8727707006369, 194.14285714285714, 'mse = -0.0\\nsamples = 1\\nvalue = 5.858'),\n",
       " Text(493.2702229299363, 209.6742857142857, 'X[1] <= 0.165\\nmse = 0.021\\nsamples = 2\\nvalue = 5.154'),\n",
       " Text(491.13773885350315, 194.14285714285714, 'mse = 0.0\\nsamples = 1\\nvalue = 5.011'),\n",
       " Text(495.40270700636944, 194.14285714285714, 'mse = 0.0\\nsamples = 1\\nvalue = 5.298'),\n",
       " Text(551.9468550955414, 256.2685714285714, 'X[1] <= -0.572\\nmse = 0.116\\nsamples = 72\\nvalue = 5.942'),\n",
       " Text(507.1313694267516, 240.73714285714286, 'X[3] <= -0.756\\nmse = 0.063\\nsamples = 10\\nvalue = 6.176'),\n",
       " Text(499.66767515923567, 225.20571428571427, 'X[1] <= -0.883\\nmse = 0.082\\nsamples = 3\\nvalue = 5.906'),\n",
       " Text(497.53519108280256, 209.6742857142857, 'mse = 0.0\\nsamples = 1\\nvalue = 6.31'),\n",
       " Text(501.8001592356688, 209.6742857142857, 'X[1] <= -0.822\\nmse = 0.0\\nsamples = 2\\nvalue = 5.704'),\n",
       " Text(499.66767515923567, 194.14285714285714, 'mse = 0.0\\nsamples = 1\\nvalue = 5.704'),\n",
       " Text(503.9326433121019, 194.14285714285714, 'mse = 0.0\\nsamples = 1\\nvalue = 5.704'),\n",
       " Text(514.5950636942675, 225.20571428571427, 'X[2] <= -0.379\\nmse = 0.01\\nsamples = 7\\nvalue = 6.292'),\n",
       " Text(510.33009554140125, 209.6742857142857, 'X[7] <= 0.665\\nmse = 0.002\\nsamples = 2\\nvalue = 6.437'),\n",
       " Text(508.19761146496813, 194.14285714285714, 'mse = 0.0\\nsamples = 1\\nvalue = 6.397'),\n",
       " Text(512.4625796178344, 194.14285714285714, 'mse = 0.0\\nsamples = 1\\nvalue = 6.477'),\n",
       " Text(518.8600318471338, 209.6742857142857, 'X[1] <= -0.861\\nmse = 0.001\\nsamples = 5\\nvalue = 6.234'),\n",
       " Text(516.7275477707007, 194.14285714285714, 'mse = 0.0\\nsamples = 1\\nvalue = 6.31'),\n",
       " Text(520.9925159235669, 194.14285714285714, 'mse = -0.0\\nsamples = 4\\nvalue = 6.215'),\n",
       " Text(596.7623407643312, 240.73714285714286, 'X[6] <= -0.473\\nmse = 0.114\\nsamples = 62\\nvalue = 5.904'),\n",
       " Text(573.9047770700637, 225.20571428571427, 'X[3] <= 0.054\\nmse = 0.105\\nsamples = 58\\nvalue = 5.875'),\n",
       " Text(546.3157643312102, 209.6742857142857, 'X[0] <= 0.778\\nmse = 0.109\\nsamples = 42\\nvalue = 5.824'),\n",
       " Text(525.2574840764331, 194.14285714285714, 'X[2] <= 0.087\\nmse = 0.115\\nsamples = 31\\nvalue = 5.766'),\n",
       " Text(506.5982484076433, 178.61142857142858, 'X[7] <= -1.336\\nmse = 0.094\\nsamples = 21\\nvalue = 5.86'),\n",
       " Text(501.2670382165605, 163.07999999999998, 'X[6] <= -0.713\\nmse = 0.002\\nsamples = 2\\nvalue = 6.262'),\n",
       " Text(499.13455414012736, 147.5485714285714, 'mse = 0.0\\nsamples = 1\\nvalue = 6.215'),\n",
       " Text(503.39952229299365, 147.5485714285714, 'mse = -0.0\\nsamples = 1\\nvalue = 6.31'),\n",
       " Text(511.9294585987261, 163.07999999999998, 'X[3] <= -1.343\\nmse = 0.085\\nsamples = 19\\nvalue = 5.818'),\n",
       " Text(507.6644904458599, 147.5485714285714, 'X[2] <= -0.374\\nmse = 0.169\\nsamples = 3\\nvalue = 6.127'),\n",
       " Text(505.53200636942677, 132.01714285714286, 'X[2] <= -0.792\\nmse = 0.021\\nsamples = 2\\nvalue = 5.848'),\n",
       " Text(503.39952229299365, 116.48571428571427, 'mse = 0.0\\nsamples = 1\\nvalue = 5.991'),\n",
       " Text(507.6644904458599, 116.48571428571427, 'mse = 0.0\\nsamples = 1\\nvalue = 5.704'),\n",
       " Text(509.796974522293, 132.01714285714286, 'mse = -0.0\\nsamples = 1\\nvalue = 6.685'),\n",
       " Text(516.1944267515923, 147.5485714285714, 'X[1] <= -0.48\\nmse = 0.048\\nsamples = 16\\nvalue = 5.76'),\n",
       " Text(514.0619426751592, 132.01714285714286, 'mse = 0.0\\nsamples = 1\\nvalue = 5.298'),\n",
       " Text(518.3269108280255, 132.01714285714286, 'X[1] <= -0.262\\nmse = 0.036\\nsamples = 15\\nvalue = 5.791'),\n",
       " Text(512.9957006369426, 116.48571428571427, 'X[2] <= -0.667\\nmse = 0.007\\nsamples = 3\\nvalue = 5.643'),\n",
       " Text(510.86321656050956, 100.95428571428567, 'mse = 0.0\\nsamples = 1\\nvalue = 5.521'),\n",
       " Text(515.1281847133758, 100.95428571428567, 'mse = 0.0\\nsamples = 2\\nvalue = 5.704'),\n",
       " Text(523.6581210191083, 116.48571428571427, 'X[7] <= 1.147\\nmse = 0.036\\nsamples = 12\\nvalue = 5.827'),\n",
       " Text(519.3931528662421, 100.95428571428567, 'X[2] <= -0.733\\nmse = 0.03\\nsamples = 10\\nvalue = 5.87'),\n",
       " Text(517.260668789809, 85.42285714285714, 'mse = 0.0\\nsamples = 1\\nvalue = 6.215'),\n",
       " Text(521.5256369426752, 85.42285714285714, 'X[1] <= -0.26\\nmse = 0.019\\nsamples = 9\\nvalue = 5.832'),\n",
       " Text(519.3931528662421, 69.89142857142855, 'mse = 0.0\\nsamples = 1\\nvalue = 6.109'),\n",
       " Text(523.6581210191083, 69.89142857142855, 'X[6] <= -1.055\\nmse = 0.01\\nsamples = 8\\nvalue = 5.798'),\n",
       " Text(521.5256369426752, 54.35999999999996, 'mse = 0.0\\nsamples = 3\\nvalue = 5.704'),\n",
       " Text(525.7906050955414, 54.35999999999996, 'X[1] <= -0.136\\nmse = 0.008\\nsamples = 5\\nvalue = 5.854'),\n",
       " Text(523.6581210191083, 38.82857142857142, 'mse = 0.0\\nsamples = 1\\nvalue = 5.704'),\n",
       " Text(527.9230891719745, 38.82857142857142, 'X[3] <= -0.852\\nmse = 0.003\\nsamples = 4\\nvalue = 5.891'),\n",
       " Text(525.7906050955414, 23.29714285714283, 'mse = 0.0\\nsamples = 1\\nvalue = 5.991'),\n",
       " Text(530.0555732484077, 23.29714285714283, 'X[2] <= -0.483\\nmse = 0.0\\nsamples = 3\\nvalue = 5.858'),\n",
       " Text(527.9230891719745, 7.765714285714239, 'mse = 0.0\\nsamples = 1\\nvalue = 5.858'),\n",
       " Text(532.1880573248408, 7.765714285714239, 'mse = -0.0\\nsamples = 2\\nvalue = 5.858'),\n",
       " Text(527.9230891719745, 100.95428571428567, 'X[7] <= 1.423\\nmse = 0.008\\nsamples = 2\\nvalue = 5.613'),\n",
       " Text(525.7906050955414, 85.42285714285714, 'mse = 0.0\\nsamples = 1\\nvalue = 5.521'),\n",
       " Text(530.0555732484077, 85.42285714285714, 'mse = 0.0\\nsamples = 1\\nvalue = 5.704'),\n",
       " Text(543.916719745223, 178.61142857142858, 'X[2] <= 0.292\\nmse = 0.101\\nsamples = 10\\nvalue = 5.568'),\n",
       " Text(536.453025477707, 163.07999999999998, 'X[7] <= 0.844\\nmse = 0.079\\nsamples = 6\\nvalue = 5.448'),\n",
       " Text(532.1880573248408, 147.5485714285714, 'X[6] <= -0.713\\nmse = 0.033\\nsamples = 4\\nvalue = 5.282'),\n",
       " Text(530.0555732484077, 132.01714285714286, 'X[6] <= -1.055\\nmse = 0.011\\nsamples = 3\\nvalue = 5.373'),\n",
       " Text(527.9230891719745, 116.48571428571427, 'mse = -0.0\\nsamples = 2\\nvalue = 5.298'),\n",
       " Text(532.1880573248408, 116.48571428571427, 'mse = -0.0\\nsamples = 1\\nvalue = 5.521'),\n",
       " Text(534.3205414012739, 132.01714285714286, 'mse = -0.0\\nsamples = 1\\nvalue = 5.011'),\n",
       " Text(540.7179936305732, 147.5485714285714, 'X[8] <= 1.023\\nmse = 0.006\\nsamples = 2\\nvalue = 5.781'),\n",
       " Text(538.5855095541401, 132.01714285714286, 'mse = 0.0\\nsamples = 1\\nvalue = 5.858'),\n",
       " Text(542.8504777070063, 132.01714285714286, 'mse = 0.0\\nsamples = 1\\nvalue = 5.704'),\n",
       " Text(551.3804140127388, 163.07999999999998, 'X[7] <= 0.537\\nmse = 0.081\\nsamples = 4\\nvalue = 5.746'),\n",
       " Text(549.2479299363057, 147.5485714285714, 'X[2] <= 0.955\\nmse = 0.018\\nsamples = 3\\nvalue = 5.896'),\n",
       " Text(547.1154458598726, 132.01714285714286, 'X[3] <= -0.506\\nmse = 0.0\\nsamples = 2\\nvalue = 5.991'),\n",
       " Text(544.9829617834395, 116.48571428571427, 'mse = 0.0\\nsamples = 1\\nvalue = 5.991'),\n",
       " Text(549.2479299363057, 116.48571428571427, 'mse = 0.0\\nsamples = 1\\nvalue = 5.991'),\n",
       " Text(551.3804140127388, 132.01714285714286, 'mse = 0.0\\nsamples = 1\\nvalue = 5.704'),\n",
       " Text(553.5128980891719, 147.5485714285714, 'mse = -0.0\\nsamples = 1\\nvalue = 5.298'),\n",
       " Text(567.3740445859872, 194.14285714285714, 'X[4] <= 0.887\\nmse = 0.056\\nsamples = 11\\nvalue = 5.986'),\n",
       " Text(562.0428343949045, 178.61142857142858, 'X[9] <= 1.639\\nmse = 0.007\\nsamples = 3\\nvalue = 6.275'),\n",
       " Text(559.9103503184713, 163.07999999999998, 'X[0] <= 1.562\\nmse = 0.0\\nsamples = 2\\nvalue = 6.215'),\n",
       " Text(557.7778662420382, 147.5485714285714, 'mse = 0.0\\nsamples = 1\\nvalue = 6.215'),\n",
       " Text(562.0428343949045, 147.5485714285714, 'mse = 0.0\\nsamples = 1\\nvalue = 6.215'),\n",
       " Text(564.1753184713376, 163.07999999999998, 'mse = 0.0\\nsamples = 1\\nvalue = 6.397'),\n",
       " Text(572.7052547770701, 178.61142857142858, 'X[3] <= -0.689\\nmse = 0.031\\nsamples = 8\\nvalue = 5.878'),\n",
       " Text(568.4402866242038, 163.07999999999998, 'X[0] <= 1.424\\nmse = 0.008\\nsamples = 2\\nvalue = 5.613'),\n",
       " Text(566.3078025477707, 147.5485714285714, 'mse = 0.0\\nsamples = 1\\nvalue = 5.521'),\n",
       " Text(570.572770700637, 147.5485714285714, 'mse = 0.0\\nsamples = 1\\nvalue = 5.704'),\n",
       " Text(576.9702229299363, 163.07999999999998, 'X[1] <= 1.148\\nmse = 0.008\\nsamples = 6\\nvalue = 5.967'),\n",
       " Text(574.8377388535032, 147.5485714285714, 'X[3] <= -0.13\\nmse = 0.004\\nsamples = 5\\nvalue = 5.938'),\n",
       " Text(570.572770700637, 132.01714285714286, 'X[2] <= -0.266\\nmse = 0.004\\nsamples = 3\\nvalue = 5.902'),\n",
       " Text(568.4402866242038, 116.48571428571427, 'mse = 0.0\\nsamples = 1\\nvalue = 5.991'),\n",
       " Text(572.7052547770701, 116.48571428571427, 'mse = 0.0\\nsamples = 2\\nvalue = 5.858'),\n",
       " Text(579.1027070063694, 132.01714285714286, 'X[1] <= 0.429\\nmse = 0.0\\nsamples = 2\\nvalue = 5.991'),\n",
       " Text(576.9702229299363, 116.48571428571427, 'mse = 0.0\\nsamples = 1\\nvalue = 5.991'),\n",
       " Text(581.2351910828025, 116.48571428571427, 'mse = 0.0\\nsamples = 1\\nvalue = 5.991'),\n",
       " Text(579.1027070063694, 147.5485714285714, 'mse = 0.0\\nsamples = 1\\nvalue = 6.109'),\n",
       " Text(601.4937898089172, 209.6742857142857, 'X[3] <= 0.89\\nmse = 0.068\\nsamples = 16\\nvalue = 6.011'),\n",
       " Text(594.0300955414012, 194.14285714285714, 'X[11] <= -1.045\\nmse = 0.028\\nsamples = 9\\nvalue = 6.131'),\n",
       " Text(591.8976114649681, 178.61142857142858, 'mse = 0.0\\nsamples = 1\\nvalue = 6.477'),\n",
       " Text(596.1625796178344, 178.61142857142858, 'X[7] <= 0.156\\nmse = 0.015\\nsamples = 8\\nvalue = 6.088'),\n",
       " Text(594.0300955414012, 163.07999999999998, 'X[3] <= 0.49\\nmse = 0.009\\nsamples = 7\\nvalue = 6.121'),\n",
       " Text(589.765127388535, 147.5485714285714, 'X[8] <= 2.134\\nmse = 0.007\\nsamples = 5\\nvalue = 6.083'),\n",
       " Text(587.6326433121019, 132.01714285714286, 'X[3] <= 0.1\\nmse = 0.003\\nsamples = 4\\nvalue = 6.05'),\n",
       " Text(585.5001592356688, 116.48571428571427, 'mse = 0.0\\nsamples = 1\\nvalue = 5.991'),\n",
       " Text(589.765127388535, 116.48571428571427, 'X[6] <= -1.688\\nmse = 0.003\\nsamples = 3\\nvalue = 6.07'),\n",
       " Text(587.6326433121019, 100.95428571428567, 'mse = 0.0\\nsamples = 1\\nvalue = 5.991'),\n",
       " Text(591.8976114649681, 100.95428571428567, 'mse = -0.0\\nsamples = 2\\nvalue = 6.109'),\n",
       " Text(591.8976114649681, 132.01714285714286, 'mse = 0.0\\nsamples = 1\\nvalue = 6.215'),\n",
       " Text(598.2950636942675, 147.5485714285714, 'X[2] <= 0.292\\nmse = 0.0\\nsamples = 2\\nvalue = 6.215'),\n",
       " Text(596.1625796178344, 132.01714285714286, 'mse = 0.0\\nsamples = 1\\nvalue = 6.215'),\n",
       " Text(600.4275477707006, 132.01714285714286, 'mse = 0.0\\nsamples = 1\\nvalue = 6.215'),\n",
       " Text(598.2950636942675, 163.07999999999998, 'mse = -0.0\\nsamples = 1\\nvalue = 5.858'),\n",
       " Text(608.9574840764332, 194.14285714285714, 'X[0] <= -0.25\\nmse = 0.077\\nsamples = 7\\nvalue = 5.857'),\n",
       " Text(604.6925159235668, 178.61142857142858, 'X[6] <= -0.833\\nmse = 0.021\\nsamples = 2\\nvalue = 6.253'),\n",
       " Text(602.5600318471337, 163.07999999999998, 'mse = 0.0\\nsamples = 1\\nvalue = 6.109'),\n",
       " Text(606.825, 163.07999999999998, 'mse = -0.0\\nsamples = 1\\nvalue = 6.397'),\n",
       " Text(613.2224522292994, 178.61142857142858, 'X[7] <= 1.287\\nmse = 0.011\\nsamples = 5\\nvalue = 5.698'),\n",
       " Text(611.0899681528663, 163.07999999999998, 'X[3] <= 1.26\\nmse = 0.004\\nsamples = 4\\nvalue = 5.742'),\n",
       " Text(608.9574840764332, 147.5485714285714, 'mse = 0.0\\nsamples = 3\\nvalue = 5.704'),\n",
       " Text(613.2224522292994, 147.5485714285714, 'mse = 0.0\\nsamples = 1\\nvalue = 5.858'),\n",
       " Text(615.3549363057325, 163.07999999999998, 'mse = 0.0\\nsamples = 1\\nvalue = 5.521'),\n",
       " Text(619.6199044585987, 225.20571428571427, 'X[0] <= -0.753\\nmse = 0.058\\nsamples = 4\\nvalue = 6.326'),\n",
       " Text(615.3549363057325, 209.6742857142857, 'X[7] <= 0.561\\nmse = 0.005\\nsamples = 2\\nvalue = 6.549'),\n",
       " Text(613.2224522292994, 194.14285714285714, 'mse = 0.0\\nsamples = 1\\nvalue = 6.62'),\n",
       " Text(617.4874203821656, 194.14285714285714, 'mse = -0.0\\nsamples = 1\\nvalue = 6.477'),\n",
       " Text(623.884872611465, 209.6742857142857, 'X[3] <= 0.151\\nmse = 0.012\\nsamples = 2\\nvalue = 6.103'),\n",
       " Text(621.7523885350319, 194.14285714285714, 'mse = 0.0\\nsamples = 1\\nvalue = 5.991'),\n",
       " Text(626.0173566878981, 194.14285714285714, 'mse = -0.0\\nsamples = 1\\nvalue = 6.215'),\n",
       " Text(521.2757364649682, 287.33142857142855, 'X[7] <= -0.326\\nmse = 0.021\\nsamples = 2\\nvalue = 5.154'),\n",
       " Text(519.1432523885351, 271.79999999999995, 'mse = 0.0\\nsamples = 1\\nvalue = 5.298'),\n",
       " Text(523.4082205414013, 271.79999999999995, 'mse = 0.0\\nsamples = 1\\nvalue = 5.011'),\n",
       " Text(644.6765923566879, 318.39428571428573, 'X[7] <= 1.69\\nmse = 0.213\\nsamples = 19\\nvalue = 5.494'),\n",
       " Text(638.8122611464968, 302.86285714285714, 'X[1] <= 1.781\\nmse = 0.161\\nsamples = 16\\nvalue = 5.61'),\n",
       " Text(633.481050955414, 287.33142857142855, 'X[1] <= 1.028\\nmse = 0.107\\nsamples = 14\\nvalue = 5.675'),\n",
       " Text(629.2160828025478, 271.79999999999995, 'X[3] <= -1.084\\nmse = 0.072\\nsamples = 11\\nvalue = 5.574'),\n",
       " Text(627.0835987261146, 256.2685714285714, 'mse = 0.0\\nsamples = 1\\nvalue = 5.011'),\n",
       " Text(631.3485668789809, 256.2685714285714, 'X[1] <= -1.091\\nmse = 0.045\\nsamples = 10\\nvalue = 5.63'),\n",
       " Text(626.0173566878981, 240.73714285714286, 'X[6] <= 0.245\\nmse = 0.016\\nsamples = 4\\nvalue = 5.776'),\n",
       " Text(623.884872611465, 225.20571428571427, 'mse = 0.0\\nsamples = 3\\nvalue = 5.704'),\n",
       " Text(628.1498407643312, 225.20571428571427, 'mse = 0.0\\nsamples = 1\\nvalue = 5.991'),\n",
       " Text(636.6797770700637, 240.73714285714286, 'X[7] <= -0.326\\nmse = 0.041\\nsamples = 6\\nvalue = 5.534'),\n",
       " Text(632.4148089171974, 225.20571428571427, 'X[3] <= -0.21\\nmse = 0.012\\nsamples = 4\\nvalue = 5.41'),\n",
       " Text(630.2823248407643, 209.6742857142857, 'mse = 0.0\\nsamples = 2\\nvalue = 5.521'),\n",
       " Text(634.5472929936305, 209.6742857142857, 'mse = -0.0\\nsamples = 2\\nvalue = 5.298'),\n",
       " Text(640.9447452229299, 225.20571428571427, 'X[1] <= -0.343\\nmse = 0.006\\nsamples = 2\\nvalue = 5.781'),\n",
       " Text(638.8122611464968, 209.6742857142857, 'mse = 0.0\\nsamples = 1\\nvalue = 5.704'),\n",
       " Text(643.077229299363, 209.6742857142857, 'mse = 0.0\\nsamples = 1\\nvalue = 5.858'),\n",
       " Text(637.7460191082803, 271.79999999999995, 'X[3] <= -0.297\\nmse = 0.058\\nsamples = 3\\nvalue = 6.044'),\n",
       " Text(635.6135350318472, 256.2685714285714, 'mse = 0.0\\nsamples = 1\\nvalue = 5.704'),\n",
       " Text(639.8785031847134, 256.2685714285714, 'mse = -0.0\\nsamples = 2\\nvalue = 6.215'),\n",
       " Text(644.1434713375796, 287.33142857142855, 'X[11] <= -1.045\\nmse = 0.302\\nsamples = 2\\nvalue = 5.154'),\n",
       " Text(642.0109872611465, 271.79999999999995, 'mse = 0.0\\nsamples = 1\\nvalue = 5.704'),\n",
       " Text(646.2759554140127, 271.79999999999995, 'mse = 0.0\\nsamples = 1\\nvalue = 4.605'),\n",
       " Text(650.540923566879, 302.86285714285714, 'X[4] <= 1.111\\nmse = 0.037\\nsamples = 3\\nvalue = 4.875'),\n",
       " Text(648.4084394904459, 287.33142857142855, 'mse = 0.0\\nsamples = 1\\nvalue = 4.605'),\n",
       " Text(652.6734076433121, 287.33142857142855, 'X[1] <= 0.753\\nmse = 0.0\\nsamples = 2\\nvalue = 5.011'),\n",
       " Text(650.540923566879, 271.79999999999995, 'mse = 0.0\\nsamples = 1\\nvalue = 5.011'),\n",
       " Text(654.8058917197452, 271.79999999999995, 'mse = 0.0\\nsamples = 1\\nvalue = 5.011'),\n",
       " Text(561.0963363355892, 333.92571428571426, 'mse = -0.0\\nsamples = 1\\nvalue = 7.313'),\n",
       " Text(713.7490843949045, 349.45714285714286, 'X[1] <= 1.838\\nmse = 0.164\\nsamples = 78\\nvalue = 6.007'),\n",
       " Text(711.6166003184713, 333.92571428571426, 'X[9] <= 1.655\\nmse = 0.156\\nsamples = 77\\nvalue = 5.995'),\n",
       " Text(693.9236464968153, 318.39428571428573, 'X[7] <= -0.435\\nmse = 0.15\\nsamples = 73\\nvalue = 5.972'),\n",
       " Text(671.3326433121019, 302.86285714285714, 'X[2] <= 0.518\\nmse = 0.095\\nsamples = 30\\nvalue = 6.085'),\n",
       " Text(664.4020700636943, 287.33142857142855, 'X[8] <= -1.003\\nmse = 0.07\\nsamples = 27\\nvalue = 6.032'),\n",
       " Text(659.0708598726114, 271.79999999999995, 'X[2] <= -0.53\\nmse = 0.055\\nsamples = 2\\nvalue = 6.45'),\n",
       " Text(656.9383757961783, 256.2685714285714, 'mse = 0.0\\nsamples = 1\\nvalue = 6.685'),\n",
       " Text(661.2033439490446, 256.2685714285714, 'mse = 0.0\\nsamples = 1\\nvalue = 6.215'),\n",
       " Text(669.733280254777, 271.79999999999995, 'X[3] <= -1.365\\nmse = 0.056\\nsamples = 25\\nvalue = 5.999'),\n",
       " Text(665.4683121019108, 256.2685714285714, 'X[8] <= 0.7\\nmse = 0.015\\nsamples = 3\\nvalue = 6.302'),\n",
       " Text(663.3358280254777, 240.73714285714286, 'mse = 0.0\\nsamples = 2\\nvalue = 6.215'),\n",
       " Text(667.6007961783439, 240.73714285714286, 'mse = 0.0\\nsamples = 1\\nvalue = 6.477'),\n",
       " Text(673.9982484076434, 256.2685714285714, 'X[8] <= 2.427\\nmse = 0.047\\nsamples = 22\\nvalue = 5.958'),\n",
       " Text(671.8657643312101, 240.73714285714286, 'X[2] <= 0.292\\nmse = 0.04\\nsamples = 21\\nvalue = 5.978'),\n",
       " Text(669.733280254777, 225.20571428571427, 'X[3] <= -1.217\\nmse = 0.031\\nsamples = 20\\nvalue = 6.001'),\n",
       " Text(662.2695859872612, 209.6742857142857, 'X[3] <= -1.297\\nmse = 0.006\\nsamples = 2\\nvalue = 5.781'),\n",
       " Text(660.137101910828, 194.14285714285714, 'mse = 0.0\\nsamples = 1\\nvalue = 5.858'),\n",
       " Text(664.4020700636943, 194.14285714285714, 'mse = 0.0\\nsamples = 1\\nvalue = 5.704'),\n",
       " Text(677.196974522293, 209.6742857142857, 'X[1] <= -0.778\\nmse = 0.027\\nsamples = 18\\nvalue = 6.026'),\n",
       " Text(668.6670382165605, 194.14285714285714, 'X[1] <= -0.871\\nmse = 0.032\\nsamples = 6\\nvalue = 5.911'),\n",
       " Text(664.4020700636943, 178.61142857142858, 'X[1] <= -1.165\\nmse = 0.012\\nsamples = 2\\nvalue = 6.103'),\n",
       " Text(662.2695859872612, 163.07999999999998, 'mse = 0.0\\nsamples = 1\\nvalue = 5.991'),\n",
       " Text(666.5345541401274, 163.07999999999998, 'mse = -0.0\\nsamples = 1\\nvalue = 6.215'),\n",
       " Text(672.9320063694267, 178.61142857142858, 'X[0] <= -0.176\\nmse = 0.014\\nsamples = 4\\nvalue = 5.814'),\n",
       " Text(670.7995222929936, 163.07999999999998, 'mse = 0.0\\nsamples = 2\\nvalue = 5.704'),\n",
       " Text(675.0644904458599, 163.07999999999998, 'X[2] <= -0.667\\nmse = 0.004\\nsamples = 2\\nvalue = 5.925'),\n",
       " Text(672.9320063694267, 147.5485714285714, 'mse = 0.0\\nsamples = 1\\nvalue = 5.858'),\n",
       " Text(677.196974522293, 147.5485714285714, 'mse = 0.0\\nsamples = 1\\nvalue = 5.991'),\n",
       " Text(685.7269108280254, 194.14285714285714, 'X[9] <= 0.511\\nmse = 0.015\\nsamples = 12\\nvalue = 6.083'),\n",
       " Text(683.5944267515923, 178.61142857142858, 'X[1] <= -0.166\\nmse = 0.011\\nsamples = 11\\nvalue = 6.104'),\n",
       " Text(681.4619426751592, 163.07999999999998, 'mse = -0.0\\nsamples = 3\\nvalue = 6.215'),\n",
       " Text(685.7269108280254, 163.07999999999998, 'X[2] <= -0.679\\nmse = 0.009\\nsamples = 8\\nvalue = 6.062'),\n",
       " Text(681.4619426751592, 147.5485714285714, 'X[1] <= 0.652\\nmse = 0.003\\nsamples = 2\\nvalue = 6.162'),\n",
       " Text(679.3294585987261, 132.01714285714286, 'mse = 0.0\\nsamples = 1\\nvalue = 6.215'),\n",
       " Text(683.5944267515923, 132.01714285714286, 'mse = 0.0\\nsamples = 1\\nvalue = 6.109'),\n",
       " Text(689.9918789808917, 147.5485714285714, 'X[0] <= 1.604\\nmse = 0.007\\nsamples = 6\\nvalue = 6.029'),\n",
       " Text(687.8593949044586, 132.01714285714286, 'mse = -0.0\\nsamples = 5\\nvalue = 5.991'),\n",
       " Text(692.1243630573248, 132.01714285714286, 'mse = 0.0\\nsamples = 1\\nvalue = 6.215'),\n",
       " Text(687.8593949044586, 178.61142857142858, 'mse = -0.0\\nsamples = 1\\nvalue = 5.858'),\n",
       " Text(673.9982484076434, 225.20571428571427, 'mse = 0.0\\nsamples = 1\\nvalue = 5.521'),\n",
       " Text(676.1307324840765, 240.73714285714286, 'mse = 0.0\\nsamples = 1\\nvalue = 5.521'),\n",
       " Text(678.2632165605096, 287.33142857142855, 'X[1] <= -0.493\\nmse = 0.08\\nsamples = 3\\nvalue = 6.558'),\n",
       " Text(676.1307324840765, 271.79999999999995, 'mse = 0.0\\nsamples = 1\\nvalue = 6.908'),\n",
       " Text(680.3957006369427, 271.79999999999995, 'X[3] <= 1.606\\nmse = 0.028\\nsamples = 2\\nvalue = 6.383'),\n",
       " Text(678.2632165605096, 256.2685714285714, 'mse = 0.0\\nsamples = 1\\nvalue = 6.215'),\n",
       " Text(682.5281847133758, 256.2685714285714, 'mse = 0.0\\nsamples = 1\\nvalue = 6.551'),\n",
       " Text(716.5146496815287, 302.86285714285714, 'X[3] <= 1.284\\nmse = 0.173\\nsamples = 43\\nvalue = 5.893'),\n",
       " Text(714.3821656050956, 287.33142857142855, 'X[3] <= -0.363\\nmse = 0.163\\nsamples = 41\\nvalue = 5.922'),\n",
       " Text(689.9918789808917, 271.79999999999995, 'X[4] <= 0.327\\nmse = 0.119\\nsamples = 11\\nvalue = 5.71'),\n",
       " Text(687.8593949044586, 256.2685714285714, 'mse = 0.0\\nsamples = 1\\nvalue = 6.551'),\n",
       " Text(692.1243630573248, 256.2685714285714, 'X[4] <= 0.887\\nmse = 0.053\\nsamples = 10\\nvalue = 5.626'),\n",
       " Text(687.8593949044586, 240.73714285714286, 'X[1] <= -0.773\\nmse = 0.029\\nsamples = 4\\nvalue = 5.455'),\n",
       " Text(685.7269108280254, 225.20571428571427, 'mse = 0.0\\nsamples = 1\\nvalue = 5.298'),\n",
       " Text(689.9918789808917, 225.20571428571427, 'X[3] <= -0.724\\nmse = 0.027\\nsamples = 3\\nvalue = 5.508'),\n",
       " Text(687.8593949044586, 209.6742857142857, 'mse = 0.0\\nsamples = 1\\nvalue = 5.704'),\n",
       " Text(692.1243630573248, 209.6742857142857, 'X[0] <= 0.4\\nmse = 0.012\\nsamples = 2\\nvalue = 5.41'),\n",
       " Text(689.9918789808917, 194.14285714285714, 'mse = 0.0\\nsamples = 1\\nvalue = 5.298'),\n",
       " Text(694.2568471337579, 194.14285714285714, 'mse = -0.0\\nsamples = 1\\nvalue = 5.521'),\n",
       " Text(696.389331210191, 240.73714285714286, 'X[2] <= -0.418\\nmse = 0.037\\nsamples = 6\\nvalue = 5.739'),\n",
       " Text(694.2568471337579, 225.20571428571427, 'mse = 0.0\\nsamples = 2\\nvalue = 5.991'),\n",
       " Text(698.5218152866242, 225.20571428571427, 'X[1] <= 0.818\\nmse = 0.008\\nsamples = 4\\nvalue = 5.613'),\n",
       " Text(696.389331210191, 209.6742857142857, 'mse = 0.0\\nsamples = 2\\nvalue = 5.521'),\n",
       " Text(700.6542993630574, 209.6742857142857, 'X[3] <= -0.939\\nmse = 0.0\\nsamples = 2\\nvalue = 5.704'),\n",
       " Text(698.5218152866242, 194.14285714285714, 'mse = 0.0\\nsamples = 1\\nvalue = 5.704'),\n",
       " Text(702.7867834394905, 194.14285714285714, 'mse = 0.0\\nsamples = 1\\nvalue = 5.704'),\n",
       " Text(738.7724522292993, 271.79999999999995, 'X[1] <= 0.071\\nmse = 0.157\\nsamples = 30\\nvalue = 6.0'),\n",
       " Text(721.4460191082802, 256.2685714285714, 'X[1] <= -0.969\\nmse = 0.095\\nsamples = 18\\nvalue = 6.12'),\n",
       " Text(711.3167197452229, 240.73714285714286, 'X[1] <= -1.377\\nmse = 0.043\\nsamples = 5\\nvalue = 5.837'),\n",
       " Text(709.1842356687898, 225.20571428571427, 'mse = 0.0\\nsamples = 1\\nvalue = 6.109'),\n",
       " Text(713.449203821656, 225.20571428571427, 'X[4] <= 0.887\\nmse = 0.031\\nsamples = 4\\nvalue = 5.769'),\n",
       " Text(709.1842356687898, 209.6742857142857, 'X[0] <= 1.526\\nmse = 0.004\\nsamples = 2\\nvalue = 5.925'),\n",
       " Text(707.0517515923567, 194.14285714285714, 'mse = 0.0\\nsamples = 1\\nvalue = 5.991'),\n",
       " Text(711.3167197452229, 194.14285714285714, 'mse = 0.0\\nsamples = 1\\nvalue = 5.858'),\n",
       " Text(717.7141719745223, 209.6742857142857, 'X[0] <= 0.031\\nmse = 0.008\\nsamples = 2\\nvalue = 5.613'),\n",
       " Text(715.5816878980892, 194.14285714285714, 'mse = 0.0\\nsamples = 1\\nvalue = 5.704'),\n",
       " Text(719.8466560509554, 194.14285714285714, 'mse = 0.0\\nsamples = 1\\nvalue = 5.521'),\n",
       " Text(731.5753184713376, 240.73714285714286, 'X[0] <= -0.458\\nmse = 0.073\\nsamples = 13\\nvalue = 6.228'),\n",
       " Text(724.1116242038216, 225.20571428571427, 'X[7] <= 0.342\\nmse = 0.029\\nsamples = 3\\nvalue = 5.935'),\n",
       " Text(721.9791401273885, 209.6742857142857, 'mse = 0.0\\nsamples = 1\\nvalue = 5.704'),\n",
       " Text(726.2441082802547, 209.6742857142857, 'X[2] <= 0.649\\nmse = 0.003\\nsamples = 2\\nvalue = 6.05'),\n",
       " Text(724.1116242038216, 194.14285714285714, 'mse = 0.0\\nsamples = 1\\nvalue = 6.109'),\n",
       " Text(728.3765923566879, 194.14285714285714, 'mse = 0.0\\nsamples = 1\\nvalue = 5.991'),\n",
       " Text(739.0390127388534, 225.20571428571427, 'X[2] <= -1.461\\nmse = 0.053\\nsamples = 10\\nvalue = 6.316'),\n",
       " Text(734.7740445859872, 209.6742857142857, 'X[0] <= 0.7\\nmse = 0.12\\nsamples = 2\\nvalue = 6.561'),\n",
       " Text(732.6415605095541, 194.14285714285714, 'mse = 0.0\\nsamples = 1\\nvalue = 6.215'),\n",
       " Text(736.9065286624203, 194.14285714285714, 'mse = 0.0\\nsamples = 1\\nvalue = 6.908'),\n",
       " Text(743.3039808917198, 209.6742857142857, 'X[3] <= -0.268\\nmse = 0.017\\nsamples = 8\\nvalue = 6.255'),\n",
       " Text(741.1714968152866, 194.14285714285714, 'mse = 0.0\\nsamples = 1\\nvalue = 5.991'),\n",
       " Text(745.4364649681529, 194.14285714285714, 'X[0] <= 0.552\\nmse = 0.008\\nsamples = 7\\nvalue = 6.293'),\n",
       " Text(743.3039808917198, 178.61142857142858, 'mse = 0.0\\nsamples = 2\\nvalue = 6.397'),\n",
       " Text(747.568949044586, 178.61142857142858, 'X[11] <= -3.657\\nmse = 0.005\\nsamples = 5\\nvalue = 6.251'),\n",
       " Text(745.4364649681529, 163.07999999999998, 'mse = 0.0\\nsamples = 1\\nvalue = 6.397'),\n",
       " Text(749.7014331210191, 163.07999999999998, 'mse = -0.0\\nsamples = 4\\nvalue = 6.215'),\n",
       " Text(756.0988853503185, 256.2685714285714, 'X[3] <= 0.133\\nmse = 0.195\\nsamples = 12\\nvalue = 5.82'),\n",
       " Text(751.8339171974523, 240.73714285714286, 'X[1] <= 1.161\\nmse = 0.012\\nsamples = 3\\nvalue = 6.363'),\n",
       " Text(749.7014331210191, 225.20571428571427, 'X[3] <= -0.076\\nmse = 0.002\\nsamples = 2\\nvalue = 6.437'),\n",
       " Text(747.568949044586, 209.6742857142857, 'mse = 0.0\\nsamples = 1\\nvalue = 6.477'),\n",
       " Text(751.8339171974523, 209.6742857142857, 'mse = 0.0\\nsamples = 1\\nvalue = 6.397'),\n",
       " Text(753.9664012738854, 225.20571428571427, 'mse = -0.0\\nsamples = 1\\nvalue = 6.215'),\n",
       " Text(760.3638535031847, 240.73714285714286, 'X[7] <= 0.342\\nmse = 0.124\\nsamples = 9\\nvalue = 5.638'),\n",
       " Text(758.2313694267516, 225.20571428571427, 'X[3] <= 0.304\\nmse = 0.059\\nsamples = 8\\nvalue = 5.544'),\n",
       " Text(756.0988853503185, 209.6742857142857, 'mse = 0.0\\nsamples = 1\\nvalue = 5.011'),\n",
       " Text(760.3638535031847, 209.6742857142857, 'X[1] <= 0.828\\nmse = 0.021\\nsamples = 7\\nvalue = 5.62'),\n",
       " Text(756.0988853503185, 194.14285714285714, 'X[0] <= 0.552\\nmse = 0.028\\nsamples = 4\\nvalue = 5.557'),\n",
       " Text(753.9664012738854, 178.61142857142858, 'mse = 0.0\\nsamples = 1\\nvalue = 5.298'),\n",
       " Text(758.2313694267516, 178.61142857142858, 'X[3] <= 0.702\\nmse = 0.007\\nsamples = 3\\nvalue = 5.643'),\n",
       " Text(756.0988853503185, 163.07999999999998, 'mse = 0.0\\nsamples = 1\\nvalue = 5.521'),\n",
       " Text(760.3638535031847, 163.07999999999998, 'mse = 0.0\\nsamples = 2\\nvalue = 5.704'),\n",
       " Text(764.628821656051, 194.14285714285714, 'X[0] <= -0.744\\nmse = 0.0\\nsamples = 3\\nvalue = 5.704'),\n",
       " Text(762.4963375796178, 178.61142857142858, 'mse = 0.0\\nsamples = 1\\nvalue = 5.704'),\n",
       " Text(766.7613057324841, 178.61142857142858, 'mse = -0.0\\nsamples = 2\\nvalue = 5.704'),\n",
       " Text(762.4963375796178, 225.20571428571427, 'mse = -0.0\\nsamples = 1\\nvalue = 6.397'),\n",
       " Text(718.6471337579618, 287.33142857142855, 'mse = -0.0\\nsamples = 2\\nvalue = 5.298'),\n",
       " Text(729.3095541401274, 318.39428571428573, 'X[2] <= -0.081\\nmse = 0.07\\nsamples = 4\\nvalue = 6.423'),\n",
       " Text(725.0445859872611, 302.86285714285714, 'X[7] <= 0.254\\nmse = 0.003\\nsamples = 2\\nvalue = 6.162'),\n",
       " Text(722.912101910828, 287.33142857142855, 'mse = 0.0\\nsamples = 1\\nvalue = 6.109'),\n",
       " Text(727.1770700636943, 287.33142857142855, 'mse = -0.0\\nsamples = 1\\nvalue = 6.215'),\n",
       " Text(733.5745222929936, 302.86285714285714, 'X[6] <= 0.672\\nmse = 0.0\\nsamples = 2\\nvalue = 6.685'),\n",
       " Text(731.4420382165605, 287.33142857142855, 'mse = 0.0\\nsamples = 1\\nvalue = 6.685'),\n",
       " Text(735.7070063694267, 287.33142857142855, 'mse = 0.0\\nsamples = 1\\nvalue = 6.685'),\n",
       " Text(715.8815684713376, 333.92571428571426, 'mse = 0.0\\nsamples = 1\\nvalue = 6.908'),\n",
       " Text(724.41150477707, 364.9885714285714, 'X[8] <= 0.787\\nmse = 0.097\\nsamples = 3\\nvalue = 6.988'),\n",
       " Text(722.2790207006369, 349.45714285714286, 'X[1] <= -1.004\\nmse = 0.001\\nsamples = 2\\nvalue = 7.207'),\n",
       " Text(720.1465366242038, 333.92571428571426, 'mse = 0.0\\nsamples = 1\\nvalue = 7.17'),\n",
       " Text(724.41150477707, 333.92571428571426, 'mse = -0.0\\nsamples = 1\\nvalue = 7.244'),\n",
       " Text(726.5439888535032, 349.45714285714286, 'mse = -0.0\\nsamples = 1\\nvalue = 6.551'),\n",
       " Text(761.3301353503184, 396.0514285714286, 'X[1] <= -1.052\\nmse = 0.203\\nsamples = 51\\nvalue = 5.462'),\n",
       " Text(742.1044585987261, 380.52, 'X[2] <= -0.418\\nmse = 0.13\\nsamples = 7\\nvalue = 5.767'),\n",
       " Text(737.8394904458598, 364.9885714285714, 'X[7] <= -2.999\\nmse = 0.036\\nsamples = 5\\nvalue = 5.581'),\n",
       " Text(735.7070063694267, 349.45714285714286, 'mse = 0.0\\nsamples = 1\\nvalue = 5.298'),\n",
       " Text(739.971974522293, 349.45714285714286, 'X[0] <= 0.884\\nmse = 0.02\\nsamples = 4\\nvalue = 5.651'),\n",
       " Text(737.8394904458598, 333.92571428571426, 'X[0] <= -0.513\\nmse = 0.007\\nsamples = 3\\nvalue = 5.582'),\n",
       " Text(735.7070063694267, 318.39428571428573, 'mse = 0.0\\nsamples = 1\\nvalue = 5.704'),\n",
       " Text(739.971974522293, 318.39428571428573, 'X[3] <= 0.144\\nmse = 0.0\\nsamples = 2\\nvalue = 5.521'),\n",
       " Text(737.8394904458598, 302.86285714285714, 'mse = 0.0\\nsamples = 1\\nvalue = 5.521'),\n",
       " Text(742.1044585987261, 302.86285714285714, 'mse = 0.0\\nsamples = 1\\nvalue = 5.521'),\n",
       " Text(742.1044585987261, 333.92571428571426, 'mse = 0.0\\nsamples = 1\\nvalue = 5.858'),\n",
       " Text(746.3694267515923, 364.9885714285714, 'X[7] <= -0.114\\nmse = 0.059\\nsamples = 2\\nvalue = 6.234'),\n",
       " Text(744.2369426751592, 349.45714285714286, 'mse = 0.0\\nsamples = 1\\nvalue = 5.991'),\n",
       " Text(748.5019108280254, 349.45714285714286, 'mse = 0.0\\nsamples = 1\\nvalue = 6.477'),\n",
       " Text(780.5558121019109, 380.52, 'X[8] <= 2.006\\nmse = 0.197\\nsamples = 44\\nvalue = 5.413'),\n",
       " Text(769.1603503184713, 364.9885714285714, 'X[1] <= -0.465\\nmse = 0.185\\nsamples = 42\\nvalue = 5.383'),\n",
       " Text(752.7668789808918, 349.45714285714286, 'X[0] <= 0.7\\nmse = 0.081\\nsamples = 6\\nvalue = 4.971'),\n",
       " Text(750.6343949044585, 333.92571428571426, 'X[1] <= -0.515\\nmse = 0.065\\nsamples = 5\\nvalue = 5.045'),\n",
       " Text(748.5019108280254, 318.39428571428573, 'X[11] <= -1.045\\nmse = 0.021\\nsamples = 4\\nvalue = 5.154'),\n",
       " Text(746.3694267515923, 302.86285714285714, 'mse = 0.0\\nsamples = 1\\nvalue = 5.011'),\n",
       " Text(750.6343949044585, 302.86285714285714, 'X[6] <= 1.442\\nmse = 0.018\\nsamples = 3\\nvalue = 5.202'),\n",
       " Text(748.5019108280254, 287.33142857142855, 'mse = 0.0\\nsamples = 2\\nvalue = 5.298'),\n",
       " Text(752.7668789808918, 287.33142857142855, 'mse = 0.0\\nsamples = 1\\nvalue = 5.011'),\n",
       " Text(752.7668789808918, 318.39428571428573, 'mse = -0.0\\nsamples = 1\\nvalue = 4.605'),\n",
       " Text(754.8993630573249, 333.92571428571426, 'mse = -0.0\\nsamples = 1\\nvalue = 4.605'),\n",
       " Text(785.5538216560509, 349.45714285714286, 'X[6] <= 1.134\\nmse = 0.17\\nsamples = 36\\nvalue = 5.452'),\n",
       " Text(761.2968152866242, 333.92571428571426, 'X[0] <= -0.513\\nmse = 0.039\\nsamples = 6\\nvalue = 5.789'),\n",
       " Text(757.031847133758, 318.39428571428573, 'X[3] <= -0.114\\nmse = 0.003\\nsamples = 2\\nvalue = 6.05'),\n",
       " Text(754.8993630573249, 302.86285714285714, 'mse = 0.0\\nsamples = 1\\nvalue = 5.991'),\n",
       " Text(759.1643312101911, 302.86285714285714, 'mse = 0.0\\nsamples = 1\\nvalue = 6.109'),\n",
       " Text(765.5617834394905, 318.39428571428573, 'X[2] <= 0.313\\nmse = 0.006\\nsamples = 4\\nvalue = 5.658'),\n",
       " Text(763.4292993630573, 302.86285714285714, 'mse = 0.0\\nsamples = 3\\nvalue = 5.704'),\n",
       " Text(767.6942675159236, 302.86285714285714, 'mse = 0.0\\nsamples = 1\\nvalue = 5.521'),\n",
       " Text(809.8108280254777, 333.92571428571426, 'X[2] <= 0.292\\nmse = 0.169\\nsamples = 30\\nvalue = 5.384'),\n",
       " Text(791.1515923566878, 318.39428571428573, 'X[2] <= -0.266\\nmse = 0.144\\nsamples = 26\\nvalue = 5.442'),\n",
       " Text(771.9592356687898, 302.86285714285714, 'X[3] <= -1.114\\nmse = 0.13\\nsamples = 11\\nvalue = 5.279'),\n",
       " Text(769.8267515923567, 287.33142857142855, 'mse = 0.0\\nsamples = 1\\nvalue = 4.605'),\n",
       " Text(774.0917197452229, 287.33142857142855, 'X[1] <= 0.898\\nmse = 0.093\\nsamples = 10\\nvalue = 5.347'),\n",
       " Text(766.628025477707, 271.79999999999995, 'X[0] <= 0.073\\nmse = 0.058\\nsamples = 6\\nvalue = 5.181'),\n",
       " Text(764.4955414012738, 256.2685714285714, 'mse = 0.0\\nsamples = 2\\nvalue = 5.521'),\n",
       " Text(768.7605095541401, 256.2685714285714, 'X[0] <= 0.336\\nmse = 0.0\\nsamples = 4\\nvalue = 5.011'),\n",
       " Text(766.628025477707, 240.73714285714286, 'mse = 0.0\\nsamples = 1\\nvalue = 5.011'),\n",
       " Text(770.8929936305732, 240.73714285714286, 'X[2] <= -1.152\\nmse = 0.0\\nsamples = 3\\nvalue = 5.011'),\n",
       " Text(768.7605095541401, 225.20571428571427, 'mse = 0.0\\nsamples = 1\\nvalue = 5.011'),\n",
       " Text(773.0254777070063, 225.20571428571427, 'X[6] <= 1.442\\nmse = 0.0\\nsamples = 2\\nvalue = 5.011'),\n",
       " Text(770.8929936305732, 209.6742857142857, 'mse = 0.0\\nsamples = 1\\nvalue = 5.011'),\n",
       " Text(775.1579617834395, 209.6742857142857, 'mse = 0.0\\nsamples = 1\\nvalue = 5.011'),\n",
       " Text(781.5554140127389, 271.79999999999995, 'X[7] <= -0.495\\nmse = 0.044\\nsamples = 4\\nvalue = 5.595'),\n",
       " Text(777.2904458598726, 256.2685714285714, 'X[6] <= 1.528\\nmse = 0.012\\nsamples = 2\\nvalue = 5.41'),\n",
       " Text(775.1579617834395, 240.73714285714286, 'mse = 0.0\\nsamples = 1\\nvalue = 5.298'),\n",
       " Text(779.4229299363058, 240.73714285714286, 'mse = -0.0\\nsamples = 1\\nvalue = 5.521'),\n",
       " Text(785.8203821656051, 256.2685714285714, 'X[0] <= 0.031\\nmse = 0.006\\nsamples = 2\\nvalue = 5.781'),\n",
       " Text(783.687898089172, 240.73714285714286, 'mse = 0.0\\nsamples = 1\\nvalue = 5.704'),\n",
       " Text(787.9528662420382, 240.73714285714286, 'mse = 0.0\\nsamples = 1\\nvalue = 5.858'),\n",
       " Text(810.343949044586, 302.86285714285714, 'X[3] <= -0.243\\nmse = 0.12\\nsamples = 15\\nvalue = 5.562'),\n",
       " Text(802.88025477707, 287.33142857142855, 'X[7] <= -0.326\\nmse = 0.084\\nsamples = 13\\nvalue = 5.479'),\n",
       " Text(794.3503184713376, 271.79999999999995, 'X[3] <= -1.258\\nmse = 0.055\\nsamples = 9\\nvalue = 5.598'),\n",
       " Text(792.2178343949045, 256.2685714285714, 'mse = 0.0\\nsamples = 1\\nvalue = 6.109'),\n",
       " Text(796.4828025477707, 256.2685714285714, 'X[0] <= -0.513\\nmse = 0.025\\nsamples = 8\\nvalue = 5.534'),\n",
       " Text(792.2178343949045, 240.73714285714286, 'X[7] <= -0.526\\nmse = 0.008\\nsamples = 5\\nvalue = 5.631'),\n",
       " Text(790.0853503184713, 225.20571428571427, 'mse = 0.0\\nsamples = 2\\nvalue = 5.521'),\n",
       " Text(794.3503184713376, 225.20571428571427, 'mse = 0.0\\nsamples = 3\\nvalue = 5.704'),\n",
       " Text(800.7477707006369, 240.73714285714286, 'X[6] <= 1.442\\nmse = 0.011\\nsamples = 3\\nvalue = 5.373'),\n",
       " Text(798.6152866242038, 225.20571428571427, 'mse = -0.0\\nsamples = 2\\nvalue = 5.298'),\n",
       " Text(802.88025477707, 225.20571428571427, 'mse = -0.0\\nsamples = 1\\nvalue = 5.521'),\n",
       " Text(811.4101910828025, 271.79999999999995, 'X[3] <= -1.217\\nmse = 0.046\\nsamples = 4\\nvalue = 5.21'),\n",
       " Text(807.1452229299363, 256.2685714285714, 'X[2] <= -0.098\\nmse = 0.012\\nsamples = 2\\nvalue = 5.41'),\n",
       " Text(805.0127388535032, 240.73714285714286, 'mse = 0.0\\nsamples = 1\\nvalue = 5.521'),\n",
       " Text(809.2777070063694, 240.73714285714286, 'mse = -0.0\\nsamples = 1\\nvalue = 5.298'),\n",
       " Text(815.6751592356687, 256.2685714285714, 'X[1] <= 0.221\\nmse = 0.0\\nsamples = 2\\nvalue = 5.011'),\n",
       " Text(813.5426751592356, 240.73714285714286, 'mse = 0.0\\nsamples = 1\\nvalue = 5.011'),\n",
       " Text(817.8076433121018, 240.73714285714286, 'mse = 0.0\\nsamples = 1\\nvalue = 5.011'),\n",
       " Text(817.8076433121018, 287.33142857142855, 'X[7] <= -0.495\\nmse = 0.012\\nsamples = 2\\nvalue = 6.103'),\n",
       " Text(815.6751592356687, 271.79999999999995, 'mse = 0.0\\nsamples = 1\\nvalue = 5.991'),\n",
       " Text(819.9401273885351, 271.79999999999995, 'mse = -0.0\\nsamples = 1\\nvalue = 6.215'),\n",
       " Text(828.4700636942675, 318.39428571428573, 'X[0] <= -0.25\\nmse = 0.168\\nsamples = 4\\nvalue = 5.008'),\n",
       " Text(824.2050955414013, 302.86285714285714, 'X[3] <= -0.54\\nmse = 0.012\\nsamples = 2\\nvalue = 5.41'),\n",
       " Text(822.0726114649682, 287.33142857142855, 'mse = 0.0\\nsamples = 1\\nvalue = 5.298'),\n",
       " Text(826.3375796178344, 287.33142857142855, 'mse = -0.0\\nsamples = 1\\nvalue = 5.521'),\n",
       " Text(832.7350318471338, 302.86285714285714, 'X[0] <= 0.884\\nmse = 0.0\\nsamples = 2\\nvalue = 4.605'),\n",
       " Text(830.6025477707007, 287.33142857142855, 'mse = 0.0\\nsamples = 1\\nvalue = 4.605'),\n",
       " Text(834.8675159235669, 287.33142857142855, 'mse = 0.0\\nsamples = 1\\nvalue = 4.605'),\n",
       " Text(791.9512738853504, 364.9885714285714, 'X[7] <= -0.414\\nmse = 0.032\\nsamples = 2\\nvalue = 6.036'),\n",
       " Text(789.8187898089171, 349.45714285714286, 'mse = 0.0\\nsamples = 1\\nvalue = 5.858'),\n",
       " Text(794.0837579617835, 349.45714285714286, 'mse = -0.0\\nsamples = 1\\nvalue = 6.215')]"
      ]
     },
     "execution_count": 128,
     "metadata": {},
     "output_type": "execute_result"
    },
    {
     "data": {
      "image/png": "[encoded data removed]",
      "text/plain": [
       "<Figure size 1080x576 with 1 Axes>"
      ]
     },
     "metadata": {
      "needs_background": "light"
     },
     "output_type": "display_data"
    }
   ],
   "source": [
    "from sklearn.tree import plot_tree\n",
    "plt.figure(figsize=(15,8))\n",
    "plot_tree(dt, filled=True , rounded=True)"
   ]
  },
  {
   "cell_type": "markdown",
   "metadata": {},
   "source": [
    "#### Model Preparation:"
   ]
  },
  {
   "cell_type": "code",
   "execution_count": 1167,
   "metadata": {},
   "outputs": [],
   "source": [
    "#importing libraries for model\n",
    "import sklearn\n",
    "from sklearn.linear_model import LinearRegression,Lasso,Ridge,ElasticNet\n",
    "from sklearn.model_selection import train_test_split,GridSearchCV,cross_val_score\n",
    "from sklearn.neighbors import KNeighborsRegressor\n",
    "from sklearn.tree import DecisionTreeRegressor\n",
    "from sklearn.svm import SVR\n",
    "from sklearn import model_selection\n",
    "from sklearn.metrics import r2_score,mean_absolute_error,mean_squared_error,mean_squared_log_error\n",
    "import warnings\n",
    "warnings.filterwarnings('ignore')"
   ]
  },
  {
   "cell_type": "code",
   "execution_count": 1168,
   "metadata": {},
   "outputs": [],
   "source": [
    "# preparing a method to get metric at best random state\n",
    "def max_r2_score(x,y,test_size,model):\n",
    "    max=0\n",
    "    ind=0\n",
    "    for i in range(42,100):\n",
    "        train_x,test_x,train_y,test_y=train_test_split(x,y,test_size=test_size,random_state=i)\n",
    "        model.fit(train_x,train_y)\n",
    "        pred=model.predict(test_x)\n",
    "        if(max < r2_score(test_y,pred)):\n",
    "                max=r2_score(test_y,pred)\n",
    "                ind=i\n",
    "    train_x,test_x,train_y,test_y=train_test_split(x,y,test_size=test_size,random_state=ind)\n",
    "    model.fit(train_x,train_y)\n",
    "    pred=model.predict(test_x)\n",
    "    print('max r2_score :',r2_score(test_y,pred),'at random state',ind)\n",
    "    list_r2score.append(r2_score(test_y,pred))\n",
    "    list_MSE.append(mean_squared_error(test_y,pred))\n",
    "    list_MAE.append(mean_absolute_error(test_y,pred))\n",
    "    list_RMSE.append(np.sqrt(mean_squared_error(test_y,pred)))\n",
    "    list_MSLE.append(abs(mean_squared_log_error(test_y,pred)))\n",
    "    score=cross_val_score(model,x,y,cv=5,scoring='r2')\n",
    "    #print('cross val score :',score,score.mean(),' standard deviation',score.std())\n",
    "    cross_val_r2Score.append(score.mean())"
   ]
  },
  {
   "cell_type": "code",
   "execution_count": 1169,
   "metadata": {},
   "outputs": [
    {
     "name": "stdout",
     "output_type": "stream",
     "text": [
      "********************************** LinearRegression ****************************************\n",
      "max r2_score : 0.3310084013854383 at random state 87\n",
      "********************************** DecisionTree ****************************************\n",
      "max r2_score : 0.37506562413377575 at random state 85\n",
      "********************************** KNN ****************************************\n",
      "max r2_score : 0.4121714294747514 at random state 80\n",
      "********************************** Lasso ****************************************\n",
      "max r2_score : 0.24111279581516432 at random state 79\n",
      "********************************** Ridge ****************************************\n",
      "max r2_score : 0.3310078966482698 at random state 87\n",
      "********************************** ElasticNet ****************************************\n",
      "max r2_score : -0.00043875578530339077 at random state 0\n",
      "********************************** SVR ****************************************\n",
      "max r2_score : 0.44593654981496544 at random state 46\n"
     ]
    }
   ],
   "source": [
    "list_r2score=[]\n",
    "list_MSE=[]\n",
    "list_MAE=[]\n",
    "list_RMSE=[]\n",
    "list_MSLE=[]\n",
    "cross_val_r2Score=[]\n",
    "model_list=[LinearRegression(),DecisionTreeRegressor(),KNeighborsRegressor(),Lasso(alpha=0.1),\n",
    "            Ridge(alpha=0.1),ElasticNet(),SVR()]\n",
    "for i,k in zip(model_list,['LinearRegression','DecisionTree','KNN','Lasso','Ridge','ElasticNet','SVR']):\n",
    "    print('**********************************',k,'****************************************')\n",
    "    max_r2_score(x_ss,y,0.25,i)"
   ]
  },
  {
   "cell_type": "code",
   "execution_count": 1170,
   "metadata": {},
   "outputs": [
    {
     "data": {
      "text/html": [
       "<div>\n",
       "<style scoped>\n",
       "    .dataframe tbody tr th:only-of-type {\n",
       "        vertical-align: middle;\n",
       "    }\n",
       "\n",
       "    .dataframe tbody tr th {\n",
       "        vertical-align: top;\n",
       "    }\n",
       "\n",
       "    .dataframe thead th {\n",
       "        text-align: right;\n",
       "    }\n",
       "</style>\n",
       "<table border=\"1\" class=\"dataframe\">\n",
       "  <thead>\n",
       "    <tr style=\"text-align: right;\">\n",
       "      <th></th>\n",
       "      <th>LinearReg</th>\n",
       "      <th>DecisionTree</th>\n",
       "      <th>KNN</th>\n",
       "      <th>Lasso</th>\n",
       "      <th>Ridge</th>\n",
       "      <th>ElasticNet</th>\n",
       "      <th>SVR</th>\n",
       "    </tr>\n",
       "  </thead>\n",
       "  <tbody>\n",
       "    <tr>\n",
       "      <th>R2</th>\n",
       "      <td>0.331008</td>\n",
       "      <td>0.375066</td>\n",
       "      <td>0.412171</td>\n",
       "      <td>0.241113</td>\n",
       "      <td>0.331008</td>\n",
       "      <td>-0.000439</td>\n",
       "      <td>0.445937</td>\n",
       "    </tr>\n",
       "    <tr>\n",
       "      <th>cross_val_r2Score</th>\n",
       "      <td>0.307003</td>\n",
       "      <td>0.303643</td>\n",
       "      <td>0.376347</td>\n",
       "      <td>0.228200</td>\n",
       "      <td>0.307003</td>\n",
       "      <td>-0.000911</td>\n",
       "      <td>0.415166</td>\n",
       "    </tr>\n",
       "    <tr>\n",
       "      <th>MSE</th>\n",
       "      <td>0.287896</td>\n",
       "      <td>0.271555</td>\n",
       "      <td>0.257625</td>\n",
       "      <td>0.315238</td>\n",
       "      <td>0.287896</td>\n",
       "      <td>0.419430</td>\n",
       "      <td>0.243213</td>\n",
       "    </tr>\n",
       "    <tr>\n",
       "      <th>RMSE</th>\n",
       "      <td>0.536559</td>\n",
       "      <td>0.521110</td>\n",
       "      <td>0.507568</td>\n",
       "      <td>0.561461</td>\n",
       "      <td>0.536560</td>\n",
       "      <td>0.647635</td>\n",
       "      <td>0.493166</td>\n",
       "    </tr>\n",
       "    <tr>\n",
       "      <th>MAE</th>\n",
       "      <td>0.411090</td>\n",
       "      <td>0.398333</td>\n",
       "      <td>0.386863</td>\n",
       "      <td>0.438852</td>\n",
       "      <td>0.411090</td>\n",
       "      <td>0.516928</td>\n",
       "      <td>0.377106</td>\n",
       "    </tr>\n",
       "    <tr>\n",
       "      <th>MS_log_error</th>\n",
       "      <td>0.005853</td>\n",
       "      <td>0.005738</td>\n",
       "      <td>0.005216</td>\n",
       "      <td>0.006299</td>\n",
       "      <td>0.005853</td>\n",
       "      <td>0.008475</td>\n",
       "      <td>0.004913</td>\n",
       "    </tr>\n",
       "  </tbody>\n",
       "</table>\n",
       "</div>"
      ],
      "text/plain": [
       "                   LinearReg  DecisionTree       KNN     Lasso     Ridge  \\\n",
       "R2                  0.331008      0.375066  0.412171  0.241113  0.331008   \n",
       "cross_val_r2Score   0.307003      0.303643  0.376347  0.228200  0.307003   \n",
       "MSE                 0.287896      0.271555  0.257625  0.315238  0.287896   \n",
       "RMSE                0.536559      0.521110  0.507568  0.561461  0.536560   \n",
       "MAE                 0.411090      0.398333  0.386863  0.438852  0.411090   \n",
       "MS_log_error        0.005853      0.005738  0.005216  0.006299  0.005853   \n",
       "\n",
       "                   ElasticNet       SVR  \n",
       "R2                  -0.000439  0.445937  \n",
       "cross_val_r2Score   -0.000911  0.415166  \n",
       "MSE                  0.419430  0.243213  \n",
       "RMSE                 0.647635  0.493166  \n",
       "MAE                  0.516928  0.377106  \n",
       "MS_log_error         0.008475  0.004913  "
      ]
     },
     "execution_count": 1170,
     "metadata": {},
     "output_type": "execute_result"
    }
   ],
   "source": [
    "colv=['LinearReg','DecisionTree','KNN','Lasso','Ridge','ElasticNet','SVR']\n",
    "performance_df=pd.DataFrame([list_r2score,cross_val_r2Score,list_MSE,list_RMSE,list_MAE,list_MSLE],index=['R2','cross_val_r2Score','MSE','RMSE','MAE','MS_log_error'],columns=colv)\n",
    "performance_df"
   ]
  },
  {
   "cell_type": "markdown",
   "metadata": {},
   "source": [
    "Obs: Models are not overfitted"
   ]
  },
  {
   "cell_type": "markdown",
   "metadata": {},
   "source": [
    "Best results are given by SVR till now with least MSE of 0.24 and highest r2 score of 45%"
   ]
  },
  {
   "cell_type": "markdown",
   "metadata": {},
   "source": [
    "#### Tyring Hyperparameter tuning for SVR to check if that improve the score."
   ]
  },
  {
   "cell_type": "code",
   "execution_count": 1175,
   "metadata": {},
   "outputs": [],
   "source": [
    "# making a method to perform hyper tuning using MSE as the scoring metric\n",
    "from sklearn.metrics import make_scorer\n",
    "def gridsearch(x,y,model,parameter_dictionary):\n",
    "    #kfold=model_selection.KFold(n_splits=10,random_state=rs,shuffle=True)\n",
    "        grid_cv=GridSearchCV(estimator=model,param_grid=parameter_dictionary,cv=5,scoring='neg_mean_squared_error')\n",
    "        grid_cv.fit(x,y)\n",
    "        print('\\n')   \n",
    "        print('best mean score(MSE) :',abs(grid_cv.best_score_))\n",
    "       \n",
    "        print('best Parameter :',grid_cv.best_params_)\n",
    "       "
   ]
  },
  {
   "cell_type": "code",
   "execution_count": 1176,
   "metadata": {},
   "outputs": [
    {
     "name": "stdout",
     "output_type": "stream",
     "text": [
      "\n",
      "\n",
      "best mean score(MSE) : 0.244933732719818\n",
      "best Parameter : {'C': 1, 'kernel': 'rbf'}\n"
     ]
    }
   ],
   "source": [
    "gridsearch(x_ss,y,SVR(),{'C':[0.1,1,10],'kernel':[\"linear\",\"rbf\",\"poly\"]})"
   ]
  },
  {
   "cell_type": "markdown",
   "metadata": {},
   "source": [
    "Now finding score at best parameter"
   ]
  },
  {
   "cell_type": "code",
   "execution_count": 1178,
   "metadata": {},
   "outputs": [
    {
     "name": "stdout",
     "output_type": "stream",
     "text": [
      "max r2_score : 0.44593654981496544 at random state 46\n"
     ]
    }
   ],
   "source": [
    "max_r2_score(x_ss,y,0.25,SVR(C=1,kernel='rbf'))"
   ]
  },
  {
   "cell_type": "markdown",
   "metadata": {},
   "source": [
    "OBS: MSE score is not improved"
   ]
  },
  {
   "cell_type": "markdown",
   "metadata": {},
   "source": [
    "### Now trying ensemble techniques:"
   ]
  },
  {
   "cell_type": "code",
   "execution_count": 1180,
   "metadata": {},
   "outputs": [],
   "source": [
    "from sklearn.ensemble import GradientBoostingRegressor,RandomForestRegressor,AdaBoostRegressor,BaggingRegressor,ExtraTreesRegressor\n"
   ]
  },
  {
   "cell_type": "code",
   "execution_count": 1183,
   "metadata": {},
   "outputs": [
    {
     "name": "stdout",
     "output_type": "stream",
     "text": [
      "\n",
      "\n",
      "best mean score(MSE) : 0.15104398645950182\n",
      "best Parameter : {'bootstrap': True, 'max_features': 'auto', 'min_samples_leaf': 2, 'min_samples_split': 10, 'n_estimators': 200}\n"
     ]
    }
   ],
   "source": [
    "############################  RandomForestRegressor ##########################\n",
    "n_estimators = [int(x) for x in np.linspace(start = 200, stop = 2000, num = 10)]\n",
    "# Number of features to consider at every split\n",
    "max_features = ['auto', 'sqrt']\n",
    "# Maximum number of levels in tree\n",
    "max_depth = [int(x) for x in np.linspace(10, 110, num = 11)]\n",
    "max_depth.append(None)\n",
    "# Minimum number of samples required to split a node\n",
    "min_samples_split = [2, 5, 10]\n",
    "# Minimum number of samples required at each leaf node\n",
    "min_samples_leaf = [1, 2, 4]\n",
    "# Method of selecting samples for training each tree\n",
    "bootstrap = [True, False]\n",
    "para_dict = {'n_estimators': [50,100,150,200],\n",
    "               'max_features': max_features,\n",
    "               'min_samples_split': min_samples_split,\n",
    "               'min_samples_leaf': min_samples_leaf,\n",
    "               'bootstrap': bootstrap}\n",
    "gridsearch(x_ss,y,RandomForestRegressor(),para_dict)"
   ]
  },
  {
   "cell_type": "markdown",
   "metadata": {},
   "source": [
    "Now find model state at best parameters:"
   ]
  },
  {
   "cell_type": "code",
   "execution_count": 1193,
   "metadata": {},
   "outputs": [
    {
     "name": "stdout",
     "output_type": "stream",
     "text": [
      "max r2_score : 0.6644288065946913 at random state 62\n"
     ]
    }
   ],
   "source": [
    "max_r2_score(x_ss,y,0.25,RandomForestRegressor(bootstrap='True',max_features='auto',min_samples_leaf=2,min_samples_split=10,n_estimators=2000))"
   ]
  },
  {
   "cell_type": "code",
   "execution_count": 1189,
   "metadata": {},
   "outputs": [
    {
     "name": "stdout",
     "output_type": "stream",
     "text": [
      "\n",
      "\n",
      "best mean score(MSE) : 0.13930824854321217\n",
      "best Parameter : {'learning_rate': 0.1, 'max_depth': 2, 'n_estimators': 2000, 'random_state': 1, 'subsample': 0.75}\n"
     ]
    }
   ],
   "source": [
    "para_dict={ 'n_estimators':[500,1000,2000],'learning_rate':[.001,0.01,.1],'max_depth':[1,2,4],'subsample':[.5,.75,1],'random_state':[1]}\n",
    "gridsearch(x_ss,y,GradientBoostingRegressor(),para_dict)"
   ]
  },
  {
   "cell_type": "code",
   "execution_count": 1192,
   "metadata": {},
   "outputs": [
    {
     "name": "stdout",
     "output_type": "stream",
     "text": [
      "max r2_score : 0.6886064885357481 at random state 48\n"
     ]
    }
   ],
   "source": [
    "max_r2_score(x_ss,y,0.25,GradientBoostingRegressor(n_estimators=2000,learning_rate=0.1,max_depth=2,subsample=0.75))"
   ]
  },
  {
   "cell_type": "code",
   "execution_count": 1195,
   "metadata": {},
   "outputs": [
    {
     "name": "stdout",
     "output_type": "stream",
     "text": [
      "\n",
      "\n",
      "best mean score(MSE) : 0.2628513823095952\n",
      "best Parameter : {'learning_rate': 0.01, 'loss': 'exponential', 'n_estimators': 2000}\n"
     ]
    }
   ],
   "source": [
    "para_dict={ 'n_estimators':[500,1000,2000],'learning_rate':[.001,0.01,.1],'loss' : ['linear', 'square', 'exponential']}\n",
    "gridsearch(x_ss,y,AdaBoostRegressor(),para_dict)"
   ]
  },
  {
   "cell_type": "markdown",
   "metadata": {},
   "source": [
    "####  Hence we can see that best score is given by GradientBoostingRegressor with mean MSE of 0.13 and r2_score 69%. Hence finalizing this model"
   ]
  },
  {
   "cell_type": "code",
   "execution_count": 1199,
   "metadata": {},
   "outputs": [
    {
     "name": "stdout",
     "output_type": "stream",
     "text": [
      "r2_score : 0.6888744056598269\n",
      "MSE : 0.13617748941430977\n",
      "RMSE : 0.36902234270340567\n"
     ]
    }
   ],
   "source": [
    "model=GradientBoostingRegressor(n_estimators=2000,learning_rate=0.1,max_depth=2,subsample=0.75)\n",
    "train_x,test_x,train_y,test_y=train_test_split(x_ss,y,test_size=0.25,random_state=48)\n",
    "model.fit(train_x,train_y)\n",
    "pred=model.predict(test_x)\n",
    "print('r2_score :',r2_score(test_y,pred))\n",
    "print('MSE :',mean_squared_error(test_y,pred))\n",
    "print('RMSE :',np.sqrt(mean_squared_error(test_y,pred)))\n"
   ]
  },
  {
   "cell_type": "code",
   "execution_count": 1200,
   "metadata": {},
   "outputs": [
    {
     "data": {
      "text/plain": [
       "['Restaurant_food_predictor_model.obj']"
      ]
     },
     "execution_count": 1200,
     "metadata": {},
     "output_type": "execute_result"
    }
   ],
   "source": [
    "from sklearn.externals import joblib\n",
    "joblib.dump(model,'Restaurant_food_predictor_model.obj')"
   ]
  },
  {
   "cell_type": "markdown",
   "metadata": {},
   "source": [
    "### Taking test data"
   ]
  },
  {
   "cell_type": "code",
   "execution_count": 1236,
   "metadata": {},
   "outputs": [],
   "source": [
    "test_data=rest_data_coded.iloc[12690:,:]"
   ]
  },
  {
   "cell_type": "markdown",
   "metadata": {},
   "source": [
    "#### Doing modifications on test data so that test data become same as the data on which our model was trained"
   ]
  },
  {
   "cell_type": "code",
   "execution_count": 1237,
   "metadata": {},
   "outputs": [
    {
     "data": {
      "text/html": [
       "<div>\n",
       "<style scoped>\n",
       "    .dataframe tbody tr th:only-of-type {\n",
       "        vertical-align: middle;\n",
       "    }\n",
       "\n",
       "    .dataframe tbody tr th {\n",
       "        vertical-align: top;\n",
       "    }\n",
       "\n",
       "    .dataframe thead th {\n",
       "        text-align: right;\n",
       "    }\n",
       "</style>\n",
       "<table border=\"1\" class=\"dataframe\">\n",
       "  <thead>\n",
       "    <tr style=\"text-align: right;\">\n",
       "      <th></th>\n",
       "      <th>CITY</th>\n",
       "      <th>LOCALITY</th>\n",
       "      <th>RATING</th>\n",
       "      <th>VOTES</th>\n",
       "      <th>COST</th>\n",
       "      <th>TITLE_1</th>\n",
       "      <th>TITLE_2</th>\n",
       "      <th>CUISINES_1</th>\n",
       "      <th>CUISINES_2</th>\n",
       "      <th>CUISINES_3</th>\n",
       "      <th>CUISINES_4</th>\n",
       "      <th>CUISINES_5</th>\n",
       "      <th>CUISINES_6</th>\n",
       "      <th>CUISINES_7</th>\n",
       "      <th>CUISINES_8</th>\n",
       "      <th>Days</th>\n",
       "    </tr>\n",
       "  </thead>\n",
       "  <tbody>\n",
       "    <tr>\n",
       "      <th>0</th>\n",
       "      <td>327</td>\n",
       "      <td>1307</td>\n",
       "      <td>73.699794</td>\n",
       "      <td>4.873262</td>\n",
       "      <td>1</td>\n",
       "      <td>5</td>\n",
       "      <td>54.59815</td>\n",
       "      <td>74</td>\n",
       "      <td>2.189939</td>\n",
       "      <td>2.871622</td>\n",
       "      <td>2.575510</td>\n",
       "      <td>2.140695</td>\n",
       "      <td>2.114743</td>\n",
       "      <td>1.96799</td>\n",
       "      <td>5.754603</td>\n",
       "      <td>1096.633158</td>\n",
       "    </tr>\n",
       "    <tr>\n",
       "      <th>1</th>\n",
       "      <td>281</td>\n",
       "      <td>417</td>\n",
       "      <td>66.686331</td>\n",
       "      <td>2.794682</td>\n",
       "      <td>1</td>\n",
       "      <td>23</td>\n",
       "      <td>54.59815</td>\n",
       "      <td>92</td>\n",
       "      <td>2.320596</td>\n",
       "      <td>2.971828</td>\n",
       "      <td>2.839412</td>\n",
       "      <td>2.140695</td>\n",
       "      <td>2.114743</td>\n",
       "      <td>1.96799</td>\n",
       "      <td>5.754603</td>\n",
       "      <td>1096.633158</td>\n",
       "    </tr>\n",
       "    <tr>\n",
       "      <th>2</th>\n",
       "      <td>281</td>\n",
       "      <td>760</td>\n",
       "      <td>44.701184</td>\n",
       "      <td>4.325308</td>\n",
       "      <td>1</td>\n",
       "      <td>5</td>\n",
       "      <td>54.59815</td>\n",
       "      <td>74</td>\n",
       "      <td>3.027400</td>\n",
       "      <td>1.934336</td>\n",
       "      <td>2.087798</td>\n",
       "      <td>2.140695</td>\n",
       "      <td>2.114743</td>\n",
       "      <td>1.96799</td>\n",
       "      <td>5.754603</td>\n",
       "      <td>1096.633158</td>\n",
       "    </tr>\n",
       "    <tr>\n",
       "      <th>3</th>\n",
       "      <td>132</td>\n",
       "      <td>1008</td>\n",
       "      <td>44.701184</td>\n",
       "      <td>6.165481</td>\n",
       "      <td>1</td>\n",
       "      <td>20</td>\n",
       "      <td>54.59815</td>\n",
       "      <td>15</td>\n",
       "      <td>2.258101</td>\n",
       "      <td>2.258101</td>\n",
       "      <td>2.213364</td>\n",
       "      <td>2.140695</td>\n",
       "      <td>2.114743</td>\n",
       "      <td>1.96799</td>\n",
       "      <td>5.754603</td>\n",
       "      <td>403.428793</td>\n",
       "    </tr>\n",
       "    <tr>\n",
       "      <th>4</th>\n",
       "      <td>221</td>\n",
       "      <td>557</td>\n",
       "      <td>36.598234</td>\n",
       "      <td>2.189939</td>\n",
       "      <td>1</td>\n",
       "      <td>23</td>\n",
       "      <td>54.59815</td>\n",
       "      <td>92</td>\n",
       "      <td>2.645751</td>\n",
       "      <td>2.258101</td>\n",
       "      <td>2.213364</td>\n",
       "      <td>2.140695</td>\n",
       "      <td>2.114743</td>\n",
       "      <td>1.96799</td>\n",
       "      <td>5.754603</td>\n",
       "      <td>1096.633158</td>\n",
       "    </tr>\n",
       "  </tbody>\n",
       "</table>\n",
       "</div>"
      ],
      "text/plain": [
       "   CITY  LOCALITY     RATING     VOTES  COST  TITLE_1   TITLE_2  CUISINES_1  \\\n",
       "0   327      1307  73.699794  4.873262     1        5  54.59815          74   \n",
       "1   281       417  66.686331  2.794682     1       23  54.59815          92   \n",
       "2   281       760  44.701184  4.325308     1        5  54.59815          74   \n",
       "3   132      1008  44.701184  6.165481     1       20  54.59815          15   \n",
       "4   221       557  36.598234  2.189939     1       23  54.59815          92   \n",
       "\n",
       "   CUISINES_2  CUISINES_3  CUISINES_4  CUISINES_5  CUISINES_6  CUISINES_7  \\\n",
       "0    2.189939    2.871622    2.575510    2.140695    2.114743     1.96799   \n",
       "1    2.320596    2.971828    2.839412    2.140695    2.114743     1.96799   \n",
       "2    3.027400    1.934336    2.087798    2.140695    2.114743     1.96799   \n",
       "3    2.258101    2.258101    2.213364    2.140695    2.114743     1.96799   \n",
       "4    2.645751    2.258101    2.213364    2.140695    2.114743     1.96799   \n",
       "\n",
       "   CUISINES_8         Days  \n",
       "0    5.754603  1096.633158  \n",
       "1    5.754603  1096.633158  \n",
       "2    5.754603  1096.633158  \n",
       "3    5.754603   403.428793  \n",
       "4    5.754603  1096.633158  "
      ]
     },
     "execution_count": 1237,
     "metadata": {},
     "output_type": "execute_result"
    }
   ],
   "source": [
    "for i in test_data.columns:\n",
    "    if(((test_data[i].skew())< -0.55) & (i!='COST')):\n",
    "        test_data[i]=np.e**(test_data[i])\n",
    "    if(((test_data[i].skew())> 0.55) & (i!='COST')):\n",
    "        test_data[i]=(test_data[i])**(1/4)\n",
    "test_data.head()"
   ]
  },
  {
   "cell_type": "code",
   "execution_count": 1238,
   "metadata": {},
   "outputs": [],
   "source": [
    "test_data.drop('COST',axis=1,inplace=True)\n",
    "x_test_scaled=ss.transform(train_data)"
   ]
  },
  {
   "cell_type": "code",
   "execution_count": 1240,
   "metadata": {},
   "outputs": [
    {
     "data": {
      "text/html": [
       "<div>\n",
       "<style scoped>\n",
       "    .dataframe tbody tr th:only-of-type {\n",
       "        vertical-align: middle;\n",
       "    }\n",
       "\n",
       "    .dataframe tbody tr th {\n",
       "        vertical-align: top;\n",
       "    }\n",
       "\n",
       "    .dataframe thead th {\n",
       "        text-align: right;\n",
       "    }\n",
       "</style>\n",
       "<table border=\"1\" class=\"dataframe\">\n",
       "  <thead>\n",
       "    <tr style=\"text-align: right;\">\n",
       "      <th></th>\n",
       "      <th>0</th>\n",
       "      <th>1</th>\n",
       "      <th>2</th>\n",
       "      <th>3</th>\n",
       "      <th>4</th>\n",
       "      <th>5</th>\n",
       "      <th>6</th>\n",
       "      <th>7</th>\n",
       "      <th>8</th>\n",
       "      <th>9</th>\n",
       "      <th>10</th>\n",
       "      <th>11</th>\n",
       "      <th>12</th>\n",
       "      <th>13</th>\n",
       "      <th>14</th>\n",
       "    </tr>\n",
       "  </thead>\n",
       "  <tbody>\n",
       "    <tr>\n",
       "      <th>0</th>\n",
       "      <td>1.401061</td>\n",
       "      <td>1.206723</td>\n",
       "      <td>1.510248</td>\n",
       "      <td>1.026217</td>\n",
       "      <td>-0.959435</td>\n",
       "      <td>-0.004255</td>\n",
       "      <td>0.757964</td>\n",
       "      <td>-0.582711</td>\n",
       "      <td>1.888497</td>\n",
       "      <td>2.277168</td>\n",
       "      <td>0.053899</td>\n",
       "      <td>-34.79039</td>\n",
       "      <td>-154.012603</td>\n",
       "      <td>-1.245397</td>\n",
       "      <td>0.314319</td>\n",
       "    </tr>\n",
       "    <tr>\n",
       "      <th>1</th>\n",
       "      <td>0.976740</td>\n",
       "      <td>-0.736746</td>\n",
       "      <td>1.189502</td>\n",
       "      <td>-0.748219</td>\n",
       "      <td>1.054619</td>\n",
       "      <td>-0.004255</td>\n",
       "      <td>1.373643</td>\n",
       "      <td>-0.245870</td>\n",
       "      <td>2.235847</td>\n",
       "      <td>3.944236</td>\n",
       "      <td>0.053899</td>\n",
       "      <td>-34.79039</td>\n",
       "      <td>-154.012603</td>\n",
       "      <td>-1.245397</td>\n",
       "      <td>0.314319</td>\n",
       "    </tr>\n",
       "    <tr>\n",
       "      <th>2</th>\n",
       "      <td>0.976740</td>\n",
       "      <td>0.012254</td>\n",
       "      <td>0.184058</td>\n",
       "      <td>0.558441</td>\n",
       "      <td>-0.959435</td>\n",
       "      <td>-0.004255</td>\n",
       "      <td>0.757964</td>\n",
       "      <td>1.576307</td>\n",
       "      <td>-1.360465</td>\n",
       "      <td>-0.803709</td>\n",
       "      <td>0.053899</td>\n",
       "      <td>-34.79039</td>\n",
       "      <td>-154.012603</td>\n",
       "      <td>-1.245397</td>\n",
       "      <td>0.314319</td>\n",
       "    </tr>\n",
       "    <tr>\n",
       "      <th>3</th>\n",
       "      <td>-0.397692</td>\n",
       "      <td>0.553805</td>\n",
       "      <td>0.184058</td>\n",
       "      <td>2.129354</td>\n",
       "      <td>0.718944</td>\n",
       "      <td>-0.004255</td>\n",
       "      <td>-1.260094</td>\n",
       "      <td>-0.406985</td>\n",
       "      <td>-0.238183</td>\n",
       "      <td>-0.010507</td>\n",
       "      <td>0.053899</td>\n",
       "      <td>-34.79039</td>\n",
       "      <td>-154.012603</td>\n",
       "      <td>-1.245397</td>\n",
       "      <td>-2.405070</td>\n",
       "    </tr>\n",
       "    <tr>\n",
       "      <th>4</th>\n",
       "      <td>0.423277</td>\n",
       "      <td>-0.431032</td>\n",
       "      <td>-0.186513</td>\n",
       "      <td>-1.264474</td>\n",
       "      <td>1.054619</td>\n",
       "      <td>-0.004255</td>\n",
       "      <td>1.373643</td>\n",
       "      <td>0.592397</td>\n",
       "      <td>-0.238183</td>\n",
       "      <td>-0.010507</td>\n",
       "      <td>0.053899</td>\n",
       "      <td>-34.79039</td>\n",
       "      <td>-154.012603</td>\n",
       "      <td>-1.245397</td>\n",
       "      <td>0.314319</td>\n",
       "    </tr>\n",
       "  </tbody>\n",
       "</table>\n",
       "</div>"
      ],
      "text/plain": [
       "          0         1         2         3         4         5         6  \\\n",
       "0  1.401061  1.206723  1.510248  1.026217 -0.959435 -0.004255  0.757964   \n",
       "1  0.976740 -0.736746  1.189502 -0.748219  1.054619 -0.004255  1.373643   \n",
       "2  0.976740  0.012254  0.184058  0.558441 -0.959435 -0.004255  0.757964   \n",
       "3 -0.397692  0.553805  0.184058  2.129354  0.718944 -0.004255 -1.260094   \n",
       "4  0.423277 -0.431032 -0.186513 -1.264474  1.054619 -0.004255  1.373643   \n",
       "\n",
       "          7         8         9        10        11          12        13  \\\n",
       "0 -0.582711  1.888497  2.277168  0.053899 -34.79039 -154.012603 -1.245397   \n",
       "1 -0.245870  2.235847  3.944236  0.053899 -34.79039 -154.012603 -1.245397   \n",
       "2  1.576307 -1.360465 -0.803709  0.053899 -34.79039 -154.012603 -1.245397   \n",
       "3 -0.406985 -0.238183 -0.010507  0.053899 -34.79039 -154.012603 -1.245397   \n",
       "4  0.592397 -0.238183 -0.010507  0.053899 -34.79039 -154.012603 -1.245397   \n",
       "\n",
       "         14  \n",
       "0  0.314319  \n",
       "1  0.314319  \n",
       "2  0.314319  \n",
       "3 -2.405070  \n",
       "4  0.314319  "
      ]
     },
     "execution_count": 1240,
     "metadata": {},
     "output_type": "execute_result"
    }
   ],
   "source": [
    "pd.DataFrame(x_test_scaled).head()"
   ]
  },
  {
   "cell_type": "code",
   "execution_count": 1242,
   "metadata": {},
   "outputs": [],
   "source": [
    "perdiction=joblib.load('Restaurant_food_predictor_model.obj').predict(x_test_scaled)"
   ]
  },
  {
   "cell_type": "code",
   "execution_count": 1245,
   "metadata": {},
   "outputs": [
    {
     "data": {
      "text/html": [
       "<div>\n",
       "<style scoped>\n",
       "    .dataframe tbody tr th:only-of-type {\n",
       "        vertical-align: middle;\n",
       "    }\n",
       "\n",
       "    .dataframe tbody tr th {\n",
       "        vertical-align: top;\n",
       "    }\n",
       "\n",
       "    .dataframe thead th {\n",
       "        text-align: right;\n",
       "    }\n",
       "</style>\n",
       "<table border=\"1\" class=\"dataframe\">\n",
       "  <thead>\n",
       "    <tr style=\"text-align: right;\">\n",
       "      <th></th>\n",
       "      <th>0</th>\n",
       "    </tr>\n",
       "  </thead>\n",
       "  <tbody>\n",
       "    <tr>\n",
       "      <th>0</th>\n",
       "      <td>957.579364</td>\n",
       "    </tr>\n",
       "    <tr>\n",
       "      <th>1</th>\n",
       "      <td>297.627365</td>\n",
       "    </tr>\n",
       "    <tr>\n",
       "      <th>2</th>\n",
       "      <td>636.883947</td>\n",
       "    </tr>\n",
       "    <tr>\n",
       "      <th>3</th>\n",
       "      <td>357.134286</td>\n",
       "    </tr>\n",
       "    <tr>\n",
       "      <th>4</th>\n",
       "      <td>214.346488</td>\n",
       "    </tr>\n",
       "    <tr>\n",
       "      <th>...</th>\n",
       "      <td>...</td>\n",
       "    </tr>\n",
       "    <tr>\n",
       "      <th>4226</th>\n",
       "      <td>786.737207</td>\n",
       "    </tr>\n",
       "    <tr>\n",
       "      <th>4227</th>\n",
       "      <td>494.670370</td>\n",
       "    </tr>\n",
       "    <tr>\n",
       "      <th>4228</th>\n",
       "      <td>363.430281</td>\n",
       "    </tr>\n",
       "    <tr>\n",
       "      <th>4229</th>\n",
       "      <td>254.999152</td>\n",
       "    </tr>\n",
       "    <tr>\n",
       "      <th>4230</th>\n",
       "      <td>390.595543</td>\n",
       "    </tr>\n",
       "  </tbody>\n",
       "</table>\n",
       "<p>4231 rows × 1 columns</p>\n",
       "</div>"
      ],
      "text/plain": [
       "               0\n",
       "0     957.579364\n",
       "1     297.627365\n",
       "2     636.883947\n",
       "3     357.134286\n",
       "4     214.346488\n",
       "...          ...\n",
       "4226  786.737207\n",
       "4227  494.670370\n",
       "4228  363.430281\n",
       "4229  254.999152\n",
       "4230  390.595543\n",
       "\n",
       "[4231 rows x 1 columns]"
      ]
     },
     "execution_count": 1245,
     "metadata": {},
     "output_type": "execute_result"
    }
   ],
   "source": [
    "##########   Taking anitlog of prediction since we have trained our model on log value of target value\n",
    "predicted_food_cost=pd.DataFrame(np.e**perdiction)\n",
    "predicted_food_cost"
   ]
  },
  {
   "cell_type": "code",
   "execution_count": 1246,
   "metadata": {},
   "outputs": [],
   "source": [
    "predicted_food_cost.to_csv('predicted_food_cost.csv')"
   ]
  },
  {
   "cell_type": "code",
   "execution_count": null,
   "metadata": {},
   "outputs": [],
   "source": []
  }
 ],
 "metadata": {
  "kernelspec": {
   "display_name": "Python 3",
   "language": "python",
   "name": "python3"
  },
  "language_info": {
   "codemirror_mode": {
    "name": "ipython",
    "version": 3
   },
   "file_extension": ".py",
   "mimetype": "text/x-python",
   "name": "python",
   "nbconvert_exporter": "python",
   "pygments_lexer": "ipython3",
   "version": "3.8.5"
  }
 },
 "nbformat": 4,
 "nbformat_minor": 4
}
